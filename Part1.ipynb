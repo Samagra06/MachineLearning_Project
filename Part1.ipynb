{
  "cells": [
    {
      "cell_type": "markdown",
      "metadata": {
        "id": "-3yT18aky5s_"
      },
      "source": [
        "a) Read the dataset in file1.csv into a pandas dataframe\n"
      ]
    },
    {
      "cell_type": "code",
      "execution_count": 1,
      "metadata": {
        "colab": {
          "base_uri": "https://localhost:8080/",
          "height": 206
        },
        "id": "t3YLA25Wy6rs",
        "outputId": "c8811c96-3ab7-4197-f045-a6dc7077b9ba"
      },
      "outputs": [
        {
          "output_type": "execute_result",
          "data": {
            "text/plain": [
              "     0     1     2     3     4     5     6      7     8     9     10    11  \\\n",
              "0  42.9  26.0  31.5  13.1  10.4  18.8  14.1  106.2  71.5  32.5  26.0  34.5   \n",
              "1  43.7  28.5  33.5  14.0  11.8  20.6  15.1  110.5  79.0  34.4  28.0  36.5   \n",
              "2  40.1  28.2  33.3  13.9  10.9  19.7  14.1  115.1  83.2  33.4  28.8  37.0   \n",
              "3  44.3  29.9  34.0  13.9  11.2  20.9  15.0  104.5  77.8  31.0  26.2  37.0   \n",
              "4  41.0  26.8  32.2  14.9  10.6  17.8  14.0  107.5  78.0  36.0  29.0  34.5   \n",
              "\n",
              "     12    13    14  15  16    17  \n",
              "0  36.5  23.5  16.5  21   1  65.6  \n",
              "1  37.5  24.5  17.0  23   1  71.8  \n",
              "2  37.3  21.9  16.9  28   1  80.7  \n",
              "3  34.8  23.0  16.6  23   1  72.6  \n",
              "4  35.0  22.0  16.5  23   1  71.0  "
            ],
            "text/html": [
              "\n",
              "  <div id=\"df-bdfa5291-806f-4459-ab17-3397fb050983\">\n",
              "    <div class=\"colab-df-container\">\n",
              "      <div>\n",
              "<style scoped>\n",
              "    .dataframe tbody tr th:only-of-type {\n",
              "        vertical-align: middle;\n",
              "    }\n",
              "\n",
              "    .dataframe tbody tr th {\n",
              "        vertical-align: top;\n",
              "    }\n",
              "\n",
              "    .dataframe thead th {\n",
              "        text-align: right;\n",
              "    }\n",
              "</style>\n",
              "<table border=\"1\" class=\"dataframe\">\n",
              "  <thead>\n",
              "    <tr style=\"text-align: right;\">\n",
              "      <th></th>\n",
              "      <th>0</th>\n",
              "      <th>1</th>\n",
              "      <th>2</th>\n",
              "      <th>3</th>\n",
              "      <th>4</th>\n",
              "      <th>5</th>\n",
              "      <th>6</th>\n",
              "      <th>7</th>\n",
              "      <th>8</th>\n",
              "      <th>9</th>\n",
              "      <th>10</th>\n",
              "      <th>11</th>\n",
              "      <th>12</th>\n",
              "      <th>13</th>\n",
              "      <th>14</th>\n",
              "      <th>15</th>\n",
              "      <th>16</th>\n",
              "      <th>17</th>\n",
              "    </tr>\n",
              "  </thead>\n",
              "  <tbody>\n",
              "    <tr>\n",
              "      <th>0</th>\n",
              "      <td>42.9</td>\n",
              "      <td>26.0</td>\n",
              "      <td>31.5</td>\n",
              "      <td>13.1</td>\n",
              "      <td>10.4</td>\n",
              "      <td>18.8</td>\n",
              "      <td>14.1</td>\n",
              "      <td>106.2</td>\n",
              "      <td>71.5</td>\n",
              "      <td>32.5</td>\n",
              "      <td>26.0</td>\n",
              "      <td>34.5</td>\n",
              "      <td>36.5</td>\n",
              "      <td>23.5</td>\n",
              "      <td>16.5</td>\n",
              "      <td>21</td>\n",
              "      <td>1</td>\n",
              "      <td>65.6</td>\n",
              "    </tr>\n",
              "    <tr>\n",
              "      <th>1</th>\n",
              "      <td>43.7</td>\n",
              "      <td>28.5</td>\n",
              "      <td>33.5</td>\n",
              "      <td>14.0</td>\n",
              "      <td>11.8</td>\n",
              "      <td>20.6</td>\n",
              "      <td>15.1</td>\n",
              "      <td>110.5</td>\n",
              "      <td>79.0</td>\n",
              "      <td>34.4</td>\n",
              "      <td>28.0</td>\n",
              "      <td>36.5</td>\n",
              "      <td>37.5</td>\n",
              "      <td>24.5</td>\n",
              "      <td>17.0</td>\n",
              "      <td>23</td>\n",
              "      <td>1</td>\n",
              "      <td>71.8</td>\n",
              "    </tr>\n",
              "    <tr>\n",
              "      <th>2</th>\n",
              "      <td>40.1</td>\n",
              "      <td>28.2</td>\n",
              "      <td>33.3</td>\n",
              "      <td>13.9</td>\n",
              "      <td>10.9</td>\n",
              "      <td>19.7</td>\n",
              "      <td>14.1</td>\n",
              "      <td>115.1</td>\n",
              "      <td>83.2</td>\n",
              "      <td>33.4</td>\n",
              "      <td>28.8</td>\n",
              "      <td>37.0</td>\n",
              "      <td>37.3</td>\n",
              "      <td>21.9</td>\n",
              "      <td>16.9</td>\n",
              "      <td>28</td>\n",
              "      <td>1</td>\n",
              "      <td>80.7</td>\n",
              "    </tr>\n",
              "    <tr>\n",
              "      <th>3</th>\n",
              "      <td>44.3</td>\n",
              "      <td>29.9</td>\n",
              "      <td>34.0</td>\n",
              "      <td>13.9</td>\n",
              "      <td>11.2</td>\n",
              "      <td>20.9</td>\n",
              "      <td>15.0</td>\n",
              "      <td>104.5</td>\n",
              "      <td>77.8</td>\n",
              "      <td>31.0</td>\n",
              "      <td>26.2</td>\n",
              "      <td>37.0</td>\n",
              "      <td>34.8</td>\n",
              "      <td>23.0</td>\n",
              "      <td>16.6</td>\n",
              "      <td>23</td>\n",
              "      <td>1</td>\n",
              "      <td>72.6</td>\n",
              "    </tr>\n",
              "    <tr>\n",
              "      <th>4</th>\n",
              "      <td>41.0</td>\n",
              "      <td>26.8</td>\n",
              "      <td>32.2</td>\n",
              "      <td>14.9</td>\n",
              "      <td>10.6</td>\n",
              "      <td>17.8</td>\n",
              "      <td>14.0</td>\n",
              "      <td>107.5</td>\n",
              "      <td>78.0</td>\n",
              "      <td>36.0</td>\n",
              "      <td>29.0</td>\n",
              "      <td>34.5</td>\n",
              "      <td>35.0</td>\n",
              "      <td>22.0</td>\n",
              "      <td>16.5</td>\n",
              "      <td>23</td>\n",
              "      <td>1</td>\n",
              "      <td>71.0</td>\n",
              "    </tr>\n",
              "  </tbody>\n",
              "</table>\n",
              "</div>\n",
              "      <button class=\"colab-df-convert\" onclick=\"convertToInteractive('df-bdfa5291-806f-4459-ab17-3397fb050983')\"\n",
              "              title=\"Convert this dataframe to an interactive table.\"\n",
              "              style=\"display:none;\">\n",
              "        \n",
              "  <svg xmlns=\"http://www.w3.org/2000/svg\" height=\"24px\"viewBox=\"0 0 24 24\"\n",
              "       width=\"24px\">\n",
              "    <path d=\"M0 0h24v24H0V0z\" fill=\"none\"/>\n",
              "    <path d=\"M18.56 5.44l.94 2.06.94-2.06 2.06-.94-2.06-.94-.94-2.06-.94 2.06-2.06.94zm-11 1L8.5 8.5l.94-2.06 2.06-.94-2.06-.94L8.5 2.5l-.94 2.06-2.06.94zm10 10l.94 2.06.94-2.06 2.06-.94-2.06-.94-.94-2.06-.94 2.06-2.06.94z\"/><path d=\"M17.41 7.96l-1.37-1.37c-.4-.4-.92-.59-1.43-.59-.52 0-1.04.2-1.43.59L10.3 9.45l-7.72 7.72c-.78.78-.78 2.05 0 2.83L4 21.41c.39.39.9.59 1.41.59.51 0 1.02-.2 1.41-.59l7.78-7.78 2.81-2.81c.8-.78.8-2.07 0-2.86zM5.41 20L4 18.59l7.72-7.72 1.47 1.35L5.41 20z\"/>\n",
              "  </svg>\n",
              "      </button>\n",
              "      \n",
              "  <style>\n",
              "    .colab-df-container {\n",
              "      display:flex;\n",
              "      flex-wrap:wrap;\n",
              "      gap: 12px;\n",
              "    }\n",
              "\n",
              "    .colab-df-convert {\n",
              "      background-color: #E8F0FE;\n",
              "      border: none;\n",
              "      border-radius: 50%;\n",
              "      cursor: pointer;\n",
              "      display: none;\n",
              "      fill: #1967D2;\n",
              "      height: 32px;\n",
              "      padding: 0 0 0 0;\n",
              "      width: 32px;\n",
              "    }\n",
              "\n",
              "    .colab-df-convert:hover {\n",
              "      background-color: #E2EBFA;\n",
              "      box-shadow: 0px 1px 2px rgba(60, 64, 67, 0.3), 0px 1px 3px 1px rgba(60, 64, 67, 0.15);\n",
              "      fill: #174EA6;\n",
              "    }\n",
              "\n",
              "    [theme=dark] .colab-df-convert {\n",
              "      background-color: #3B4455;\n",
              "      fill: #D2E3FC;\n",
              "    }\n",
              "\n",
              "    [theme=dark] .colab-df-convert:hover {\n",
              "      background-color: #434B5C;\n",
              "      box-shadow: 0px 1px 3px 1px rgba(0, 0, 0, 0.15);\n",
              "      filter: drop-shadow(0px 1px 2px rgba(0, 0, 0, 0.3));\n",
              "      fill: #FFFFFF;\n",
              "    }\n",
              "  </style>\n",
              "\n",
              "      <script>\n",
              "        const buttonEl =\n",
              "          document.querySelector('#df-bdfa5291-806f-4459-ab17-3397fb050983 button.colab-df-convert');\n",
              "        buttonEl.style.display =\n",
              "          google.colab.kernel.accessAllowed ? 'block' : 'none';\n",
              "\n",
              "        async function convertToInteractive(key) {\n",
              "          const element = document.querySelector('#df-bdfa5291-806f-4459-ab17-3397fb050983');\n",
              "          const dataTable =\n",
              "            await google.colab.kernel.invokeFunction('convertToInteractive',\n",
              "                                                     [key], {});\n",
              "          if (!dataTable) return;\n",
              "\n",
              "          const docLinkHtml = 'Like what you see? Visit the ' +\n",
              "            '<a target=\"_blank\" href=https://colab.research.google.com/notebooks/data_table.ipynb>data table notebook</a>'\n",
              "            + ' to learn more about interactive tables.';\n",
              "          element.innerHTML = '';\n",
              "          dataTable['output_type'] = 'display_data';\n",
              "          await google.colab.output.renderOutput(dataTable, element);\n",
              "          const docLink = document.createElement('div');\n",
              "          docLink.innerHTML = docLinkHtml;\n",
              "          element.appendChild(docLink);\n",
              "        }\n",
              "      </script>\n",
              "    </div>\n",
              "  </div>\n",
              "  "
            ]
          },
          "metadata": {},
          "execution_count": 1
        }
      ],
      "source": [
        "import pandas as pd\n",
        "import matplotlib.pyplot as plt\n",
        "import numpy as np\n",
        "%matplotlib inline\n",
        "body_description = pd.read_csv('https://raw.githubusercontent.com/Samagra06/ML/main/file1.csv',encoding='unicode_escape',index_col=False,header=None)\n",
        "body_description.head()"
      ]
    },
    {
      "cell_type": "markdown",
      "metadata": {
        "id": "rVOG7AWD43zo"
      },
      "source": [
        "b) Display the corresponding data description file desc1.txt and understand the contents of the data in file1.csv."
      ]
    },
    {
      "cell_type": "code",
      "execution_count": 2,
      "metadata": {
        "colab": {
          "base_uri": "https://localhost:8080/"
        },
        "id": "PiJN4Rk-2Soo",
        "outputId": "2975d191-5aa1-4543-f8c5-e44132bd81ac"
      },
      "outputs": [
        {
          "output_type": "stream",
          "name": "stdout",
          "text": [
            "Body measurements of 446 physically active individuals.\r\n",
            "\n",
            "\r\n",
            "\n",
            "Description\r\n",
            "\n",
            "Body girth measurements and skeletal diameter measurements, as well as age, weight and gender, are given for 446 physically active individuals - 223 men and 223 women. \r\n",
            "\n",
            "\r\n",
            "\n",
            "Format\r\n",
            "\n",
            "A data frame with 446 observations on the following 18 variables.\r\n",
            "\n",
            "\r\n",
            "\n",
            "attr1\r\n",
            "\n",
            "A numerical vector, respondent's biacromial diameter in centimeters.\r\n",
            "\n",
            "\r\n",
            "\n",
            "attr2\r\n",
            "\n",
            "A numerical vector, respondent's biiliac diameter (pelvic breadth) in centimeters.\r\n",
            "\n",
            "\r\n",
            "\n",
            "attr3\r\n",
            "\n",
            "A numerical vector, respondent's bitrochanteric diameter in centimeters.\r\n",
            "\n",
            "\r\n",
            "\n",
            "attr4\r\n",
            "\n",
            "A numerical vector, respondent's elbow diameter in centimeters, measured as sum of two elbows.\r\n",
            "\n",
            "\r\n",
            "\n",
            "attr5\r\n",
            "\n",
            "A numerical vector, respondent's wrist diameter in centimeters, measured as sum of two wrists.\r\n",
            "\n",
            "\r\n",
            "\n",
            "attr6\r\n",
            "\n",
            "A numerical vector, respondent's knee diameter in centimeters, measured as sum of two knees.\r\n",
            "\n",
            "\r\n",
            "\n",
            "attr7\r\n",
            "\n",
            "A numerical vector, respondent's ankle diameter in centimeters, measured as sum of two ankles.\r\n",
            "\n",
            "\r\n",
            "\n",
            "attr8\r\n",
            "\n",
            "A numerical vector, respondent's shoulder girth in centimeters, measured over deltoid muscles.\r\n",
            "\n",
            "\r\n",
            "\n",
            "attr9\r\n",
            "\n",
            "A numerical vector, respondent's waist girth in centimeters, measured at the narrowest part of torso below the rib cage as average of contracted and relaxed position.\r\n",
            "\n",
            "\r\n",
            "\n",
            "attr10\r\n",
            "\n",
            "A numerical vector, respondent's bicep girth in centimeters, measured when flexed as the average of right and left girths.\r\n",
            "\n",
            "\r\n",
            "\n",
            "attr11\r\n",
            "\n",
            "A numerical vector, respondent's forearm girth in centimeters, measured when extended, palm up as the average of right and left girths.\r\n",
            "\n",
            "\r\n",
            "\n",
            "attr12\r\n",
            "\n",
            "A numerical vector, respondent's knee girth in centimeters, measured as sum of two knees.\r\n",
            "\n",
            "\r\n",
            "\n",
            "attr13\r\n",
            "\n",
            "A numerical vector, respondent's calf maximum girth in centimeters, measured as average of right and left girths.\r\n",
            "\n",
            "\r\n",
            "\n",
            "attr14\r\n",
            "\n",
            "A numerical vector, respondent's ankle minimum girth in centimeters, measured as average of right and left girths.\r\n",
            "\n",
            "\r\n",
            "\n",
            "attr15\r\n",
            "\n",
            "A numerical vector, respondent's wrist minimum girth in centimeters, measured as average of right and left girths.\r\n",
            "\n",
            "\r\n",
            "\n",
            "attr16\r\n",
            "\n",
            "A numerical vector, respondent's age in years.\r\n",
            "\n",
            "\r\n",
            "\n",
            "attr17\r\n",
            "\n",
            "A categorical vector, 1 if the respondent is male, 0 if female.\r\n",
            "\n",
            "\r\n",
            "\n",
            "attr18\r\n",
            "\n",
            "A numerical vector, respondent's weight in kilograms.\r\n",
            "\n",
            "\r\n",
            "\n"
          ]
        }
      ],
      "source": [
        "import urllib.request\n",
        "data_file = urllib.request.urlopen('https://raw.githubusercontent.com/Samagra06/ML/main/desc1.txt.txt')\n",
        "\n",
        "for line in data_file:\n",
        "  decoded_line = line.decode('utf-8')\n",
        "  print(decoded_line)"
      ]
    },
    {
      "cell_type": "markdown",
      "metadata": {
        "id": "sQoq06a58Ozh"
      },
      "source": [
        "c) Replace the column names of data frame with meaningful column names, designed\n",
        "by you using the description in desc1.txt."
      ]
    },
    {
      "cell_type": "code",
      "execution_count": 3,
      "metadata": {
        "colab": {
          "base_uri": "https://localhost:8080/",
          "height": 268
        },
        "id": "PXBDz5Uc6G2L",
        "outputId": "dbcb6ea4-6f13-4df2-90f1-f66bd4e33e1a"
      },
      "outputs": [
        {
          "output_type": "execute_result",
          "data": {
            "text/plain": [
              "   biacromial diameter  pelvic breadth  bitrochanteric diameter  \\\n",
              "0                 42.9            26.0                     31.5   \n",
              "1                 43.7            28.5                     33.5   \n",
              "2                 40.1            28.2                     33.3   \n",
              "3                 44.3            29.9                     34.0   \n",
              "4                 41.0            26.8                     32.2   \n",
              "\n",
              "   elbow diameter  wrist diameter  knee diameter  ankle diameter  \\\n",
              "0            13.1            10.4           18.8            14.1   \n",
              "1            14.0            11.8           20.6            15.1   \n",
              "2            13.9            10.9           19.7            14.1   \n",
              "3            13.9            11.2           20.9            15.0   \n",
              "4            14.9            10.6           17.8            14.0   \n",
              "\n",
              "   shoulder girth  waist girth  bicep girth  forearm girth  knee girth  \\\n",
              "0           106.2         71.5         32.5           26.0        34.5   \n",
              "1           110.5         79.0         34.4           28.0        36.5   \n",
              "2           115.1         83.2         33.4           28.8        37.0   \n",
              "3           104.5         77.8         31.0           26.2        37.0   \n",
              "4           107.5         78.0         36.0           29.0        34.5   \n",
              "\n",
              "   calf maximum girth  ankle minimum girth  wrist minimum girth  age  \\\n",
              "0                36.5                 23.5                 16.5   21   \n",
              "1                37.5                 24.5                 17.0   23   \n",
              "2                37.3                 21.9                 16.9   28   \n",
              "3                34.8                 23.0                 16.6   23   \n",
              "4                35.0                 22.0                 16.5   23   \n",
              "\n",
              "   gender (male=1)  weight  \n",
              "0                1    65.6  \n",
              "1                1    71.8  \n",
              "2                1    80.7  \n",
              "3                1    72.6  \n",
              "4                1    71.0  "
            ],
            "text/html": [
              "\n",
              "  <div id=\"df-39e85553-27cb-4f4b-b653-78581bbff89a\">\n",
              "    <div class=\"colab-df-container\">\n",
              "      <div>\n",
              "<style scoped>\n",
              "    .dataframe tbody tr th:only-of-type {\n",
              "        vertical-align: middle;\n",
              "    }\n",
              "\n",
              "    .dataframe tbody tr th {\n",
              "        vertical-align: top;\n",
              "    }\n",
              "\n",
              "    .dataframe thead th {\n",
              "        text-align: right;\n",
              "    }\n",
              "</style>\n",
              "<table border=\"1\" class=\"dataframe\">\n",
              "  <thead>\n",
              "    <tr style=\"text-align: right;\">\n",
              "      <th></th>\n",
              "      <th>biacromial diameter</th>\n",
              "      <th>pelvic breadth</th>\n",
              "      <th>bitrochanteric diameter</th>\n",
              "      <th>elbow diameter</th>\n",
              "      <th>wrist diameter</th>\n",
              "      <th>knee diameter</th>\n",
              "      <th>ankle diameter</th>\n",
              "      <th>shoulder girth</th>\n",
              "      <th>waist girth</th>\n",
              "      <th>bicep girth</th>\n",
              "      <th>forearm girth</th>\n",
              "      <th>knee girth</th>\n",
              "      <th>calf maximum girth</th>\n",
              "      <th>ankle minimum girth</th>\n",
              "      <th>wrist minimum girth</th>\n",
              "      <th>age</th>\n",
              "      <th>gender (male=1)</th>\n",
              "      <th>weight</th>\n",
              "    </tr>\n",
              "  </thead>\n",
              "  <tbody>\n",
              "    <tr>\n",
              "      <th>0</th>\n",
              "      <td>42.9</td>\n",
              "      <td>26.0</td>\n",
              "      <td>31.5</td>\n",
              "      <td>13.1</td>\n",
              "      <td>10.4</td>\n",
              "      <td>18.8</td>\n",
              "      <td>14.1</td>\n",
              "      <td>106.2</td>\n",
              "      <td>71.5</td>\n",
              "      <td>32.5</td>\n",
              "      <td>26.0</td>\n",
              "      <td>34.5</td>\n",
              "      <td>36.5</td>\n",
              "      <td>23.5</td>\n",
              "      <td>16.5</td>\n",
              "      <td>21</td>\n",
              "      <td>1</td>\n",
              "      <td>65.6</td>\n",
              "    </tr>\n",
              "    <tr>\n",
              "      <th>1</th>\n",
              "      <td>43.7</td>\n",
              "      <td>28.5</td>\n",
              "      <td>33.5</td>\n",
              "      <td>14.0</td>\n",
              "      <td>11.8</td>\n",
              "      <td>20.6</td>\n",
              "      <td>15.1</td>\n",
              "      <td>110.5</td>\n",
              "      <td>79.0</td>\n",
              "      <td>34.4</td>\n",
              "      <td>28.0</td>\n",
              "      <td>36.5</td>\n",
              "      <td>37.5</td>\n",
              "      <td>24.5</td>\n",
              "      <td>17.0</td>\n",
              "      <td>23</td>\n",
              "      <td>1</td>\n",
              "      <td>71.8</td>\n",
              "    </tr>\n",
              "    <tr>\n",
              "      <th>2</th>\n",
              "      <td>40.1</td>\n",
              "      <td>28.2</td>\n",
              "      <td>33.3</td>\n",
              "      <td>13.9</td>\n",
              "      <td>10.9</td>\n",
              "      <td>19.7</td>\n",
              "      <td>14.1</td>\n",
              "      <td>115.1</td>\n",
              "      <td>83.2</td>\n",
              "      <td>33.4</td>\n",
              "      <td>28.8</td>\n",
              "      <td>37.0</td>\n",
              "      <td>37.3</td>\n",
              "      <td>21.9</td>\n",
              "      <td>16.9</td>\n",
              "      <td>28</td>\n",
              "      <td>1</td>\n",
              "      <td>80.7</td>\n",
              "    </tr>\n",
              "    <tr>\n",
              "      <th>3</th>\n",
              "      <td>44.3</td>\n",
              "      <td>29.9</td>\n",
              "      <td>34.0</td>\n",
              "      <td>13.9</td>\n",
              "      <td>11.2</td>\n",
              "      <td>20.9</td>\n",
              "      <td>15.0</td>\n",
              "      <td>104.5</td>\n",
              "      <td>77.8</td>\n",
              "      <td>31.0</td>\n",
              "      <td>26.2</td>\n",
              "      <td>37.0</td>\n",
              "      <td>34.8</td>\n",
              "      <td>23.0</td>\n",
              "      <td>16.6</td>\n",
              "      <td>23</td>\n",
              "      <td>1</td>\n",
              "      <td>72.6</td>\n",
              "    </tr>\n",
              "    <tr>\n",
              "      <th>4</th>\n",
              "      <td>41.0</td>\n",
              "      <td>26.8</td>\n",
              "      <td>32.2</td>\n",
              "      <td>14.9</td>\n",
              "      <td>10.6</td>\n",
              "      <td>17.8</td>\n",
              "      <td>14.0</td>\n",
              "      <td>107.5</td>\n",
              "      <td>78.0</td>\n",
              "      <td>36.0</td>\n",
              "      <td>29.0</td>\n",
              "      <td>34.5</td>\n",
              "      <td>35.0</td>\n",
              "      <td>22.0</td>\n",
              "      <td>16.5</td>\n",
              "      <td>23</td>\n",
              "      <td>1</td>\n",
              "      <td>71.0</td>\n",
              "    </tr>\n",
              "  </tbody>\n",
              "</table>\n",
              "</div>\n",
              "      <button class=\"colab-df-convert\" onclick=\"convertToInteractive('df-39e85553-27cb-4f4b-b653-78581bbff89a')\"\n",
              "              title=\"Convert this dataframe to an interactive table.\"\n",
              "              style=\"display:none;\">\n",
              "        \n",
              "  <svg xmlns=\"http://www.w3.org/2000/svg\" height=\"24px\"viewBox=\"0 0 24 24\"\n",
              "       width=\"24px\">\n",
              "    <path d=\"M0 0h24v24H0V0z\" fill=\"none\"/>\n",
              "    <path d=\"M18.56 5.44l.94 2.06.94-2.06 2.06-.94-2.06-.94-.94-2.06-.94 2.06-2.06.94zm-11 1L8.5 8.5l.94-2.06 2.06-.94-2.06-.94L8.5 2.5l-.94 2.06-2.06.94zm10 10l.94 2.06.94-2.06 2.06-.94-2.06-.94-.94-2.06-.94 2.06-2.06.94z\"/><path d=\"M17.41 7.96l-1.37-1.37c-.4-.4-.92-.59-1.43-.59-.52 0-1.04.2-1.43.59L10.3 9.45l-7.72 7.72c-.78.78-.78 2.05 0 2.83L4 21.41c.39.39.9.59 1.41.59.51 0 1.02-.2 1.41-.59l7.78-7.78 2.81-2.81c.8-.78.8-2.07 0-2.86zM5.41 20L4 18.59l7.72-7.72 1.47 1.35L5.41 20z\"/>\n",
              "  </svg>\n",
              "      </button>\n",
              "      \n",
              "  <style>\n",
              "    .colab-df-container {\n",
              "      display:flex;\n",
              "      flex-wrap:wrap;\n",
              "      gap: 12px;\n",
              "    }\n",
              "\n",
              "    .colab-df-convert {\n",
              "      background-color: #E8F0FE;\n",
              "      border: none;\n",
              "      border-radius: 50%;\n",
              "      cursor: pointer;\n",
              "      display: none;\n",
              "      fill: #1967D2;\n",
              "      height: 32px;\n",
              "      padding: 0 0 0 0;\n",
              "      width: 32px;\n",
              "    }\n",
              "\n",
              "    .colab-df-convert:hover {\n",
              "      background-color: #E2EBFA;\n",
              "      box-shadow: 0px 1px 2px rgba(60, 64, 67, 0.3), 0px 1px 3px 1px rgba(60, 64, 67, 0.15);\n",
              "      fill: #174EA6;\n",
              "    }\n",
              "\n",
              "    [theme=dark] .colab-df-convert {\n",
              "      background-color: #3B4455;\n",
              "      fill: #D2E3FC;\n",
              "    }\n",
              "\n",
              "    [theme=dark] .colab-df-convert:hover {\n",
              "      background-color: #434B5C;\n",
              "      box-shadow: 0px 1px 3px 1px rgba(0, 0, 0, 0.15);\n",
              "      filter: drop-shadow(0px 1px 2px rgba(0, 0, 0, 0.3));\n",
              "      fill: #FFFFFF;\n",
              "    }\n",
              "  </style>\n",
              "\n",
              "      <script>\n",
              "        const buttonEl =\n",
              "          document.querySelector('#df-39e85553-27cb-4f4b-b653-78581bbff89a button.colab-df-convert');\n",
              "        buttonEl.style.display =\n",
              "          google.colab.kernel.accessAllowed ? 'block' : 'none';\n",
              "\n",
              "        async function convertToInteractive(key) {\n",
              "          const element = document.querySelector('#df-39e85553-27cb-4f4b-b653-78581bbff89a');\n",
              "          const dataTable =\n",
              "            await google.colab.kernel.invokeFunction('convertToInteractive',\n",
              "                                                     [key], {});\n",
              "          if (!dataTable) return;\n",
              "\n",
              "          const docLinkHtml = 'Like what you see? Visit the ' +\n",
              "            '<a target=\"_blank\" href=https://colab.research.google.com/notebooks/data_table.ipynb>data table notebook</a>'\n",
              "            + ' to learn more about interactive tables.';\n",
              "          element.innerHTML = '';\n",
              "          dataTable['output_type'] = 'display_data';\n",
              "          await google.colab.output.renderOutput(dataTable, element);\n",
              "          const docLink = document.createElement('div');\n",
              "          docLink.innerHTML = docLinkHtml;\n",
              "          element.appendChild(docLink);\n",
              "        }\n",
              "      </script>\n",
              "    </div>\n",
              "  </div>\n",
              "  "
            ]
          },
          "metadata": {},
          "execution_count": 3
        }
      ],
      "source": [
        "body_description.columns = ['biacromial diameter','pelvic breadth','bitrochanteric diameter','elbow diameter','wrist diameter','knee diameter','ankle diameter','shoulder girth','waist girth','bicep girth','forearm girth','knee girth','calf maximum girth','ankle minimum girth','wrist minimum girth','age','gender (male=1)','weight']\n",
        "body_description.head()"
      ]
    },
    {
      "cell_type": "markdown",
      "metadata": {
        "id": "vR86FnXESNAv"
      },
      "source": [
        "d) \n",
        "Display the maximum, minimum, median, first quartile, third quartile information for each column in the dataframe."
      ]
    },
    {
      "cell_type": "code",
      "execution_count": 4,
      "metadata": {
        "colab": {
          "base_uri": "https://localhost:8080/",
          "height": 320
        },
        "id": "NBy0vtO3EeoC",
        "outputId": "0fa4fa9c-ccfe-42af-c1e4-28dbac41afe8"
      },
      "outputs": [
        {
          "output_type": "execute_result",
          "data": {
            "text/plain": [
              "                biacromial diameter  pelvic breadth  bitrochanteric diameter  \\\n",
              "Minimum                      32.600           18.70                     26.3   \n",
              "First Quartile               36.200           26.50                     30.6   \n",
              "Median                       38.700           27.85                     32.0   \n",
              "Thrid Quartile               41.175           29.20                     33.3   \n",
              "Maximum                      46.200           34.70                     37.8   \n",
              "\n",
              "                elbow diameter  wrist diameter  knee diameter  ankle diameter  \\\n",
              "Minimum                    9.9             8.1           15.7             9.9   \n",
              "First Quartile            12.4             9.8           17.9            12.9   \n",
              "Median                    13.2            10.5           18.7            13.8   \n",
              "Thrid Quartile            14.4            11.2           19.6            14.8   \n",
              "Maximum                   16.7            13.3           24.3            17.2   \n",
              "\n",
              "                shoulder girth  waist girth  bicep girth  forearm girth  \\\n",
              "Minimum                 85.900        57.90        22.40         19.600   \n",
              "First Quartile          99.325        68.00        27.40         23.400   \n",
              "Median                 108.300        75.55        30.85         25.800   \n",
              "Thrid Quartile         116.675        84.65        34.40         28.375   \n",
              "Maximum                134.800       113.20        42.30         32.500   \n",
              "\n",
              "                knee girth  calf maximum girth  ankle minimum girth  \\\n",
              "Minimum             29.000                28.4               16.400   \n",
              "First Quartile      34.400                34.0               20.925   \n",
              "Median              36.000                35.9               22.000   \n",
              "Thrid Quartile      37.775                37.9               23.275   \n",
              "Maximum             49.000                47.7               29.300   \n",
              "\n",
              "                wrist minimum girth   age  gender (male=1)   weight  \n",
              "Minimum                        13.0  18.0              0.0   42.000  \n",
              "First Quartile                 15.0  23.0              0.0   58.325  \n",
              "Median                         16.1  28.0              0.5   67.950  \n",
              "Thrid Quartile                 17.1  36.0              1.0   78.750  \n",
              "Maximum                        19.6  65.0              1.0  116.400  "
            ],
            "text/html": [
              "\n",
              "  <div id=\"df-cb14fdfc-a97c-4fd6-a309-7cbbb916dc79\">\n",
              "    <div class=\"colab-df-container\">\n",
              "      <div>\n",
              "<style scoped>\n",
              "    .dataframe tbody tr th:only-of-type {\n",
              "        vertical-align: middle;\n",
              "    }\n",
              "\n",
              "    .dataframe tbody tr th {\n",
              "        vertical-align: top;\n",
              "    }\n",
              "\n",
              "    .dataframe thead th {\n",
              "        text-align: right;\n",
              "    }\n",
              "</style>\n",
              "<table border=\"1\" class=\"dataframe\">\n",
              "  <thead>\n",
              "    <tr style=\"text-align: right;\">\n",
              "      <th></th>\n",
              "      <th>biacromial diameter</th>\n",
              "      <th>pelvic breadth</th>\n",
              "      <th>bitrochanteric diameter</th>\n",
              "      <th>elbow diameter</th>\n",
              "      <th>wrist diameter</th>\n",
              "      <th>knee diameter</th>\n",
              "      <th>ankle diameter</th>\n",
              "      <th>shoulder girth</th>\n",
              "      <th>waist girth</th>\n",
              "      <th>bicep girth</th>\n",
              "      <th>forearm girth</th>\n",
              "      <th>knee girth</th>\n",
              "      <th>calf maximum girth</th>\n",
              "      <th>ankle minimum girth</th>\n",
              "      <th>wrist minimum girth</th>\n",
              "      <th>age</th>\n",
              "      <th>gender (male=1)</th>\n",
              "      <th>weight</th>\n",
              "    </tr>\n",
              "  </thead>\n",
              "  <tbody>\n",
              "    <tr>\n",
              "      <th>Minimum</th>\n",
              "      <td>32.600</td>\n",
              "      <td>18.70</td>\n",
              "      <td>26.3</td>\n",
              "      <td>9.9</td>\n",
              "      <td>8.1</td>\n",
              "      <td>15.7</td>\n",
              "      <td>9.9</td>\n",
              "      <td>85.900</td>\n",
              "      <td>57.90</td>\n",
              "      <td>22.40</td>\n",
              "      <td>19.600</td>\n",
              "      <td>29.000</td>\n",
              "      <td>28.4</td>\n",
              "      <td>16.400</td>\n",
              "      <td>13.0</td>\n",
              "      <td>18.0</td>\n",
              "      <td>0.0</td>\n",
              "      <td>42.000</td>\n",
              "    </tr>\n",
              "    <tr>\n",
              "      <th>First Quartile</th>\n",
              "      <td>36.200</td>\n",
              "      <td>26.50</td>\n",
              "      <td>30.6</td>\n",
              "      <td>12.4</td>\n",
              "      <td>9.8</td>\n",
              "      <td>17.9</td>\n",
              "      <td>12.9</td>\n",
              "      <td>99.325</td>\n",
              "      <td>68.00</td>\n",
              "      <td>27.40</td>\n",
              "      <td>23.400</td>\n",
              "      <td>34.400</td>\n",
              "      <td>34.0</td>\n",
              "      <td>20.925</td>\n",
              "      <td>15.0</td>\n",
              "      <td>23.0</td>\n",
              "      <td>0.0</td>\n",
              "      <td>58.325</td>\n",
              "    </tr>\n",
              "    <tr>\n",
              "      <th>Median</th>\n",
              "      <td>38.700</td>\n",
              "      <td>27.85</td>\n",
              "      <td>32.0</td>\n",
              "      <td>13.2</td>\n",
              "      <td>10.5</td>\n",
              "      <td>18.7</td>\n",
              "      <td>13.8</td>\n",
              "      <td>108.300</td>\n",
              "      <td>75.55</td>\n",
              "      <td>30.85</td>\n",
              "      <td>25.800</td>\n",
              "      <td>36.000</td>\n",
              "      <td>35.9</td>\n",
              "      <td>22.000</td>\n",
              "      <td>16.1</td>\n",
              "      <td>28.0</td>\n",
              "      <td>0.5</td>\n",
              "      <td>67.950</td>\n",
              "    </tr>\n",
              "    <tr>\n",
              "      <th>Thrid Quartile</th>\n",
              "      <td>41.175</td>\n",
              "      <td>29.20</td>\n",
              "      <td>33.3</td>\n",
              "      <td>14.4</td>\n",
              "      <td>11.2</td>\n",
              "      <td>19.6</td>\n",
              "      <td>14.8</td>\n",
              "      <td>116.675</td>\n",
              "      <td>84.65</td>\n",
              "      <td>34.40</td>\n",
              "      <td>28.375</td>\n",
              "      <td>37.775</td>\n",
              "      <td>37.9</td>\n",
              "      <td>23.275</td>\n",
              "      <td>17.1</td>\n",
              "      <td>36.0</td>\n",
              "      <td>1.0</td>\n",
              "      <td>78.750</td>\n",
              "    </tr>\n",
              "    <tr>\n",
              "      <th>Maximum</th>\n",
              "      <td>46.200</td>\n",
              "      <td>34.70</td>\n",
              "      <td>37.8</td>\n",
              "      <td>16.7</td>\n",
              "      <td>13.3</td>\n",
              "      <td>24.3</td>\n",
              "      <td>17.2</td>\n",
              "      <td>134.800</td>\n",
              "      <td>113.20</td>\n",
              "      <td>42.30</td>\n",
              "      <td>32.500</td>\n",
              "      <td>49.000</td>\n",
              "      <td>47.7</td>\n",
              "      <td>29.300</td>\n",
              "      <td>19.6</td>\n",
              "      <td>65.0</td>\n",
              "      <td>1.0</td>\n",
              "      <td>116.400</td>\n",
              "    </tr>\n",
              "  </tbody>\n",
              "</table>\n",
              "</div>\n",
              "      <button class=\"colab-df-convert\" onclick=\"convertToInteractive('df-cb14fdfc-a97c-4fd6-a309-7cbbb916dc79')\"\n",
              "              title=\"Convert this dataframe to an interactive table.\"\n",
              "              style=\"display:none;\">\n",
              "        \n",
              "  <svg xmlns=\"http://www.w3.org/2000/svg\" height=\"24px\"viewBox=\"0 0 24 24\"\n",
              "       width=\"24px\">\n",
              "    <path d=\"M0 0h24v24H0V0z\" fill=\"none\"/>\n",
              "    <path d=\"M18.56 5.44l.94 2.06.94-2.06 2.06-.94-2.06-.94-.94-2.06-.94 2.06-2.06.94zm-11 1L8.5 8.5l.94-2.06 2.06-.94-2.06-.94L8.5 2.5l-.94 2.06-2.06.94zm10 10l.94 2.06.94-2.06 2.06-.94-2.06-.94-.94-2.06-.94 2.06-2.06.94z\"/><path d=\"M17.41 7.96l-1.37-1.37c-.4-.4-.92-.59-1.43-.59-.52 0-1.04.2-1.43.59L10.3 9.45l-7.72 7.72c-.78.78-.78 2.05 0 2.83L4 21.41c.39.39.9.59 1.41.59.51 0 1.02-.2 1.41-.59l7.78-7.78 2.81-2.81c.8-.78.8-2.07 0-2.86zM5.41 20L4 18.59l7.72-7.72 1.47 1.35L5.41 20z\"/>\n",
              "  </svg>\n",
              "      </button>\n",
              "      \n",
              "  <style>\n",
              "    .colab-df-container {\n",
              "      display:flex;\n",
              "      flex-wrap:wrap;\n",
              "      gap: 12px;\n",
              "    }\n",
              "\n",
              "    .colab-df-convert {\n",
              "      background-color: #E8F0FE;\n",
              "      border: none;\n",
              "      border-radius: 50%;\n",
              "      cursor: pointer;\n",
              "      display: none;\n",
              "      fill: #1967D2;\n",
              "      height: 32px;\n",
              "      padding: 0 0 0 0;\n",
              "      width: 32px;\n",
              "    }\n",
              "\n",
              "    .colab-df-convert:hover {\n",
              "      background-color: #E2EBFA;\n",
              "      box-shadow: 0px 1px 2px rgba(60, 64, 67, 0.3), 0px 1px 3px 1px rgba(60, 64, 67, 0.15);\n",
              "      fill: #174EA6;\n",
              "    }\n",
              "\n",
              "    [theme=dark] .colab-df-convert {\n",
              "      background-color: #3B4455;\n",
              "      fill: #D2E3FC;\n",
              "    }\n",
              "\n",
              "    [theme=dark] .colab-df-convert:hover {\n",
              "      background-color: #434B5C;\n",
              "      box-shadow: 0px 1px 3px 1px rgba(0, 0, 0, 0.15);\n",
              "      filter: drop-shadow(0px 1px 2px rgba(0, 0, 0, 0.3));\n",
              "      fill: #FFFFFF;\n",
              "    }\n",
              "  </style>\n",
              "\n",
              "      <script>\n",
              "        const buttonEl =\n",
              "          document.querySelector('#df-cb14fdfc-a97c-4fd6-a309-7cbbb916dc79 button.colab-df-convert');\n",
              "        buttonEl.style.display =\n",
              "          google.colab.kernel.accessAllowed ? 'block' : 'none';\n",
              "\n",
              "        async function convertToInteractive(key) {\n",
              "          const element = document.querySelector('#df-cb14fdfc-a97c-4fd6-a309-7cbbb916dc79');\n",
              "          const dataTable =\n",
              "            await google.colab.kernel.invokeFunction('convertToInteractive',\n",
              "                                                     [key], {});\n",
              "          if (!dataTable) return;\n",
              "\n",
              "          const docLinkHtml = 'Like what you see? Visit the ' +\n",
              "            '<a target=\"_blank\" href=https://colab.research.google.com/notebooks/data_table.ipynb>data table notebook</a>'\n",
              "            + ' to learn more about interactive tables.';\n",
              "          element.innerHTML = '';\n",
              "          dataTable['output_type'] = 'display_data';\n",
              "          await google.colab.output.renderOutput(dataTable, element);\n",
              "          const docLink = document.createElement('div');\n",
              "          docLink.innerHTML = docLinkHtml;\n",
              "          element.appendChild(docLink);\n",
              "        }\n",
              "      </script>\n",
              "    </div>\n",
              "  </div>\n",
              "  "
            ]
          },
          "metadata": {},
          "execution_count": 4
        }
      ],
      "source": [
        "D = body_description.describe().loc[['min', '25%','50%', '75%', 'max'], :]\n",
        "D.columns = ['biacromial diameter','pelvic breadth','bitrochanteric diameter','elbow diameter','wrist diameter','knee diameter','ankle diameter','shoulder girth','waist girth','bicep girth','forearm girth','knee girth','calf maximum girth','ankle minimum girth','wrist minimum girth','age','gender (male=1)','weight']\n",
        "D.index = ('Minimum','First Quartile','Median','Thrid Quartile','Maximum')\n",
        "D"
      ]
    },
    {
      "cell_type": "markdown",
      "metadata": {
        "id": "T52o1Hv_SX64"
      },
      "source": [
        "e) check if any column in the dataframe contains any missing value or not."
      ]
    },
    {
      "cell_type": "code",
      "execution_count": 5,
      "metadata": {
        "colab": {
          "base_uri": "https://localhost:8080/"
        },
        "id": "rZcBcd_SLXsM",
        "outputId": "5c1a861e-ba38-4038-b446-696ddd11eca5"
      },
      "outputs": [
        {
          "output_type": "stream",
          "name": "stdout",
          "text": [
            "There are no missing values in the DataFrame.\n"
          ]
        }
      ],
      "source": [
        "if body_description.isnull().any().any():\n",
        "  print(\"There is at least one missing value in the DataFrame.\")\n",
        "else:\n",
        "    print(\"There are no missing values in the DataFrame.\")"
      ]
    },
    {
      "cell_type": "markdown",
      "metadata": {
        "id": "MbTjpEv3Sij9"
      },
      "source": [
        "Consider the weight attribute as the response variable and all other attributes as predictor variables. And then Split the data into two sets such that 80% of the data is considered as set T1 and\n",
        "20% of the data is considered as set T2."
      ]
    },
    {
      "cell_type": "code",
      "execution_count": 6,
      "metadata": {
        "colab": {
          "base_uri": "https://localhost:8080/"
        },
        "id": "_Qm0GVwn8hS2",
        "outputId": "e69dc171-4437-4dfa-8d5e-9dc233ce69cb"
      },
      "outputs": [
        {
          "output_type": "execute_result",
          "data": {
            "text/plain": [
              "(357, 89)"
            ]
          },
          "metadata": {},
          "execution_count": 6
        }
      ],
      "source": [
        "body_description_training_initial = body_description.sample(frac = 0.8, random_state = 200)\n",
        "body_description_test = body_description.drop(body_description_training_initial.index)\n",
        "\n",
        "len(body_description_training_initial), len(body_description_test)"
      ]
    },
    {
      "cell_type": "code",
      "execution_count": 7,
      "metadata": {
        "colab": {
          "base_uri": "https://localhost:8080/",
          "height": 485
        },
        "id": "oKG4W5lUDC_P",
        "outputId": "f1612f5b-4c17-400f-d867-cb0d838995cf"
      },
      "outputs": [
        {
          "output_type": "execute_result",
          "data": {
            "text/plain": [
              "     biacromial diameter  pelvic breadth  bitrochanteric diameter  \\\n",
              "179                 40.9            28.7                     32.9   \n",
              "150                 39.8            28.0                     34.2   \n",
              "156                 42.5            31.3                     33.1   \n",
              "107                 40.5            29.7                     31.7   \n",
              "31                  38.5            26.1                     30.8   \n",
              "..                   ...             ...                      ...   \n",
              "29                  42.1            27.5                     32.4   \n",
              "337                 36.0            27.6                     29.0   \n",
              "423                 36.7            25.2                     29.2   \n",
              "234                 36.0            25.6                     31.5   \n",
              "220                 39.2            23.5                     29.9   \n",
              "\n",
              "     elbow diameter  wrist diameter  knee diameter  ankle diameter  \\\n",
              "179            15.0            11.0           18.7            13.8   \n",
              "150            14.0            11.0           19.7            13.8   \n",
              "156            14.8            11.3           20.1            15.5   \n",
              "107            15.2            11.3           21.2            15.2   \n",
              "31             15.1            11.4           19.8            14.2   \n",
              "..              ...             ...            ...             ...   \n",
              "29             16.2            12.0           21.0            16.4   \n",
              "337            11.8             9.2           18.0            11.4   \n",
              "423            12.0             9.0           17.0            11.8   \n",
              "234            12.8             9.7           17.6            13.2   \n",
              "220            15.4            11.5           19.0            14.8   \n",
              "\n",
              "     shoulder girth  waist girth  bicep girth  forearm girth  knee girth  \\\n",
              "179           118.0         86.6         34.4           28.6        35.0   \n",
              "150           124.3         94.9         35.9           27.8        37.7   \n",
              "156           117.5         92.1         33.3           27.7        37.1   \n",
              "107           127.3         94.7         37.2           30.9        40.5   \n",
              "31            126.3         81.6         39.5           31.7        38.8   \n",
              "..              ...          ...          ...            ...         ...   \n",
              "29            118.3         77.5         37.7           29.9        38.3   \n",
              "337            98.9         66.0         26.4           22.6        35.4   \n",
              "423            94.9         62.5         25.7           21.9        31.7   \n",
              "234            97.7         61.0         25.4           22.6        34.0   \n",
              "220           116.3         71.8         34.2           29.2        34.1   \n",
              "\n",
              "     calf maximum girth  ankle minimum girth  wrist minimum girth  age  \\\n",
              "179                34.1                 21.7                 17.1   45   \n",
              "150                36.8                 23.2                 16.5   37   \n",
              "156                37.4                 22.6                 17.1   37   \n",
              "107                40.0                 24.2                 17.6   34   \n",
              "31                 36.5                 22.7                 17.9   23   \n",
              "..                  ...                  ...                  ...  ...   \n",
              "29                 39.6                 23.3                 18.7   24   \n",
              "337                35.6                 21.0                 14.5   19   \n",
              "423                34.7                 18.5                 13.9   32   \n",
              "234                34.5                 20.5                 15.3   25   \n",
              "220                33.4                 23.1                 18.3   30   \n",
              "\n",
              "     gender (male=1)  \n",
              "179                1  \n",
              "150                1  \n",
              "156                1  \n",
              "107                1  \n",
              "31                 1  \n",
              "..               ...  \n",
              "29                 1  \n",
              "337                0  \n",
              "423                0  \n",
              "234                0  \n",
              "220                1  \n",
              "\n",
              "[357 rows x 17 columns]"
            ],
            "text/html": [
              "\n",
              "  <div id=\"df-eb02e327-9eed-40ca-901d-d688c728894a\">\n",
              "    <div class=\"colab-df-container\">\n",
              "      <div>\n",
              "<style scoped>\n",
              "    .dataframe tbody tr th:only-of-type {\n",
              "        vertical-align: middle;\n",
              "    }\n",
              "\n",
              "    .dataframe tbody tr th {\n",
              "        vertical-align: top;\n",
              "    }\n",
              "\n",
              "    .dataframe thead th {\n",
              "        text-align: right;\n",
              "    }\n",
              "</style>\n",
              "<table border=\"1\" class=\"dataframe\">\n",
              "  <thead>\n",
              "    <tr style=\"text-align: right;\">\n",
              "      <th></th>\n",
              "      <th>biacromial diameter</th>\n",
              "      <th>pelvic breadth</th>\n",
              "      <th>bitrochanteric diameter</th>\n",
              "      <th>elbow diameter</th>\n",
              "      <th>wrist diameter</th>\n",
              "      <th>knee diameter</th>\n",
              "      <th>ankle diameter</th>\n",
              "      <th>shoulder girth</th>\n",
              "      <th>waist girth</th>\n",
              "      <th>bicep girth</th>\n",
              "      <th>forearm girth</th>\n",
              "      <th>knee girth</th>\n",
              "      <th>calf maximum girth</th>\n",
              "      <th>ankle minimum girth</th>\n",
              "      <th>wrist minimum girth</th>\n",
              "      <th>age</th>\n",
              "      <th>gender (male=1)</th>\n",
              "    </tr>\n",
              "  </thead>\n",
              "  <tbody>\n",
              "    <tr>\n",
              "      <th>179</th>\n",
              "      <td>40.9</td>\n",
              "      <td>28.7</td>\n",
              "      <td>32.9</td>\n",
              "      <td>15.0</td>\n",
              "      <td>11.0</td>\n",
              "      <td>18.7</td>\n",
              "      <td>13.8</td>\n",
              "      <td>118.0</td>\n",
              "      <td>86.6</td>\n",
              "      <td>34.4</td>\n",
              "      <td>28.6</td>\n",
              "      <td>35.0</td>\n",
              "      <td>34.1</td>\n",
              "      <td>21.7</td>\n",
              "      <td>17.1</td>\n",
              "      <td>45</td>\n",
              "      <td>1</td>\n",
              "    </tr>\n",
              "    <tr>\n",
              "      <th>150</th>\n",
              "      <td>39.8</td>\n",
              "      <td>28.0</td>\n",
              "      <td>34.2</td>\n",
              "      <td>14.0</td>\n",
              "      <td>11.0</td>\n",
              "      <td>19.7</td>\n",
              "      <td>13.8</td>\n",
              "      <td>124.3</td>\n",
              "      <td>94.9</td>\n",
              "      <td>35.9</td>\n",
              "      <td>27.8</td>\n",
              "      <td>37.7</td>\n",
              "      <td>36.8</td>\n",
              "      <td>23.2</td>\n",
              "      <td>16.5</td>\n",
              "      <td>37</td>\n",
              "      <td>1</td>\n",
              "    </tr>\n",
              "    <tr>\n",
              "      <th>156</th>\n",
              "      <td>42.5</td>\n",
              "      <td>31.3</td>\n",
              "      <td>33.1</td>\n",
              "      <td>14.8</td>\n",
              "      <td>11.3</td>\n",
              "      <td>20.1</td>\n",
              "      <td>15.5</td>\n",
              "      <td>117.5</td>\n",
              "      <td>92.1</td>\n",
              "      <td>33.3</td>\n",
              "      <td>27.7</td>\n",
              "      <td>37.1</td>\n",
              "      <td>37.4</td>\n",
              "      <td>22.6</td>\n",
              "      <td>17.1</td>\n",
              "      <td>37</td>\n",
              "      <td>1</td>\n",
              "    </tr>\n",
              "    <tr>\n",
              "      <th>107</th>\n",
              "      <td>40.5</td>\n",
              "      <td>29.7</td>\n",
              "      <td>31.7</td>\n",
              "      <td>15.2</td>\n",
              "      <td>11.3</td>\n",
              "      <td>21.2</td>\n",
              "      <td>15.2</td>\n",
              "      <td>127.3</td>\n",
              "      <td>94.7</td>\n",
              "      <td>37.2</td>\n",
              "      <td>30.9</td>\n",
              "      <td>40.5</td>\n",
              "      <td>40.0</td>\n",
              "      <td>24.2</td>\n",
              "      <td>17.6</td>\n",
              "      <td>34</td>\n",
              "      <td>1</td>\n",
              "    </tr>\n",
              "    <tr>\n",
              "      <th>31</th>\n",
              "      <td>38.5</td>\n",
              "      <td>26.1</td>\n",
              "      <td>30.8</td>\n",
              "      <td>15.1</td>\n",
              "      <td>11.4</td>\n",
              "      <td>19.8</td>\n",
              "      <td>14.2</td>\n",
              "      <td>126.3</td>\n",
              "      <td>81.6</td>\n",
              "      <td>39.5</td>\n",
              "      <td>31.7</td>\n",
              "      <td>38.8</td>\n",
              "      <td>36.5</td>\n",
              "      <td>22.7</td>\n",
              "      <td>17.9</td>\n",
              "      <td>23</td>\n",
              "      <td>1</td>\n",
              "    </tr>\n",
              "    <tr>\n",
              "      <th>...</th>\n",
              "      <td>...</td>\n",
              "      <td>...</td>\n",
              "      <td>...</td>\n",
              "      <td>...</td>\n",
              "      <td>...</td>\n",
              "      <td>...</td>\n",
              "      <td>...</td>\n",
              "      <td>...</td>\n",
              "      <td>...</td>\n",
              "      <td>...</td>\n",
              "      <td>...</td>\n",
              "      <td>...</td>\n",
              "      <td>...</td>\n",
              "      <td>...</td>\n",
              "      <td>...</td>\n",
              "      <td>...</td>\n",
              "      <td>...</td>\n",
              "    </tr>\n",
              "    <tr>\n",
              "      <th>29</th>\n",
              "      <td>42.1</td>\n",
              "      <td>27.5</td>\n",
              "      <td>32.4</td>\n",
              "      <td>16.2</td>\n",
              "      <td>12.0</td>\n",
              "      <td>21.0</td>\n",
              "      <td>16.4</td>\n",
              "      <td>118.3</td>\n",
              "      <td>77.5</td>\n",
              "      <td>37.7</td>\n",
              "      <td>29.9</td>\n",
              "      <td>38.3</td>\n",
              "      <td>39.6</td>\n",
              "      <td>23.3</td>\n",
              "      <td>18.7</td>\n",
              "      <td>24</td>\n",
              "      <td>1</td>\n",
              "    </tr>\n",
              "    <tr>\n",
              "      <th>337</th>\n",
              "      <td>36.0</td>\n",
              "      <td>27.6</td>\n",
              "      <td>29.0</td>\n",
              "      <td>11.8</td>\n",
              "      <td>9.2</td>\n",
              "      <td>18.0</td>\n",
              "      <td>11.4</td>\n",
              "      <td>98.9</td>\n",
              "      <td>66.0</td>\n",
              "      <td>26.4</td>\n",
              "      <td>22.6</td>\n",
              "      <td>35.4</td>\n",
              "      <td>35.6</td>\n",
              "      <td>21.0</td>\n",
              "      <td>14.5</td>\n",
              "      <td>19</td>\n",
              "      <td>0</td>\n",
              "    </tr>\n",
              "    <tr>\n",
              "      <th>423</th>\n",
              "      <td>36.7</td>\n",
              "      <td>25.2</td>\n",
              "      <td>29.2</td>\n",
              "      <td>12.0</td>\n",
              "      <td>9.0</td>\n",
              "      <td>17.0</td>\n",
              "      <td>11.8</td>\n",
              "      <td>94.9</td>\n",
              "      <td>62.5</td>\n",
              "      <td>25.7</td>\n",
              "      <td>21.9</td>\n",
              "      <td>31.7</td>\n",
              "      <td>34.7</td>\n",
              "      <td>18.5</td>\n",
              "      <td>13.9</td>\n",
              "      <td>32</td>\n",
              "      <td>0</td>\n",
              "    </tr>\n",
              "    <tr>\n",
              "      <th>234</th>\n",
              "      <td>36.0</td>\n",
              "      <td>25.6</td>\n",
              "      <td>31.5</td>\n",
              "      <td>12.8</td>\n",
              "      <td>9.7</td>\n",
              "      <td>17.6</td>\n",
              "      <td>13.2</td>\n",
              "      <td>97.7</td>\n",
              "      <td>61.0</td>\n",
              "      <td>25.4</td>\n",
              "      <td>22.6</td>\n",
              "      <td>34.0</td>\n",
              "      <td>34.5</td>\n",
              "      <td>20.5</td>\n",
              "      <td>15.3</td>\n",
              "      <td>25</td>\n",
              "      <td>0</td>\n",
              "    </tr>\n",
              "    <tr>\n",
              "      <th>220</th>\n",
              "      <td>39.2</td>\n",
              "      <td>23.5</td>\n",
              "      <td>29.9</td>\n",
              "      <td>15.4</td>\n",
              "      <td>11.5</td>\n",
              "      <td>19.0</td>\n",
              "      <td>14.8</td>\n",
              "      <td>116.3</td>\n",
              "      <td>71.8</td>\n",
              "      <td>34.2</td>\n",
              "      <td>29.2</td>\n",
              "      <td>34.1</td>\n",
              "      <td>33.4</td>\n",
              "      <td>23.1</td>\n",
              "      <td>18.3</td>\n",
              "      <td>30</td>\n",
              "      <td>1</td>\n",
              "    </tr>\n",
              "  </tbody>\n",
              "</table>\n",
              "<p>357 rows × 17 columns</p>\n",
              "</div>\n",
              "      <button class=\"colab-df-convert\" onclick=\"convertToInteractive('df-eb02e327-9eed-40ca-901d-d688c728894a')\"\n",
              "              title=\"Convert this dataframe to an interactive table.\"\n",
              "              style=\"display:none;\">\n",
              "        \n",
              "  <svg xmlns=\"http://www.w3.org/2000/svg\" height=\"24px\"viewBox=\"0 0 24 24\"\n",
              "       width=\"24px\">\n",
              "    <path d=\"M0 0h24v24H0V0z\" fill=\"none\"/>\n",
              "    <path d=\"M18.56 5.44l.94 2.06.94-2.06 2.06-.94-2.06-.94-.94-2.06-.94 2.06-2.06.94zm-11 1L8.5 8.5l.94-2.06 2.06-.94-2.06-.94L8.5 2.5l-.94 2.06-2.06.94zm10 10l.94 2.06.94-2.06 2.06-.94-2.06-.94-.94-2.06-.94 2.06-2.06.94z\"/><path d=\"M17.41 7.96l-1.37-1.37c-.4-.4-.92-.59-1.43-.59-.52 0-1.04.2-1.43.59L10.3 9.45l-7.72 7.72c-.78.78-.78 2.05 0 2.83L4 21.41c.39.39.9.59 1.41.59.51 0 1.02-.2 1.41-.59l7.78-7.78 2.81-2.81c.8-.78.8-2.07 0-2.86zM5.41 20L4 18.59l7.72-7.72 1.47 1.35L5.41 20z\"/>\n",
              "  </svg>\n",
              "      </button>\n",
              "      \n",
              "  <style>\n",
              "    .colab-df-container {\n",
              "      display:flex;\n",
              "      flex-wrap:wrap;\n",
              "      gap: 12px;\n",
              "    }\n",
              "\n",
              "    .colab-df-convert {\n",
              "      background-color: #E8F0FE;\n",
              "      border: none;\n",
              "      border-radius: 50%;\n",
              "      cursor: pointer;\n",
              "      display: none;\n",
              "      fill: #1967D2;\n",
              "      height: 32px;\n",
              "      padding: 0 0 0 0;\n",
              "      width: 32px;\n",
              "    }\n",
              "\n",
              "    .colab-df-convert:hover {\n",
              "      background-color: #E2EBFA;\n",
              "      box-shadow: 0px 1px 2px rgba(60, 64, 67, 0.3), 0px 1px 3px 1px rgba(60, 64, 67, 0.15);\n",
              "      fill: #174EA6;\n",
              "    }\n",
              "\n",
              "    [theme=dark] .colab-df-convert {\n",
              "      background-color: #3B4455;\n",
              "      fill: #D2E3FC;\n",
              "    }\n",
              "\n",
              "    [theme=dark] .colab-df-convert:hover {\n",
              "      background-color: #434B5C;\n",
              "      box-shadow: 0px 1px 3px 1px rgba(0, 0, 0, 0.15);\n",
              "      filter: drop-shadow(0px 1px 2px rgba(0, 0, 0, 0.3));\n",
              "      fill: #FFFFFF;\n",
              "    }\n",
              "  </style>\n",
              "\n",
              "      <script>\n",
              "        const buttonEl =\n",
              "          document.querySelector('#df-eb02e327-9eed-40ca-901d-d688c728894a button.colab-df-convert');\n",
              "        buttonEl.style.display =\n",
              "          google.colab.kernel.accessAllowed ? 'block' : 'none';\n",
              "\n",
              "        async function convertToInteractive(key) {\n",
              "          const element = document.querySelector('#df-eb02e327-9eed-40ca-901d-d688c728894a');\n",
              "          const dataTable =\n",
              "            await google.colab.kernel.invokeFunction('convertToInteractive',\n",
              "                                                     [key], {});\n",
              "          if (!dataTable) return;\n",
              "\n",
              "          const docLinkHtml = 'Like what you see? Visit the ' +\n",
              "            '<a target=\"_blank\" href=https://colab.research.google.com/notebooks/data_table.ipynb>data table notebook</a>'\n",
              "            + ' to learn more about interactive tables.';\n",
              "          element.innerHTML = '';\n",
              "          dataTable['output_type'] = 'display_data';\n",
              "          await google.colab.output.renderOutput(dataTable, element);\n",
              "          const docLink = document.createElement('div');\n",
              "          docLink.innerHTML = docLinkHtml;\n",
              "          element.appendChild(docLink);\n",
              "        }\n",
              "      </script>\n",
              "    </div>\n",
              "  </div>\n",
              "  "
            ]
          },
          "metadata": {},
          "execution_count": 7
        }
      ],
      "source": [
        "body_description_predictor_train_initial = body_description_training_initial.drop('weight', axis = 1)\n",
        "body_description_predictor_train_initial"
      ]
    },
    {
      "cell_type": "code",
      "execution_count": 8,
      "metadata": {
        "colab": {
          "base_uri": "https://localhost:8080/",
          "height": 485
        },
        "id": "LdO77aG0FrJm",
        "outputId": "8d7455f8-2730-4c23-a857-82dae5e2cfea"
      },
      "outputs": [
        {
          "output_type": "execute_result",
          "data": {
            "text/plain": [
              "     biacromial diameter  pelvic breadth  bitrochanteric diameter  \\\n",
              "0                   42.9            26.0                     31.5   \n",
              "1                   43.7            28.5                     33.5   \n",
              "3                   44.3            29.9                     34.0   \n",
              "6                   39.9            30.0                     34.5   \n",
              "7                   43.0            26.5                     30.3   \n",
              "..                   ...             ...                      ...   \n",
              "434                 36.9            28.5                     31.5   \n",
              "437                 36.5            28.3                     29.7   \n",
              "442                 35.3            25.4                     28.5   \n",
              "443                 36.2            28.7                     27.8   \n",
              "445                 38.7            29.7                     32.0   \n",
              "\n",
              "     elbow diameter  wrist diameter  knee diameter  ankle diameter  \\\n",
              "0              13.1            10.4           18.8            14.1   \n",
              "1              14.0            11.8           20.6            15.1   \n",
              "3              13.9            11.2           20.9            15.0   \n",
              "6              15.6            11.9           21.2            16.0   \n",
              "7              14.8            11.2           19.7            14.7   \n",
              "..              ...             ...            ...             ...   \n",
              "434            11.6             9.8           17.2            12.9   \n",
              "437            12.0            10.0           17.1            12.8   \n",
              "442            10.6            10.4           17.0            12.6   \n",
              "443            12.4            10.2           17.9            13.2   \n",
              "445            12.8            10.5           18.4            13.8   \n",
              "\n",
              "     shoulder girth  waist girth  bicep girth  forearm girth  knee girth  \\\n",
              "0             106.2         71.5         32.5           26.0        34.5   \n",
              "1             110.5         79.0         34.4           28.0        36.5   \n",
              "3             104.5         77.8         31.0           26.2        37.0   \n",
              "6             112.2         88.3         37.0           28.8        40.9   \n",
              "7             120.0         73.6         31.2           26.9        36.4   \n",
              "..              ...          ...          ...            ...         ...   \n",
              "434           100.0         67.6         25.6           23.0        34.5   \n",
              "437            98.3         72.0         27.6           23.3        35.2   \n",
              "442            95.9         60.8         26.8           22.8        34.4   \n",
              "443            96.1         66.9         26.2           22.6        35.0   \n",
              "445           103.8         63.7         26.4           23.0        36.5   \n",
              "\n",
              "     calf maximum girth  ankle minimum girth  wrist minimum girth  age  \\\n",
              "0                  36.5                 23.5                 16.5   21   \n",
              "1                  37.5                 24.5                 17.0   23   \n",
              "3                  34.8                 23.0                 16.6   23   \n",
              "6                  41.7                 24.2                 17.8   30   \n",
              "7                  35.6                 22.0                 17.1   22   \n",
              "..                  ...                  ...                  ...  ...   \n",
              "434                32.5                 21.7                 14.6   27   \n",
              "437                31.9                 19.6                 15.4   32   \n",
              "442                33.1                 21.0                 15.4   31   \n",
              "443                35.2                 22.4                 15.2   34   \n",
              "445                34.1                 21.3                 15.0   24   \n",
              "\n",
              "     gender (male=1)  \n",
              "0                  1  \n",
              "1                  1  \n",
              "3                  1  \n",
              "6                  1  \n",
              "7                  1  \n",
              "..               ...  \n",
              "434                0  \n",
              "437                0  \n",
              "442                0  \n",
              "443                0  \n",
              "445                0  \n",
              "\n",
              "[89 rows x 17 columns]"
            ],
            "text/html": [
              "\n",
              "  <div id=\"df-b34562ad-5743-4a2d-8f0b-2e06f7edf9e3\">\n",
              "    <div class=\"colab-df-container\">\n",
              "      <div>\n",
              "<style scoped>\n",
              "    .dataframe tbody tr th:only-of-type {\n",
              "        vertical-align: middle;\n",
              "    }\n",
              "\n",
              "    .dataframe tbody tr th {\n",
              "        vertical-align: top;\n",
              "    }\n",
              "\n",
              "    .dataframe thead th {\n",
              "        text-align: right;\n",
              "    }\n",
              "</style>\n",
              "<table border=\"1\" class=\"dataframe\">\n",
              "  <thead>\n",
              "    <tr style=\"text-align: right;\">\n",
              "      <th></th>\n",
              "      <th>biacromial diameter</th>\n",
              "      <th>pelvic breadth</th>\n",
              "      <th>bitrochanteric diameter</th>\n",
              "      <th>elbow diameter</th>\n",
              "      <th>wrist diameter</th>\n",
              "      <th>knee diameter</th>\n",
              "      <th>ankle diameter</th>\n",
              "      <th>shoulder girth</th>\n",
              "      <th>waist girth</th>\n",
              "      <th>bicep girth</th>\n",
              "      <th>forearm girth</th>\n",
              "      <th>knee girth</th>\n",
              "      <th>calf maximum girth</th>\n",
              "      <th>ankle minimum girth</th>\n",
              "      <th>wrist minimum girth</th>\n",
              "      <th>age</th>\n",
              "      <th>gender (male=1)</th>\n",
              "    </tr>\n",
              "  </thead>\n",
              "  <tbody>\n",
              "    <tr>\n",
              "      <th>0</th>\n",
              "      <td>42.9</td>\n",
              "      <td>26.0</td>\n",
              "      <td>31.5</td>\n",
              "      <td>13.1</td>\n",
              "      <td>10.4</td>\n",
              "      <td>18.8</td>\n",
              "      <td>14.1</td>\n",
              "      <td>106.2</td>\n",
              "      <td>71.5</td>\n",
              "      <td>32.5</td>\n",
              "      <td>26.0</td>\n",
              "      <td>34.5</td>\n",
              "      <td>36.5</td>\n",
              "      <td>23.5</td>\n",
              "      <td>16.5</td>\n",
              "      <td>21</td>\n",
              "      <td>1</td>\n",
              "    </tr>\n",
              "    <tr>\n",
              "      <th>1</th>\n",
              "      <td>43.7</td>\n",
              "      <td>28.5</td>\n",
              "      <td>33.5</td>\n",
              "      <td>14.0</td>\n",
              "      <td>11.8</td>\n",
              "      <td>20.6</td>\n",
              "      <td>15.1</td>\n",
              "      <td>110.5</td>\n",
              "      <td>79.0</td>\n",
              "      <td>34.4</td>\n",
              "      <td>28.0</td>\n",
              "      <td>36.5</td>\n",
              "      <td>37.5</td>\n",
              "      <td>24.5</td>\n",
              "      <td>17.0</td>\n",
              "      <td>23</td>\n",
              "      <td>1</td>\n",
              "    </tr>\n",
              "    <tr>\n",
              "      <th>3</th>\n",
              "      <td>44.3</td>\n",
              "      <td>29.9</td>\n",
              "      <td>34.0</td>\n",
              "      <td>13.9</td>\n",
              "      <td>11.2</td>\n",
              "      <td>20.9</td>\n",
              "      <td>15.0</td>\n",
              "      <td>104.5</td>\n",
              "      <td>77.8</td>\n",
              "      <td>31.0</td>\n",
              "      <td>26.2</td>\n",
              "      <td>37.0</td>\n",
              "      <td>34.8</td>\n",
              "      <td>23.0</td>\n",
              "      <td>16.6</td>\n",
              "      <td>23</td>\n",
              "      <td>1</td>\n",
              "    </tr>\n",
              "    <tr>\n",
              "      <th>6</th>\n",
              "      <td>39.9</td>\n",
              "      <td>30.0</td>\n",
              "      <td>34.5</td>\n",
              "      <td>15.6</td>\n",
              "      <td>11.9</td>\n",
              "      <td>21.2</td>\n",
              "      <td>16.0</td>\n",
              "      <td>112.2</td>\n",
              "      <td>88.3</td>\n",
              "      <td>37.0</td>\n",
              "      <td>28.8</td>\n",
              "      <td>40.9</td>\n",
              "      <td>41.7</td>\n",
              "      <td>24.2</td>\n",
              "      <td>17.8</td>\n",
              "      <td>30</td>\n",
              "      <td>1</td>\n",
              "    </tr>\n",
              "    <tr>\n",
              "      <th>7</th>\n",
              "      <td>43.0</td>\n",
              "      <td>26.5</td>\n",
              "      <td>30.3</td>\n",
              "      <td>14.8</td>\n",
              "      <td>11.2</td>\n",
              "      <td>19.7</td>\n",
              "      <td>14.7</td>\n",
              "      <td>120.0</td>\n",
              "      <td>73.6</td>\n",
              "      <td>31.2</td>\n",
              "      <td>26.9</td>\n",
              "      <td>36.4</td>\n",
              "      <td>35.6</td>\n",
              "      <td>22.0</td>\n",
              "      <td>17.1</td>\n",
              "      <td>22</td>\n",
              "      <td>1</td>\n",
              "    </tr>\n",
              "    <tr>\n",
              "      <th>...</th>\n",
              "      <td>...</td>\n",
              "      <td>...</td>\n",
              "      <td>...</td>\n",
              "      <td>...</td>\n",
              "      <td>...</td>\n",
              "      <td>...</td>\n",
              "      <td>...</td>\n",
              "      <td>...</td>\n",
              "      <td>...</td>\n",
              "      <td>...</td>\n",
              "      <td>...</td>\n",
              "      <td>...</td>\n",
              "      <td>...</td>\n",
              "      <td>...</td>\n",
              "      <td>...</td>\n",
              "      <td>...</td>\n",
              "      <td>...</td>\n",
              "    </tr>\n",
              "    <tr>\n",
              "      <th>434</th>\n",
              "      <td>36.9</td>\n",
              "      <td>28.5</td>\n",
              "      <td>31.5</td>\n",
              "      <td>11.6</td>\n",
              "      <td>9.8</td>\n",
              "      <td>17.2</td>\n",
              "      <td>12.9</td>\n",
              "      <td>100.0</td>\n",
              "      <td>67.6</td>\n",
              "      <td>25.6</td>\n",
              "      <td>23.0</td>\n",
              "      <td>34.5</td>\n",
              "      <td>32.5</td>\n",
              "      <td>21.7</td>\n",
              "      <td>14.6</td>\n",
              "      <td>27</td>\n",
              "      <td>0</td>\n",
              "    </tr>\n",
              "    <tr>\n",
              "      <th>437</th>\n",
              "      <td>36.5</td>\n",
              "      <td>28.3</td>\n",
              "      <td>29.7</td>\n",
              "      <td>12.0</td>\n",
              "      <td>10.0</td>\n",
              "      <td>17.1</td>\n",
              "      <td>12.8</td>\n",
              "      <td>98.3</td>\n",
              "      <td>72.0</td>\n",
              "      <td>27.6</td>\n",
              "      <td>23.3</td>\n",
              "      <td>35.2</td>\n",
              "      <td>31.9</td>\n",
              "      <td>19.6</td>\n",
              "      <td>15.4</td>\n",
              "      <td>32</td>\n",
              "      <td>0</td>\n",
              "    </tr>\n",
              "    <tr>\n",
              "      <th>442</th>\n",
              "      <td>35.3</td>\n",
              "      <td>25.4</td>\n",
              "      <td>28.5</td>\n",
              "      <td>10.6</td>\n",
              "      <td>10.4</td>\n",
              "      <td>17.0</td>\n",
              "      <td>12.6</td>\n",
              "      <td>95.9</td>\n",
              "      <td>60.8</td>\n",
              "      <td>26.8</td>\n",
              "      <td>22.8</td>\n",
              "      <td>34.4</td>\n",
              "      <td>33.1</td>\n",
              "      <td>21.0</td>\n",
              "      <td>15.4</td>\n",
              "      <td>31</td>\n",
              "      <td>0</td>\n",
              "    </tr>\n",
              "    <tr>\n",
              "      <th>443</th>\n",
              "      <td>36.2</td>\n",
              "      <td>28.7</td>\n",
              "      <td>27.8</td>\n",
              "      <td>12.4</td>\n",
              "      <td>10.2</td>\n",
              "      <td>17.9</td>\n",
              "      <td>13.2</td>\n",
              "      <td>96.1</td>\n",
              "      <td>66.9</td>\n",
              "      <td>26.2</td>\n",
              "      <td>22.6</td>\n",
              "      <td>35.0</td>\n",
              "      <td>35.2</td>\n",
              "      <td>22.4</td>\n",
              "      <td>15.2</td>\n",
              "      <td>34</td>\n",
              "      <td>0</td>\n",
              "    </tr>\n",
              "    <tr>\n",
              "      <th>445</th>\n",
              "      <td>38.7</td>\n",
              "      <td>29.7</td>\n",
              "      <td>32.0</td>\n",
              "      <td>12.8</td>\n",
              "      <td>10.5</td>\n",
              "      <td>18.4</td>\n",
              "      <td>13.8</td>\n",
              "      <td>103.8</td>\n",
              "      <td>63.7</td>\n",
              "      <td>26.4</td>\n",
              "      <td>23.0</td>\n",
              "      <td>36.5</td>\n",
              "      <td>34.1</td>\n",
              "      <td>21.3</td>\n",
              "      <td>15.0</td>\n",
              "      <td>24</td>\n",
              "      <td>0</td>\n",
              "    </tr>\n",
              "  </tbody>\n",
              "</table>\n",
              "<p>89 rows × 17 columns</p>\n",
              "</div>\n",
              "      <button class=\"colab-df-convert\" onclick=\"convertToInteractive('df-b34562ad-5743-4a2d-8f0b-2e06f7edf9e3')\"\n",
              "              title=\"Convert this dataframe to an interactive table.\"\n",
              "              style=\"display:none;\">\n",
              "        \n",
              "  <svg xmlns=\"http://www.w3.org/2000/svg\" height=\"24px\"viewBox=\"0 0 24 24\"\n",
              "       width=\"24px\">\n",
              "    <path d=\"M0 0h24v24H0V0z\" fill=\"none\"/>\n",
              "    <path d=\"M18.56 5.44l.94 2.06.94-2.06 2.06-.94-2.06-.94-.94-2.06-.94 2.06-2.06.94zm-11 1L8.5 8.5l.94-2.06 2.06-.94-2.06-.94L8.5 2.5l-.94 2.06-2.06.94zm10 10l.94 2.06.94-2.06 2.06-.94-2.06-.94-.94-2.06-.94 2.06-2.06.94z\"/><path d=\"M17.41 7.96l-1.37-1.37c-.4-.4-.92-.59-1.43-.59-.52 0-1.04.2-1.43.59L10.3 9.45l-7.72 7.72c-.78.78-.78 2.05 0 2.83L4 21.41c.39.39.9.59 1.41.59.51 0 1.02-.2 1.41-.59l7.78-7.78 2.81-2.81c.8-.78.8-2.07 0-2.86zM5.41 20L4 18.59l7.72-7.72 1.47 1.35L5.41 20z\"/>\n",
              "  </svg>\n",
              "      </button>\n",
              "      \n",
              "  <style>\n",
              "    .colab-df-container {\n",
              "      display:flex;\n",
              "      flex-wrap:wrap;\n",
              "      gap: 12px;\n",
              "    }\n",
              "\n",
              "    .colab-df-convert {\n",
              "      background-color: #E8F0FE;\n",
              "      border: none;\n",
              "      border-radius: 50%;\n",
              "      cursor: pointer;\n",
              "      display: none;\n",
              "      fill: #1967D2;\n",
              "      height: 32px;\n",
              "      padding: 0 0 0 0;\n",
              "      width: 32px;\n",
              "    }\n",
              "\n",
              "    .colab-df-convert:hover {\n",
              "      background-color: #E2EBFA;\n",
              "      box-shadow: 0px 1px 2px rgba(60, 64, 67, 0.3), 0px 1px 3px 1px rgba(60, 64, 67, 0.15);\n",
              "      fill: #174EA6;\n",
              "    }\n",
              "\n",
              "    [theme=dark] .colab-df-convert {\n",
              "      background-color: #3B4455;\n",
              "      fill: #D2E3FC;\n",
              "    }\n",
              "\n",
              "    [theme=dark] .colab-df-convert:hover {\n",
              "      background-color: #434B5C;\n",
              "      box-shadow: 0px 1px 3px 1px rgba(0, 0, 0, 0.15);\n",
              "      filter: drop-shadow(0px 1px 2px rgba(0, 0, 0, 0.3));\n",
              "      fill: #FFFFFF;\n",
              "    }\n",
              "  </style>\n",
              "\n",
              "      <script>\n",
              "        const buttonEl =\n",
              "          document.querySelector('#df-b34562ad-5743-4a2d-8f0b-2e06f7edf9e3 button.colab-df-convert');\n",
              "        buttonEl.style.display =\n",
              "          google.colab.kernel.accessAllowed ? 'block' : 'none';\n",
              "\n",
              "        async function convertToInteractive(key) {\n",
              "          const element = document.querySelector('#df-b34562ad-5743-4a2d-8f0b-2e06f7edf9e3');\n",
              "          const dataTable =\n",
              "            await google.colab.kernel.invokeFunction('convertToInteractive',\n",
              "                                                     [key], {});\n",
              "          if (!dataTable) return;\n",
              "\n",
              "          const docLinkHtml = 'Like what you see? Visit the ' +\n",
              "            '<a target=\"_blank\" href=https://colab.research.google.com/notebooks/data_table.ipynb>data table notebook</a>'\n",
              "            + ' to learn more about interactive tables.';\n",
              "          element.innerHTML = '';\n",
              "          dataTable['output_type'] = 'display_data';\n",
              "          await google.colab.output.renderOutput(dataTable, element);\n",
              "          const docLink = document.createElement('div');\n",
              "          docLink.innerHTML = docLinkHtml;\n",
              "          element.appendChild(docLink);\n",
              "        }\n",
              "      </script>\n",
              "    </div>\n",
              "  </div>\n",
              "  "
            ]
          },
          "metadata": {},
          "execution_count": 8
        }
      ],
      "source": [
        "body_description_predictor_test = body_description_test.drop('weight', axis = 1)\n",
        "body_description_predictor_test"
      ]
    },
    {
      "cell_type": "code",
      "execution_count": 9,
      "metadata": {
        "colab": {
          "base_uri": "https://localhost:8080/"
        },
        "id": "rPqEul0zEGZy",
        "outputId": "14dc8ea2-216d-4af8-d142-7fb4e386fea3"
      },
      "outputs": [
        {
          "output_type": "execute_result",
          "data": {
            "text/plain": [
              "179    77.7\n",
              "150    82.7\n",
              "156    85.9\n",
              "107    90.9\n",
              "31     86.2\n",
              "       ... \n",
              "29     80.1\n",
              "337    59.0\n",
              "423    55.5\n",
              "234    54.2\n",
              "220    62.3\n",
              "Name: weight, Length: 357, dtype: float64"
            ]
          },
          "metadata": {},
          "execution_count": 9
        }
      ],
      "source": [
        "body_description_response_train_initial = body_description_training_initial['weight']\n",
        "body_description_response_train_initial"
      ]
    },
    {
      "cell_type": "code",
      "execution_count": 10,
      "metadata": {
        "colab": {
          "base_uri": "https://localhost:8080/"
        },
        "id": "FdkNA2MKHa2g",
        "outputId": "2805d175-8418-4b9c-993f-216e137a25af"
      },
      "outputs": [
        {
          "output_type": "execute_result",
          "data": {
            "text/plain": [
              "0      65.6\n",
              "1      71.8\n",
              "3      72.6\n",
              "6      93.8\n",
              "7      70.0\n",
              "       ... \n",
              "434    53.6\n",
              "437    61.4\n",
              "442    46.8\n",
              "443    57.3\n",
              "445    63.6\n",
              "Name: weight, Length: 89, dtype: float64"
            ]
          },
          "metadata": {},
          "execution_count": 10
        }
      ],
      "source": [
        "body_description_response_test = body_description_test['weight']\n",
        "body_description_response_test"
      ]
    },
    {
      "cell_type": "code",
      "execution_count": 11,
      "metadata": {
        "id": "VXhphErmKyxU"
      },
      "outputs": [],
      "source": [
        "n = len(body_description_training_initial.index)"
      ]
    },
    {
      "cell_type": "code",
      "execution_count": 12,
      "metadata": {
        "colab": {
          "base_uri": "https://localhost:8080/"
        },
        "id": "588L3YW0N4oS",
        "outputId": "d52d00d9-f47a-45a7-93b4-17332eab3743"
      },
      "outputs": [
        {
          "output_type": "execute_result",
          "data": {
            "text/plain": [
              "array([[40.9, 28.7, 32.9, ..., 17.1, 45. ,  1. ],\n",
              "       [39.8, 28. , 34.2, ..., 16.5, 37. ,  1. ],\n",
              "       [42.5, 31.3, 33.1, ..., 17.1, 37. ,  1. ],\n",
              "       ...,\n",
              "       [36.7, 25.2, 29.2, ..., 13.9, 32. ,  0. ],\n",
              "       [36. , 25.6, 31.5, ..., 15.3, 25. ,  0. ],\n",
              "       [39.2, 23.5, 29.9, ..., 18.3, 30. ,  1. ]])"
            ]
          },
          "metadata": {},
          "execution_count": 12
        }
      ],
      "source": [
        "X_array = body_description_predictor_train_initial.to_numpy()\n",
        "X_array"
      ]
    },
    {
      "cell_type": "code",
      "execution_count": 13,
      "metadata": {
        "colab": {
          "base_uri": "https://localhost:8080/"
        },
        "id": "--CGGe-jPWvx",
        "outputId": "3dcaa532-b9b8-4192-8e85-58f14a68388d"
      },
      "outputs": [
        {
          "output_type": "execute_result",
          "data": {
            "text/plain": [
              "array([[40.9, 28.7, 32.9, ..., 45. ,  1. ,  1. ],\n",
              "       [39.8, 28. , 34.2, ..., 37. ,  1. ,  1. ],\n",
              "       [42.5, 31.3, 33.1, ..., 37. ,  1. ,  1. ],\n",
              "       ...,\n",
              "       [36.7, 25.2, 29.2, ..., 32. ,  0. ,  1. ],\n",
              "       [36. , 25.6, 31.5, ..., 25. ,  0. ,  1. ],\n",
              "       [39.2, 23.5, 29.9, ..., 30. ,  1. ,  1. ]])"
            ]
          },
          "metadata": {},
          "execution_count": 13
        }
      ],
      "source": [
        "X = np.hstack((X_array, np.ones((X_array.shape[0], 1), dtype=X_array.dtype)))\n",
        "X"
      ]
    },
    {
      "cell_type": "code",
      "execution_count": 14,
      "metadata": {
        "colab": {
          "base_uri": "https://localhost:8080/"
        },
        "id": "koZ75MEzN0Dj",
        "outputId": "08df4dc6-79aa-4459-f863-74724f7d3af5"
      },
      "outputs": [
        {
          "output_type": "execute_result",
          "data": {
            "text/plain": [
              "(357, 18)"
            ]
          },
          "metadata": {},
          "execution_count": 14
        }
      ],
      "source": [
        "np.shape(X)"
      ]
    },
    {
      "cell_type": "code",
      "execution_count": 15,
      "metadata": {
        "colab": {
          "base_uri": "https://localhost:8080/"
        },
        "id": "ULIADuU2K190",
        "outputId": "28667f6d-31f1-4997-ad20-ae9b6dc2a658"
      },
      "outputs": [
        {
          "output_type": "execute_result",
          "data": {
            "text/plain": [
              "array([ 77.7,  82.7,  85.9,  90.9,  86.2,  62.5,  79.1,  81.8,  54.8,\n",
              "        59.5,  54.8,  61.4,  50.2,  85.9,  48.6,  63.4,  76.6,  64.4,\n",
              "        63.2,  59.3,  54. ,  77.3,  67.3,  82.8,  54.7,  60. ,  73.2,\n",
              "        91.4,  58.2,  72. ,  86.4,  75.5, 116.4,  67.8,  72.4,  54.8,\n",
              "        45. ,  74.5,  80. ,  55.2,  70.6, 108.6,  53.6,  65.9,  64.5,\n",
              "        74.1,  73.6,  59.1,  47.6,  80.2,  50.2,  64.5,  47. ,  63.6,\n",
              "        77.8,  90.9,  73.2,  69.4,  49. ,  62.7,  59.8,  52.7,  54.5,\n",
              "        49.2,  80.5,  55.2,  87.9,  64.1,  57. ,  76.4,  70. ,  95.9,\n",
              "        69.1,  68. ,  48.8,  42. ,  70.9,  57.7,  52.1,  68.4,  84.1,\n",
              "        66.8,  60.2,  66.2,  72.3,  83.2,  55. ,  58.5,  73.1,  81.8,\n",
              "        84.5, 104.1,  55.6,  49.2,  83.2,  66. ,  60.5,  58.6,  60.3,\n",
              "        85.9,  77.3,  72.4,  73.6,  57.2,  66.8,  61.4,  70.7,  63.6,\n",
              "        94.3,  63. ,  52.8,  57.8,  75.3,  57.8,  68.6,  62. ,  75. ,\n",
              "        71. ,  54.6,  62.5,  65.5,  60. ,  76.8,  56.6,  65. ,  94.1,\n",
              "        72.2,  83.2,  75.5,  55.4,  55.2,  72.7,  61. ,  45.8,  50.2,\n",
              "        73.4,  53.2, 101.6,  72. ,  73.6,  85.5,  84.1,  86.4,  46.2,\n",
              "        71.4,  87.3,  91.8,  94.5,  73.2,  68.9,  63.4,  84.8,  85. ,\n",
              "        71.6,  80.9,  51.8,  63.6,  46.4,  90.5,  72.8,  45.7,  95.9,\n",
              "        86.4,  47.8,  55. ,  63.6,  63.2,  73.6,  58.6,  93.6,  62. ,\n",
              "        67.2,  78.6,  50. ,  62.2,  59.8,  53.2,  80.9,  84.1,  86.4,\n",
              "        77.7,  59.4,  71.8,  67.7,  70.9,  75. ,  63. ,  84.1,  85.9,\n",
              "        53.6,  93.2,  62. ,  96.8,  51.8,  55.9,  69.1,  53.6,  52.3,\n",
              "        66.4,  87.8,  75.2,  64.5,  55.5,  67.3,  65.9,  58.2,  70.6,\n",
              "        89.1,  93. ,  59.8, 102.3,  67.9,  53.4,  50. ,  55.9,  54.5,\n",
              "        74.8,  91.4,  54.5,  72.5, 105.2,  54.3,  58.6,  75.7,  88.6,\n",
              "        59.5,  72.5,  63.6,  79.6,  77.7,  56.2,  64.1,  52.7,  60.9,\n",
              "        70.5,  72. ,  56.8,  69.1,  45.9,  69.1,  72. ,  54.4,  54.5,\n",
              "        48.6,  73. ,  73.6,  58.3,  59.2,  86.4,  53.9,  84.5,  89.1,\n",
              "        82.3,  63. ,  82.7,  80.5,  53.4,  67.2,  79.5,  80. ,  56. ,\n",
              "        72.3,  89.6,  85.5,  69.1,  69.2,  86.4,  68.2,  56.4,  71.8,\n",
              "        43.2,  75.6,  70.9,  53.4,  51.6,  47.6, 102.3,  87.1,  56.2,\n",
              "        55. ,  56.8,  59.8,  70. ,  78.8,  81.8,  64.8,  65.9,  81.8,\n",
              "        55.7,  56.6,  65. ,  72.2,  82.5,  76.4,  75.7,  79.5,  58.6,\n",
              "        66.8,  80.9,  83.4,  80.7,  72.9,  81.8,  87.3,  67.7,  55.5,\n",
              "        74.3,  59.1,  67.2,  86.3,  62.7,  72.3,  72.3,  56.6,  74.8,\n",
              "        56.6,  70.2,  64.5,  82.7,  87.7,  60.4,  76.8,  58.2,  72.7,\n",
              "        66.4,  60. ,  80.9,  59. ,  71.6,  60.9,  64.6,  69.1,  73.6,\n",
              "        66.8,  84.5,  62. ,  72. ,  66.1, 101.4,  70. ,  75. ,  69.8,\n",
              "        54.4,  49.2,  59. ,  54.5,  85. ,  61.3,  55.9,  50.6,  55.2,\n",
              "        90.9,  80.1,  59. ,  55.5,  54.2,  62.3])"
            ]
          },
          "metadata": {},
          "execution_count": 15
        }
      ],
      "source": [
        "Y = body_description_response_train_initial.to_numpy()\n",
        "Y"
      ]
    },
    {
      "cell_type": "code",
      "execution_count": 16,
      "metadata": {
        "colab": {
          "base_uri": "https://localhost:8080/"
        },
        "id": "mEIOMFcyNkdi",
        "outputId": "08431f05-278f-45b0-8407-74f6855ec209"
      },
      "outputs": [
        {
          "output_type": "execute_result",
          "data": {
            "text/plain": [
              "(357,)"
            ]
          },
          "metadata": {},
          "execution_count": 16
        }
      ],
      "source": [
        "np.shape(Y)"
      ]
    },
    {
      "cell_type": "markdown",
      "source": [
        "Ordinary least square Method"
      ],
      "metadata": {
        "id": "ya6ln_5a2jYf"
      }
    },
    {
      "cell_type": "code",
      "execution_count": 17,
      "metadata": {
        "colab": {
          "base_uri": "https://localhost:8080/"
        },
        "id": "0ouIAEyNLe1n",
        "outputId": "6671bda0-8d9a-4f42-f335-b9eea37f3d5c"
      },
      "outputs": [
        {
          "output_type": "execute_result",
          "data": {
            "text/plain": [
              "(18, 18)"
            ]
          },
          "metadata": {},
          "execution_count": 17
        }
      ],
      "source": [
        "XTX = np.matmul(np.transpose(X),X)\n",
        "np.shape(XTX)"
      ]
    },
    {
      "cell_type": "code",
      "execution_count": 18,
      "metadata": {
        "colab": {
          "base_uri": "https://localhost:8080/"
        },
        "id": "jjsgPML9Mdw7",
        "outputId": "5b0a3a4e-4ab6-42a7-b70b-ea9214e89a2f"
      },
      "outputs": [
        {
          "output_type": "execute_result",
          "data": {
            "text/plain": [
              "(18, 18)"
            ]
          },
          "metadata": {},
          "execution_count": 18
        }
      ],
      "source": [
        "XY = np.matmul(np.transpose(X),Y)\n",
        "np.shape(XTX)"
      ]
    },
    {
      "cell_type": "markdown",
      "metadata": {
        "id": "qSxcZonUS0AH"
      },
      "source": [
        "h) Using training data, solve an ordinary least squares regression problem and\n",
        "obtain the regression coefficients."
      ]
    },
    {
      "cell_type": "code",
      "execution_count": 19,
      "metadata": {
        "colab": {
          "base_uri": "https://localhost:8080/"
        },
        "id": "2QLA9wG6RRXM",
        "outputId": "3667e463-5f48-41f2-c4a4-b9cdb4054150"
      },
      "outputs": [
        {
          "output_type": "execute_result",
          "data": {
            "text/plain": [
              "array([ 1.65563392e-01,  3.79217462e-01,  3.09423939e-01,  6.72371610e-01,\n",
              "        2.19842545e-01,  3.80662137e-02,  6.21212901e-01,  2.28579738e-01,\n",
              "        4.98570398e-01,  1.88156514e-01,  3.82361140e-01,  7.73652110e-01,\n",
              "        3.78211090e-01,  9.80358150e-03, -1.49926314e-01, -1.03543647e-01,\n",
              "       -2.34217875e+00, -9.25193831e+01])"
            ]
          },
          "metadata": {},
          "execution_count": 19
        }
      ],
      "source": [
        "beta = np.matmul(np.linalg.inv(XTX),XY)\n",
        "beta"
      ]
    },
    {
      "cell_type": "markdown",
      "metadata": {
        "id": "ZN1ZrYWKS_PL"
      },
      "source": [
        "Computing R square value"
      ]
    },
    {
      "cell_type": "code",
      "execution_count": 20,
      "metadata": {
        "colab": {
          "base_uri": "https://localhost:8080/"
        },
        "id": "L9CWLUQKTvEg",
        "outputId": "4c399e05-7f75-429a-f1d7-a0f900c75e71"
      },
      "outputs": [
        {
          "output_type": "execute_result",
          "data": {
            "text/plain": [
              "357"
            ]
          },
          "metadata": {},
          "execution_count": 20
        }
      ],
      "source": [
        "n = len(body_description_predictor_train_initial)\n",
        "n"
      ]
    },
    {
      "cell_type": "code",
      "execution_count": 21,
      "metadata": {
        "colab": {
          "base_uri": "https://localhost:8080/"
        },
        "id": "gWand8vftrIi",
        "outputId": "53d2cff6-d4b8-4602-d10c-2b80d3782bff"
      },
      "outputs": [
        {
          "output_type": "stream",
          "name": "stdout",
          "text": [
            "y_bar 68.95602240896358\n",
            "variance 183.09540490706087\n",
            "sigma_yy 65181.96414691367\n",
            "sum of squared residuals: 2852.751742236379\n",
            "MSE: 7.990901238757364\n",
            "R^2: 0.9562340322269737\n"
          ]
        }
      ],
      "source": [
        "ybar = np.mean(Y)\n",
        "print('y_bar', ybar) \n",
        "\n",
        "variance = np.var(Y)\n",
        "print('variance',variance)\n",
        "sigma_yy = variance*(n-1)\n",
        "print('sigma_yy',sigma_yy)\n",
        "\n",
        "sum_sq_residuals = 0\n",
        "for i in range(n): #access each row from the data set \n",
        "  x_i = X[i,:] #access i-th row of X\n",
        "  y_i = Y[i] #access i-th row of y\n",
        "\n",
        "  y_pred_i = np.dot(x_i,beta) #compute the prediction obtained using the regression coefficients \n",
        "  e_i = y_i - y_pred_i #compute the difference between the actual observation y_i and prediction y_pred_i\n",
        "\n",
        "  sum_sq_residuals += (e_i)**2\n",
        "\n",
        "print('sum of squared residuals:', sum_sq_residuals)\n",
        "mse = (sum_sq_residuals)/n\n",
        "print('MSE:', mse)\n",
        "R_sq = 1-sum_sq_residuals/sigma_yy\n",
        "print('R^2:',R_sq)"
      ]
    },
    {
      "cell_type": "markdown",
      "metadata": {
        "id": "6esoZQrIaTb3"
      },
      "source": [
        "Finding R^2 value for test data"
      ]
    },
    {
      "cell_type": "code",
      "execution_count": 22,
      "metadata": {
        "colab": {
          "base_uri": "https://localhost:8080/"
        },
        "id": "jvHkGFVpfIZe",
        "outputId": "7963fd4d-5dce-462e-8594-83e7478bb7a6"
      },
      "outputs": [
        {
          "output_type": "execute_result",
          "data": {
            "text/plain": [
              "array([[42.9, 26. , 31.5, ..., 16.5, 21. ,  1. ],\n",
              "       [43.7, 28.5, 33.5, ..., 17. , 23. ,  1. ],\n",
              "       [44.3, 29.9, 34. , ..., 16.6, 23. ,  1. ],\n",
              "       ...,\n",
              "       [35.3, 25.4, 28.5, ..., 15.4, 31. ,  0. ],\n",
              "       [36.2, 28.7, 27.8, ..., 15.2, 34. ,  0. ],\n",
              "       [38.7, 29.7, 32. , ..., 15. , 24. ,  0. ]])"
            ]
          },
          "metadata": {},
          "execution_count": 22
        }
      ],
      "source": [
        "X_array_test =body_description_predictor_test.to_numpy() \n",
        "X_array_test"
      ]
    },
    {
      "cell_type": "code",
      "execution_count": 23,
      "metadata": {
        "colab": {
          "base_uri": "https://localhost:8080/"
        },
        "id": "9OZ2fx6AfrJX",
        "outputId": "d9c7538e-8592-4618-c313-864ce80aaab0"
      },
      "outputs": [
        {
          "output_type": "execute_result",
          "data": {
            "text/plain": [
              "array([[42.9, 26. , 31.5, ..., 21. ,  1. ,  1. ],\n",
              "       [43.7, 28.5, 33.5, ..., 23. ,  1. ,  1. ],\n",
              "       [44.3, 29.9, 34. , ..., 23. ,  1. ,  1. ],\n",
              "       ...,\n",
              "       [35.3, 25.4, 28.5, ..., 31. ,  0. ,  1. ],\n",
              "       [36.2, 28.7, 27.8, ..., 34. ,  0. ,  1. ],\n",
              "       [38.7, 29.7, 32. , ..., 24. ,  0. ,  1. ]])"
            ]
          },
          "metadata": {},
          "execution_count": 23
        }
      ],
      "source": [
        "X_test  = np.hstack((X_array_test, np.ones((X_array_test.shape[0], 1))))\n",
        "X_test"
      ]
    },
    {
      "cell_type": "code",
      "execution_count": 24,
      "metadata": {
        "colab": {
          "base_uri": "https://localhost:8080/"
        },
        "id": "WVxaoUZwivy_",
        "outputId": "ec88b79c-5093-44e9-fb95-4001fbc69a00"
      },
      "outputs": [
        {
          "output_type": "execute_result",
          "data": {
            "text/plain": [
              "(89, 18)"
            ]
          },
          "metadata": {},
          "execution_count": 24
        }
      ],
      "source": [
        "np.shape(X_test)"
      ]
    },
    {
      "cell_type": "code",
      "execution_count": 25,
      "metadata": {
        "colab": {
          "base_uri": "https://localhost:8080/"
        },
        "id": "N1a48JWSi7Br",
        "outputId": "ee4d5804-c117-45a6-815e-91d50938a65f"
      },
      "outputs": [
        {
          "output_type": "execute_result",
          "data": {
            "text/plain": [
              "array([ 65.6,  71.8,  72.6,  93.8,  70. ,  81.8,  86.8,  68.2,  78.9,\n",
              "        67.7,  63.9,  65.9,  87.7,  73.2,  53.9,  58.4,  72.3,  93.2,\n",
              "        58. ,  83.6,  72.7,  84.1,  63.6,  68.6,  70.5,  71.8,  75.5,\n",
              "        84.1,  80.5,  81.8,  73.6,  92.7,  93.2,  61.4,  83.6,  85.5,\n",
              "        73.9,  66.8,  87.3,  88.6,  75.5,  91.1,  67.3,  75.5, 102.5,\n",
              "        77.3,  76.3,  90.9,  89.1,  49.8,  68.8,  82.5,  83. ,  62.3,\n",
              "        59.8,  46.5,  60.7,  60.3,  61.1,  48.7,  55.7,  50. ,  55.9,\n",
              "        52.2,  73.2,  69. ,  58.4,  65.2,  44.8,  58.8,  53.8,  58. ,\n",
              "        55.5,  52.7,  63.2,  64.1,  50. ,  56.8,  63.2,  53.2,  70.5,\n",
              "        63.6,  70.5,  62.3,  53.6,  61.4,  46.8,  57.3,  63.6])"
            ]
          },
          "metadata": {},
          "execution_count": 25
        }
      ],
      "source": [
        "Y_test = body_description_response_test.to_numpy()\n",
        "Y_test"
      ]
    },
    {
      "cell_type": "code",
      "execution_count": 26,
      "metadata": {
        "colab": {
          "base_uri": "https://localhost:8080/"
        },
        "id": "szTk73QDjP42",
        "outputId": "7fcac636-0684-4722-c98e-b7b75d78e0ac"
      },
      "outputs": [
        {
          "output_type": "execute_result",
          "data": {
            "text/plain": [
              "(89,)"
            ]
          },
          "metadata": {},
          "execution_count": 26
        }
      ],
      "source": [
        "np.shape(Y_test)"
      ]
    },
    {
      "cell_type": "code",
      "execution_count": 27,
      "metadata": {
        "colab": {
          "base_uri": "https://localhost:8080/"
        },
        "id": "5oYzDwScX2Gj",
        "outputId": "12fdc37e-0ec4-400b-9873-c058056dd2d9"
      },
      "outputs": [
        {
          "output_type": "execute_result",
          "data": {
            "text/plain": [
              "89"
            ]
          },
          "metadata": {},
          "execution_count": 27
        }
      ],
      "source": [
        "n1 = len(body_description_predictor_test)\n",
        "n1"
      ]
    },
    {
      "cell_type": "code",
      "execution_count": 28,
      "metadata": {
        "colab": {
          "base_uri": "https://localhost:8080/"
        },
        "id": "Z8Vs86GJ_boi",
        "outputId": "83ddfe17-90d0-4b37-8927-b3b1ad8bc768"
      },
      "outputs": [
        {
          "output_type": "execute_result",
          "data": {
            "text/plain": [
              "array([ 1.65563392e-01,  3.79217462e-01,  3.09423939e-01,  6.72371610e-01,\n",
              "        2.19842545e-01,  3.80662137e-02,  6.21212901e-01,  2.28579738e-01,\n",
              "        4.98570398e-01,  1.88156514e-01,  3.82361140e-01,  7.73652110e-01,\n",
              "        3.78211090e-01,  9.80358150e-03, -1.49926314e-01, -1.03543647e-01,\n",
              "       -2.34217875e+00, -9.25193831e+01])"
            ]
          },
          "metadata": {},
          "execution_count": 28
        }
      ],
      "source": [
        "beta"
      ]
    },
    {
      "cell_type": "code",
      "execution_count": 29,
      "metadata": {
        "colab": {
          "base_uri": "https://localhost:8080/"
        },
        "id": "jmIAsZmlY-VQ",
        "outputId": "d9809d63-7256-4e17-bd22-343e6b9d61ab"
      },
      "outputs": [
        {
          "output_type": "stream",
          "name": "stdout",
          "text": [
            "y_bar_test 69.20674157303371\n",
            "variance_test 173.27253882085594\n",
            "sigma_yy_test 61685.02382022471\n",
            "sum of squared residuals: 923.1357980860251\n",
            "MSE: 10.372312338045226\n",
            "R^2_test: 0.9850346852296529\n"
          ]
        }
      ],
      "source": [
        "ybar_test = np.mean(Y_test)\n",
        "print('y_bar_test', ybar_test) \n",
        "\n",
        "variance_test = np.var(Y_test)\n",
        "print('variance_test',variance_test)\n",
        "sigma_yy_test = variance_test*(n-1)\n",
        "print('sigma_yy_test',sigma_yy_test)\n",
        "\n",
        "sum_sq_residuals_test = 0\n",
        "for i in range(n1): #access each row from the data set \n",
        "  x_i = X_test[i,:] #access i-th row of X\n",
        "  y_i = Y_test[i] #access i-th row of y\n",
        "\n",
        "  y_pred_i_test = np.dot(x_i,beta) #compute the prediction obtained using the regression coefficients \n",
        "  e_i_test = y_i - y_pred_i_test #compute the difference between the actual observation y_i and prediction y_pred_i\n",
        "  sum_sq_residuals_test += (e_i_test)**2\n",
        "print('sum of squared residuals:', sum_sq_residuals_test)\n",
        "mse_testt = sum_sq_residuals_test/n1\n",
        "print('MSE:', mse_testt)\n",
        "\n",
        "R_sq_test = 1-sum_sq_residuals_test/sigma_yy_test\n",
        "print('R^2_test:',R_sq_test)"
      ]
    },
    {
      "cell_type": "markdown",
      "metadata": {
        "id": "KGl7arpgd8_A"
      },
      "source": [
        "i) Residual vs fitted response plot for training data"
      ]
    },
    {
      "cell_type": "code",
      "execution_count": 30,
      "metadata": {
        "colab": {
          "base_uri": "https://localhost:8080/",
          "height": 295
        },
        "id": "qyLkg2JJasKl",
        "outputId": "62455b34-6075-44fd-cc65-2bc2f3004e1e"
      },
      "outputs": [
        {
          "output_type": "display_data",
          "data": {
            "text/plain": [
              "<Figure size 432x288 with 1 Axes>"
            ],
            "image/png": "[encoded data removed]"
          },
          "metadata": {
            "needs_background": "light"
          }
        }
      ],
      "source": [
        "e_i_residuals_list = [] \n",
        "y_pred_i_list = []\n",
        "for i in range(n): \n",
        "  x_i = X[i,:] #access i-th row of X\n",
        "  y_i = Y[i] #access i-th row of y\n",
        "\n",
        "  y_pred_i = np.dot(x_i,beta) #compute the prediction obtained using the regression coefficients \n",
        "  e_i = y_i - y_pred_i #compute the difference between the actual observation y_i and prediction y_pred_i\n",
        "  y_pred_i_list.append(y_pred_i)\n",
        "  e_i_residuals_list.append(e_i) #append the value of e_i to the list \n",
        "\n",
        "#plot the residuals e_i against the actual observations y_i\n",
        "plt.scatter(y_pred_i_list, e_i_residuals_list,color='r')\n",
        "plt.title(\"Residual plot\")\n",
        "plt.xlabel(\"predicted values\")\n",
        "plt.ylabel(\"Residuals\")\n",
        "plt.grid()\n",
        "plt.show()"
      ]
    },
    {
      "cell_type": "markdown",
      "metadata": {
        "id": "HxHKK2T_gXsq"
      },
      "source": [
        "There are some points which have very large residual as compared to other points in the dataset but they are negligible as compared to the whole datapoints and therefore there removal shouldn't affect the results much."
      ]
    },
    {
      "cell_type": "markdown",
      "metadata": {
        "id": "TrrlVY8shoPe"
      },
      "source": [
        "Residual vs fitted response plot for test data"
      ]
    },
    {
      "cell_type": "code",
      "execution_count": 31,
      "metadata": {
        "colab": {
          "base_uri": "https://localhost:8080/",
          "height": 295
        },
        "id": "GpQgASiLgqGs",
        "outputId": "a614755c-3957-43f2-c08f-23ede011305b"
      },
      "outputs": [
        {
          "output_type": "display_data",
          "data": {
            "text/plain": [
              "<Figure size 432x288 with 1 Axes>"
            ],
            "image/png": "[encoded data removed]"
          },
          "metadata": {
            "needs_background": "light"
          }
        }
      ],
      "source": [
        "e_i_residuals_list_test = [] \n",
        "y_pred_i_list_test = []\n",
        "for i in range(n1): \n",
        "  x_i = X_test[i,:] #access i-th row of X\n",
        "  y_i = Y_test[i] #access i-th row of y\n",
        "\n",
        "  y_pred_i_test = np.dot(x_i,beta) #compute the prediction obtained using the regression coefficients \n",
        "  e_i_test = y_i - y_pred_i_test #compute the difference between the actual observation y_i and prediction y_pred_i\n",
        "  y_pred_i_list_test.append(y_pred_i_test)\n",
        "  e_i_residuals_list_test.append(e_i_test) #append the value of e_i to the list \n",
        "\n",
        "#plot the residuals e_i against the actual observations y_i\n",
        "plt.scatter(y_pred_i_list_test, e_i_residuals_list_test,color='r')\n",
        "plt.title(\"Residual plot\")\n",
        "plt.xlabel(\"predicted values\")\n",
        "plt.ylabel(\"Residuals\")\n",
        "plt.grid()\n",
        "plt.show()"
      ]
    },
    {
      "cell_type": "markdown",
      "metadata": {
        "id": "-P_o_lo2iBsu"
      },
      "source": [
        "**The R^2 value and MSE for the training data comes out to be 0.956 and 7.99. Since the R^2 value is close to one and MSE is also low, it shows that the assumed model is a good fit for the given dataset. Whereas for the test set, the R^2 value is 0.985 whereas MSE is 10.372 which strongly supports the assumed model. As far as the residual vs fitted response plot is concerned, there is no specific pattern observable which again supports the results.**"
      ]
    },
    {
      "cell_type": "code",
      "execution_count": 32,
      "metadata": {
        "colab": {
          "base_uri": "https://localhost:8080/"
        },
        "id": "C-AiPxx5i6Ia",
        "outputId": "38e540ca-8d9f-44b7-b9a2-3e5139174425"
      },
      "outputs": [
        {
          "output_type": "stream",
          "name": "stdout",
          "text": [
            "16561947.859356651\n"
          ]
        }
      ],
      "source": [
        "print(np.linalg.cond(XTX))"
      ]
    },
    {
      "cell_type": "markdown",
      "metadata": {
        "id": "-9B_aKcq361A"
      },
      "source": [
        "We can see that the ill-conditioning of  X⊤X  might lead to wild changes in solutions of linear regression parameters, even for small changes in the output  y ."
      ]
    },
    {
      "cell_type": "markdown",
      "metadata": {
        "id": "Yg2-X3nJ9oQZ"
      },
      "source": [
        " Solving for beta for different lambdas"
      ]
    },
    {
      "cell_type": "markdown",
      "metadata": {
        "id": "6tcbPaDWYlmY"
      },
      "source": [
        "5-fold cross validation"
      ]
    },
    {
      "cell_type": "code",
      "execution_count": 33,
      "metadata": {
        "id": "qLNkZNrVi3Be"
      },
      "outputs": [],
      "source": [
        "def compute_Rsquared_and_MSE(data, betaa, X, Y): \n",
        "\n",
        "  #first we shall compute y_bar \n",
        "  y_bar = 0.\n",
        "  n = len(data)\n",
        "  for i in range(n): #access each row from the data set \n",
        "    y_i= float(data.iat[i,0]) #access element at mpg column\n",
        "    y_bar += y_i\n",
        "\n",
        "  y_bar /= n\n",
        "  #print('y_bar',y_bar)\n",
        "\n",
        "  variance = np.var(Y)\n",
        "  sigma_yy = variance*(n-1)\n",
        "  #Next we shall compute sigma_yy, which is the variance of y \n",
        "  #sigma_yy = 0\n",
        "  for i in range(n): #access each row from the data set \n",
        "    y_i = float(data.iat[i,0]) #access element at mpg column\n",
        "    sigma_yy += (y_i-y_bar)**2\n",
        "\n",
        "  #print('sigma_yy:', sigma_yy)\n",
        "\n",
        "  #print('\\n_________________________\\n')\n",
        "\n",
        "  #now we can compute sum of squared residuals \n",
        "  sum_sq_residuals = 0.\n",
        "  for i in range(n): #access each row from the data set \n",
        "    x_i = X[i,:] #access i-th row of X\n",
        "    y_i = Y[i] #access i-th row of y\n",
        "\n",
        "    y_pred_i = np.dot(x_i,betaa) #compute the prediction obtained using the regression coefficients \n",
        "    e_i = y_i - y_pred_i #compute the difference between the actual observation y_i and prediction y_pred_i\n",
        "\n",
        "    sum_sq_residuals += (e_i)**2\n",
        "\n",
        "    \n",
        "  #Then we will compute the R^2 quantity and MSE\n",
        "  R_sq = 1-sum_sq_residuals/sigma_yy\n",
        "  MSE = sum_sq_residuals/n\n",
        "  print('R^2 :',R_sq, ' MSE:',MSE)\n",
        "  return R_sq, MSE"
      ]
    },
    {
      "cell_type": "code",
      "execution_count": 34,
      "metadata": {
        "colab": {
          "base_uri": "https://localhost:8080/"
        },
        "id": "enJSAhd_kUEB",
        "outputId": "4b3465ce-4c2b-4cdf-f847-2e2d60db51c8"
      },
      "outputs": [
        {
          "output_type": "stream",
          "name": "stdout",
          "text": [
            "lambda: 1e-05\n",
            "beta: [ 1.08384704e-01  3.06445702e-01  4.71789160e-01  7.78660432e-01\n",
            "  2.23462575e-01  7.01855902e-02  5.26015174e-01  2.27410367e-01\n",
            "  4.87202534e-01  2.33354733e-01  3.08789838e-01  8.01145133e-01\n",
            "  3.58982999e-01  2.95611187e-02 -6.35766405e-01 -8.61461884e-02\n",
            " -1.15982495e+00 -8.70039418e+01]\n",
            "***************\n",
            "R^2 : 0.961376336630968  MSE: 7.098890007632549\n",
            "R^2 : 0.9461906426766673  MSE: 9.298286419702597\n",
            "lambda: 0.0001\n",
            "beta: [ 1.08244117e-01  3.06326280e-01  4.71670926e-01  7.78968727e-01\n",
            "  2.23398176e-01  7.01485338e-02  5.25723891e-01  2.27325671e-01\n",
            "  4.87253059e-01  2.33529165e-01  3.08533227e-01  8.01102320e-01\n",
            "  3.59019358e-01  2.95717938e-02 -6.35982798e-01 -8.61487609e-02\n",
            " -1.15780078e+00 -8.69809639e+01]\n",
            "***************\n",
            "R^2 : 0.9613763314014091  MSE: 7.098890968806601\n",
            "R^2 : 0.9461904464574837  MSE: 9.29832032648499\n",
            "lambda: 0.001\n",
            "beta: [ 1.06842429e-01  3.05135480e-01  4.70491946e-01  7.82042685e-01\n",
            "  2.22756013e-01  6.97790479e-02  5.22819704e-01  2.26481175e-01\n",
            "  4.87756859e-01  2.35268417e-01  3.05974725e-01  8.00675352e-01\n",
            "  3.59381849e-01  2.96782151e-02 -6.38140331e-01 -8.61744139e-02\n",
            " -1.13761959e+00 -8.67518551e+01]\n",
            "***************\n",
            "R^2 : 0.9613758112422073  MSE: 7.09898657219163\n",
            "R^2 : 0.9461876640765559  MSE: 9.298801123433377\n",
            "lambda: 0.01\n",
            "beta: [ 9.32316457e-02  2.93560430e-01  4.59028551e-01  8.11909046e-01\n",
            "  2.16511929e-01  6.61888707e-02  4.94617458e-01  2.18275269e-01\n",
            "  4.92654490e-01  2.52167654e-01  2.81128706e-01  7.96518667e-01\n",
            "  3.62899928e-01  3.07104895e-02 -6.59095072e-01 -8.64239708e-02\n",
            " -9.41693810e-01 -8.45259056e+01]\n",
            "***************\n",
            "R^2 : 0.9613264736793604  MSE: 7.108054638277133\n",
            "R^2 : 0.9460824970830367  MSE: 9.316974037519019\n",
            "lambda: 0.1\n",
            "beta: [-1.15315239e-02  2.03517479e-01  3.69599142e-01  1.04315437e+00\n",
            "  1.67782145e-01  3.83687680e-02  2.77404160e-01  1.54672021e-01\n",
            "  5.30792317e-01  3.83078413e-01  8.97105651e-02  7.63680583e-01\n",
            "  3.89836319e-01  3.85685924e-02 -8.20735102e-01 -8.83809720e-02\n",
            "  5.63269812e-01 -6.72950581e+01]\n",
            "***************\n",
            "R^2 : 0.9582278289516596  MSE: 7.677574362092764\n",
            "R^2 : 0.9404839112646681  MSE: 10.28441273357463\n",
            "lambda: 1\n",
            "beta: [-2.66435155e-01 -4.40606178e-02  1.16043003e-01  1.64501863e+00\n",
            "  2.94484829e-02 -3.49212504e-02 -2.54855166e-01 -1.33307813e-02\n",
            "  6.36859294e-01  7.26631440e-01 -3.81046992e-01  6.58223990e-01\n",
            "  4.50921428e-01  5.49998328e-02 -1.22353972e+00 -9.42458268e-02\n",
            "  4.13110224e+00 -2.24344732e+01]\n",
            "***************\n",
            "R^2 : 0.927550787113802  MSE: 13.31590399659088\n",
            "R^2 : 0.88696955654747  MSE: 19.531722541348646\n",
            "lambda: 10\n",
            "beta: [-0.258253   -0.23257029 -0.12975803  1.79104964 -0.0853605  -0.07098147\n",
            " -0.23914102 -0.09814147  0.72837862  0.88241657 -0.38047729  0.47004136\n",
            "  0.40660162  0.03224575 -1.21097619 -0.10283033  3.28857434 -3.20176182]\n",
            "***************\n",
            "R^2 : 0.9020365098324954  MSE: 18.005336128226954\n",
            "R^2 : 0.8508376831044231  MSE: 25.775330063645054\n",
            "lambda: 100\n",
            "beta: [-0.17161054 -0.28114345 -0.2656086   0.90204719 -0.03974322 -0.04947212\n",
            "  0.06336271 -0.0851905   0.79196108  0.78232867 -0.01290051  0.20999742\n",
            "  0.24425495  0.00542314 -0.51704492 -0.1162711   0.72352118 -0.38734951]\n",
            "***************\n",
            "R^2 : 0.8872718956656455  MSE: 20.719018954585625\n",
            "R^2 : 0.8378631694727381  MSE: 28.01733312602749\n",
            "lambda: 1000\n",
            "beta: [-0.14698595 -0.18368694 -0.18099691  0.16370622  0.00740708 -0.02559168\n",
            "  0.0321001   0.04784435  0.77181076  0.44666002  0.14986918  0.03272353\n",
            "  0.08550806  0.0313831  -0.04250182 -0.10755613  0.12093472 -0.04862698]\n",
            "***************\n",
            "R^2 : 0.8726990207127721  MSE: 23.397460805038815\n",
            "R^2 : 0.8133895488725909  MSE: 32.246388171229235\n",
            "lambda: 10000\n",
            "beta: [-0.00798145 -0.03586536 -0.03673044  0.03616966  0.01340354  0.00060923\n",
            "  0.01504321  0.20847931  0.48645813  0.17996065  0.08595527  0.02309604\n",
            "  0.03845017  0.03055907  0.01891913 -0.00748033  0.02728166 -0.00661106]\n",
            "***************\n",
            "R^2 : 0.8188652534617886  MSE: 33.29191304173769\n",
            "R^2 : 0.7633976715484614  MSE: 40.88501195603381\n",
            "lambda: 1e-05\n",
            "beta: [ 1.82423818e-01  3.32837316e-01  4.27925022e-01  5.05439082e-01\n",
            "  6.36022136e-01 -1.11230776e-02  5.66782580e-01  1.89596989e-01\n",
            "  5.08581724e-01  2.85950074e-01  3.90253296e-01  6.31710849e-01\n",
            "  3.78963615e-01  1.21910803e-01 -5.12393502e-01 -9.24024555e-02\n",
            " -1.94467608e+00 -8.81382724e+01]\n",
            "***************\n",
            "R^2 : 0.9592518296971418  MSE: 7.6769875053574115\n",
            "R^2 : 0.9559771622848705  MSE: 6.931714331681502\n",
            "lambda: 0.0001\n",
            "beta: [ 1.82292236e-01  3.32746697e-01  4.27827367e-01  5.05628516e-01\n",
            "  6.35962852e-01 -1.11282103e-02  5.66552405e-01  1.89511903e-01\n",
            "  5.08632733e-01  2.86118218e-01  3.90133999e-01  6.31648666e-01\n",
            "  3.78976629e-01  1.21948025e-01 -5.12648640e-01 -9.24094021e-02\n",
            " -1.94305435e+00 -8.81184762e+01]\n",
            "***************\n",
            "R^2 : 0.9592518252412886  MSE: 7.676988344843691\n",
            "R^2 : 0.9559789252534271  MSE: 6.931436739526059\n",
            "lambda: 0.001\n",
            "beta: [ 1.80979712e-01  3.31842716e-01  4.26853176e-01  5.07518195e-01\n",
            "  6.35371456e-01 -1.11794340e-02  5.64256450e-01  1.88663150e-01\n",
            "  5.09141572e-01  2.87795490e-01  3.88944070e-01  6.31028319e-01\n",
            "  3.79106426e-01  1.22319287e-01 -5.15193641e-01 -9.24786991e-02\n",
            " -1.92687831e+00 -8.79210043e+01]\n",
            "***************\n",
            "R^2 : 0.9592513816800146  MSE: 7.677071912138443\n",
            "R^2 : 0.9559961266459931  MSE: 6.928728255803446\n",
            "lambda: 0.01\n",
            "beta: [ 1.68176464e-01  3.23018818e-01  4.17341317e-01  5.25959498e-01\n",
            "  6.29598258e-01 -1.16816212e-02  5.41862470e-01  1.80381243e-01\n",
            "  5.14108256e-01  3.04162209e-01  3.77340426e-01  6.24970116e-01\n",
            "  3.80371463e-01  1.25938649e-01 -5.40020967e-01 -9.31551415e-02\n",
            " -1.76913573e+00 -8.59941508e+01]\n",
            "***************\n",
            "R^2 : 0.9592089765078132  MSE: 7.685061080111697\n",
            "R^2 : 0.956127277338005  MSE: 6.908077630386905\n",
            "lambda: 0.1\n",
            "beta: [ 6.58858911e-02  2.52045533e-01  3.40620397e-01  6.73949420e-01\n",
            "  5.83120987e-01 -1.58985170e-02  3.63136439e-01  1.14003079e-01\n",
            "  5.54042781e-01  4.35367052e-01  2.84937550e-01  5.76006403e-01\n",
            "  3.90389577e-01  1.54678004e-01 -7.38507895e-01 -9.85979962e-02\n",
            " -5.12890909e-01 -7.05526607e+01]\n",
            "***************\n",
            "R^2 : 0.956374349846866  MSE: 8.219106984423602\n",
            "R^2 : 0.9547730630546841  MSE: 7.121308467903681\n",
            "lambda: 1\n",
            "beta: [ -0.22278216   0.03624878   0.10032695   1.11185279   0.43995021\n",
            "  -0.03459929  -0.13464001  -0.08016466   0.67506387   0.82010393\n",
            "   0.03413367   0.41929828   0.41565487   0.22977856  -1.30141872\n",
            "  -0.11523445   2.89933426 -25.43712243]\n",
            "***************\n",
            "R^2 : 0.9226607502190028  MSE: 14.570775812252498\n",
            "R^2 : 0.926156062075947  MSE: 11.627262334341578\n",
            "lambda: 10\n",
            "beta: [-0.29214917 -0.12279968 -0.12706517  1.28428482  0.29328208 -0.0928246\n",
            " -0.18219151 -0.17260717  0.76524276  1.01020933  0.04882676  0.24004104\n",
            "  0.39301175  0.1928337  -1.35943773 -0.12946692  2.69321968 -3.65456114]\n",
            "***************\n",
            "R^2 : 0.8913618181035163  MSE: 20.467519371429354\n",
            "R^2 : 0.8952359610253514  MSE: 16.4958559714981\n",
            "lambda: 100\n",
            "beta: [-0.25133141 -0.16523025 -0.23593869  0.6809283   0.09626589 -0.12646038\n",
            "  0.05993768 -0.14879444  0.81781805  0.9402123   0.23400983  0.04470914\n",
            "  0.27997915  0.07529979 -0.53956145 -0.14337704  0.64049532 -0.42979392]\n",
            "***************\n",
            "R^2 : 0.8786016504529143  MSE: 22.871545046493015\n",
            "R^2 : 0.8740017969653346  MSE: 19.83932874552851\n",
            "lambda: 1000\n",
            "beta: [-0.18826315 -0.14016549 -0.16409442  0.14080591  0.02527933 -0.05623239\n",
            "  0.03123622  0.01023949  0.79185302  0.54737324  0.22476061 -0.02899261\n",
            "  0.10239828  0.04310572 -0.0370688  -0.1288996   0.11706298 -0.05458388]\n",
            "***************\n",
            "R^2 : 0.8639537604260247  MSE: 25.63121910990472\n",
            "R^2 : 0.8713256472570231  MSE: 20.260707880759785\n",
            "lambda: 10000\n",
            "beta: [-0.00662796 -0.02864233 -0.0282693   0.0370306   0.01535661 -0.00299214\n",
            "  0.01634367  0.20486951  0.4830092   0.18992447  0.09624555  0.01693941\n",
            "  0.0401941   0.03284728  0.02121091 -0.02091572  0.02705894 -0.00734996]\n",
            "***************\n",
            "R^2 : 0.8019410786193224  MSE: 37.314457396811704\n",
            "R^2 : 0.8438109291690639  MSE: 24.5930993303218\n",
            "lambda: 1e-05\n",
            "beta: [ 7.93742061e-02  4.17319532e-01  3.47168010e-01  8.67859860e-01\n",
            "  5.87488951e-01  7.61142710e-02  4.03136221e-01  1.87810496e-01\n",
            "  4.95137258e-01  2.52783412e-01  3.33061122e-01  7.65595072e-01\n",
            "  4.09508679e-01  3.61207704e-02 -6.84936390e-01 -9.67891939e-02\n",
            " -1.32101246e+00 -8.52450168e+01]\n",
            "***************\n",
            "R^2 : 0.9570420062222986  MSE: 8.06601285074968\n",
            "R^2 : 0.9650583860737333  MSE: 5.322100764270173\n",
            "lambda: 0.0001\n",
            "beta: [ 7.91912488e-02  4.17252948e-01  3.47075320e-01  8.68073079e-01\n",
            "  5.87491216e-01  7.61289321e-02  4.02827895e-01  1.87732871e-01\n",
            "  4.95172962e-01  2.52936469e-01  3.32882869e-01  7.65539943e-01\n",
            "  4.09549984e-01  3.61316100e-02 -6.85148511e-01 -9.67957713e-02\n",
            " -1.31882846e+00 -8.52236166e+01]\n",
            "***************\n",
            "R^2 : 0.9570420015493227  MSE: 8.066013728171548\n",
            "R^2 : 0.965053619980248  MSE: 5.322826707548987\n",
            "lambda: 0.001\n",
            "beta: [ 7.73668305e-02  4.16588896e-01  3.46150917e-01  8.70199379e-01\n",
            "  5.87513783e-01  7.62750753e-02  3.99753440e-01  1.86958773e-01\n",
            "  4.95529048e-01  2.54462801e-01  3.31105366e-01  7.64990112e-01\n",
            "  4.09961826e-01  3.62396783e-02 -6.87263761e-01 -9.68613676e-02\n",
            " -1.29705091e+00 -8.50102096e+01]\n",
            "***************\n",
            "R^2 : 0.9570415366327989  MSE: 8.066101023278378\n",
            "R^2 : 0.9650053506654711  MSE: 5.330178805182673\n",
            "lambda: 0.01\n",
            "beta: [ 5.96240055e-02  4.10121552e-01  3.37149487e-01  8.90889478e-01\n",
            "  5.87730868e-01  7.76910316e-02  3.69865259e-01  1.79427634e-01\n",
            "  4.98996585e-01  2.69314550e-01  3.13819437e-01  7.59633392e-01\n",
            "  4.13963260e-01  3.72884823e-02 -7.07836829e-01 -9.75001001e-02\n",
            " -1.08534921e+00 -8.29340162e+01]\n",
            "***************\n",
            "R^2 : 0.9569973299012425  MSE: 8.074401505527819\n",
            "R^2 : 0.9644654961931667  MSE: 5.412406257689856\n",
            "lambda: 0.1\n",
            "beta: [-7.86831058e-02  3.58968257e-01  2.66073965e-01  1.05307336e+00\n",
            "  5.89231614e-01  8.83061136e-02  1.37799333e-01  1.20492380e-01\n",
            "  5.26386941e-01  3.85710604e-01  1.79124674e-01  7.17121682e-01\n",
            "  4.44851861e-01  4.52902787e-02 -8.68347237e-01 -1.02542346e-01\n",
            "  5.57787627e-01 -6.66888124e+01]\n",
            "***************\n",
            "R^2 : 0.9541667752613399  MSE: 8.605880936768273\n",
            "R^2 : 0.9558644726933125  MSE: 6.72246348168284\n",
            "lambda: 1\n",
            "beta: [ -0.4356249    0.20425882   0.05485349   1.49792702   0.58655421\n",
            "   0.10272922  -0.43246209  -0.03855993   0.60816199   0.70515114\n",
            "  -0.1667941    0.58401742   0.51511823   0.06047935  -1.28540283\n",
            "  -0.11751867   4.5792794  -22.89154919]\n",
            "***************\n",
            "R^2 : 0.9245354097310111  MSE: 14.169617837278663\n",
            "R^2 : 0.8961302556390832  MSE: 15.820827481360872\n",
            "lambda: 10\n",
            "beta: [-0.49151602  0.02538128 -0.16233981  1.65676726  0.50379812  0.0173216\n",
            " -0.29435918 -0.10574864  0.69808362  0.8758444  -0.19831279  0.38986588\n",
            "  0.45140508  0.01881681 -1.27791489 -0.13460357  3.6375152  -3.35660655]\n",
            "***************\n",
            "R^2 : 0.898073011209342  MSE: 19.13833326756577\n",
            "R^2 : 0.8655378669390652  MSE: 20.48047988393127\n",
            "lambda: 100\n",
            "beta: [-0.40559767 -0.08913071 -0.2433109   0.92096147  0.23245979 -0.02825904\n",
            "  0.15091666 -0.06630526  0.76549372  0.81226396  0.04119596  0.13006221\n",
            "  0.26590739 -0.0283009  -0.51640569 -0.15264481  0.79219514 -0.40919959]\n",
            "***************\n",
            "R^2 : 0.8820250379018273  MSE: 22.15158289921157\n",
            "R^2 : 0.8590792512850031  MSE: 21.464218167490404\n",
            "lambda: 1000\n",
            "beta: [-0.24816713 -0.10491742 -0.15665957  0.18177837  0.05452624 -0.01775743\n",
            "  0.06557404  0.07343758  0.74752402  0.4775988   0.159599   -0.00269798\n",
            "  0.09159147  0.01211357 -0.04138468 -0.13789503  0.12594958 -0.05110341]\n",
            "***************\n",
            "R^2 : 0.8658960351890086  MSE: 25.18004702685671\n",
            "R^2 : 0.838049130239269  MSE: 24.667402299922784\n",
            "lambda: 10000\n",
            "beta: [-0.01960708 -0.0275896  -0.03335621  0.0392342   0.01956471  0.0024274\n",
            "  0.01801895  0.21944116  0.47818351  0.18385114  0.08886122  0.02071416\n",
            "  0.04128447  0.02571287  0.02016221 -0.02715866  0.02749752 -0.00682066]\n",
            "***************\n",
            "R^2 : 0.8123263438713985  MSE: 35.23856653813865\n",
            "R^2 : 0.7795701629786254  MSE: 33.57457404672178\n",
            "lambda: 1e-05\n",
            "beta: [ 1.37016661e-01  3.94725020e-01  3.34005587e-01  6.63859261e-01\n",
            "  2.95820045e-01  2.35761660e-02  4.31075122e-01  2.29009147e-01\n",
            "  4.48754641e-01  1.74779672e-01  5.39902394e-01  8.22451136e-01\n",
            "  4.18093418e-01  3.55722453e-02 -5.60808835e-01 -7.64938295e-02\n",
            " -1.58753500e+00 -8.88830900e+01]\n",
            "***************\n",
            "R^2 : 0.9579967564630548  MSE: 7.555710552983451\n",
            "R^2 : 0.9606433705992823  MSE: 7.529654270755079\n",
            "lambda: 0.0001\n",
            "beta: [ 1.36908882e-01  3.94639507e-01  3.33899199e-01  6.64031963e-01\n",
            "  2.95829852e-01  2.35117028e-02  4.30887558e-01  2.28925980e-01\n",
            "  4.48806616e-01  1.74981050e-01  5.39671718e-01  8.22400734e-01\n",
            "  4.18117381e-01  3.55955670e-02 -5.61091972e-01 -7.65013201e-02\n",
            " -1.58582766e+00 -8.88625648e+01]\n",
            "***************\n",
            "R^2 : 0.9579967515852494  MSE: 7.555711430422495\n",
            "R^2 : 0.9606478645886417  MSE: 7.528794487112829\n",
            "lambda: 0.001\n",
            "beta: [ 1.35833883e-01  3.93786519e-01  3.32837977e-01  6.65754617e-01\n",
            "  2.95927638e-01  2.28687023e-02  4.29016810e-01  2.28096423e-01\n",
            "  4.49325060e-01  1.76989703e-01  5.37370907e-01  8.21897945e-01\n",
            "  4.18356388e-01  3.58281506e-02 -5.63916030e-01 -7.65760372e-02\n",
            " -1.56879887e+00 -8.86578366e+01]\n",
            "***************\n",
            "R^2 : 0.9579962660839121  MSE: 7.555798764334577\n",
            "R^2 : 0.9606922943435995  MSE: 7.520294249687504\n",
            "lambda: 0.01\n",
            "beta: [ 1.25355578e-01  3.85465717e-01  3.22484054e-01  6.82555043e-01\n",
            "  2.96877446e-01  1.65976800e-02  4.10785284e-01  2.20007049e-01\n",
            "  4.54382038e-01  1.96576039e-01  5.14943397e-01  8.16990403e-01\n",
            "  4.20685098e-01  3.80922454e-02 -5.91444253e-01 -7.73048923e-02\n",
            " -1.40285266e+00 -8.66615705e+01]\n",
            "***************\n",
            "R^2 : 0.9579499105456604  MSE: 7.5641373829760115\n",
            "R^2 : 0.9610878360338013  MSE: 7.444619776994086\n",
            "lambda: 0.1\n",
            "beta: [ 4.21678034e-02  3.18880358e-01  2.39483054e-01  8.16680079e-01\n",
            "  3.04147413e-01 -3.34729477e-02  2.66301686e-01  1.55505953e-01\n",
            "  4.94818417e-01  3.52675092e-01  3.36818751e-01  7.77484616e-01\n",
            "  4.39095388e-01  5.58270757e-02 -8.10098099e-01 -8.31371994e-02\n",
            " -8.84833520e-02 -7.07544643e+01]\n",
            "***************\n",
            "R^2 : 0.954882771941327  MSE: 8.115866477417027\n",
            "R^2 : 0.9617991173880401  MSE: 7.308538441569689\n",
            "lambda: 1\n",
            "beta: [-1.86198467e-01  1.18997987e-01 -1.44339046e-02  1.20811246e+00\n",
            "  3.15052298e-01 -1.80102394e-01 -1.21590580e-01 -3.05942398e-02\n",
            "  6.15227966e-01  8.00634777e-01 -1.54304811e-01  6.51142878e-01\n",
            "  4.87005050e-01  9.65568175e-02 -1.41239993e+00 -1.00653503e-01\n",
            "  3.41764453e+00 -2.51827344e+01]\n",
            "***************\n",
            "R^2 : 0.9195331392550108  MSE: 14.474699039887112\n",
            "R^2 : 0.9400421935848869  MSE: 11.471042109374057\n",
            "lambda: 10\n",
            "beta: [-0.22465256 -0.04058705 -0.2518333   1.37484794  0.23511246 -0.26564351\n",
            " -0.09830355 -0.12562212  0.70624182  1.00905276 -0.23695041  0.48364778\n",
            "  0.46708146  0.03509442 -1.43585791 -0.11566958  3.12825571 -3.6354386 ]\n",
            "***************\n",
            "R^2 : 0.8872434465679537  MSE: 20.28309742163584\n",
            "R^2 : 0.9184400839265582  MSE: 15.603926955533892\n",
            "lambda: 100\n",
            "beta: [-0.19421551 -0.11858128 -0.36114327  0.77328256  0.08974209 -0.18000533\n",
            "  0.14126143 -0.11146761  0.7592484   0.90239936  0.0528449   0.22894433\n",
            "  0.32939594 -0.05476932 -0.57181944 -0.13023618  0.75618603 -0.4352932 ]\n",
            "***************\n",
            "R^2 : 0.8717367857934482  MSE: 23.072497253399103\n",
            "R^2 : 0.9092941475278177  MSE: 17.353714478333675\n",
            "lambda: 1000\n",
            "beta: [-0.17095326 -0.1182849  -0.20178911  0.15472405  0.02614537 -0.03953794\n",
            "  0.04671407  0.03743327  0.73704339  0.51451583  0.18358443  0.04155212\n",
            "  0.12137863  0.00660137 -0.04701683 -0.12090314  0.12795183 -0.05416422]\n",
            "***************\n",
            "R^2 : 0.8549581355032432  MSE: 26.09070761972503\n",
            "R^2 : 0.8933590307200109  MSE: 20.402398325347644\n",
            "lambda: 10000\n",
            "beta: [-0.00475289 -0.02143519 -0.03146518  0.03591499  0.01570291  0.00591455\n",
            "  0.01658411  0.21258759  0.46038175  0.18844067  0.09356691  0.03311676\n",
            "  0.04731954  0.02657636  0.02113917 -0.02208525  0.0268291  -0.00693612]\n",
            "***************\n",
            "R^2 : 0.7987147739102025  MSE: 36.207987261475004\n",
            "R^2 : 0.826600429499038  MSE: 33.174558808784944\n",
            "lambda: 1e-05\n",
            "beta: [ 2.17627948e-01  3.38887862e-01  3.58304999e-01  8.28928834e-01\n",
            "  1.80353553e-01 -3.88243034e-02  5.42977358e-01  1.57665599e-01\n",
            "  4.85821193e-01  2.75258675e-01  5.40128314e-01  7.94909985e-01\n",
            "  3.87992543e-01  1.92633394e-01 -7.30650338e-01 -7.28264722e-02\n",
            " -2.09407346e+00 -8.93629342e+01]\n",
            "***************\n",
            "R^2 : 0.9593306254005805  MSE: 7.3478061631271485\n",
            "R^2 : 0.9552157794185648  MSE: 8.406872103988292\n",
            "lambda: 0.0001\n",
            "beta: [ 2.17484650e-01  3.38779059e-01  3.58201434e-01  8.29162023e-01\n",
            "  1.80352827e-01 -3.88342549e-02  5.42734207e-01  1.57587344e-01\n",
            "  4.85867706e-01  2.75453740e-01  5.39924920e-01  7.94846565e-01\n",
            "  3.88016000e-01  1.92622497e-01 -7.30878052e-01 -7.28366938e-02\n",
            " -2.09243901e+00 -8.93416025e+01]\n",
            "***************\n",
            "R^2 : 0.959330620324514  MSE: 7.347807080228851\n",
            "R^2 : 0.9552212161148337  MSE: 8.405851530009178\n",
            "lambda: 0.001\n",
            "beta: [ 2.16055473e-01  3.37693871e-01  3.57168471e-01  8.31487762e-01\n",
            "  1.80345570e-01 -3.89335214e-02  5.40309200e-01  1.56806847e-01\n",
            "  4.86331631e-01  2.77399259e-01  5.37896399e-01  7.94213971e-01\n",
            "  3.88249936e-01  1.92513786e-01 -7.33149146e-01 -7.29386429e-02\n",
            " -2.07613846e+00 -8.91288465e+01]\n",
            "***************\n",
            "R^2 : 0.9593301151661  MSE: 7.34789834807213\n",
            "R^2 : 0.9552749649734359  MSE: 8.395761820416432\n",
            "lambda: 0.01\n",
            "beta: [ 2.02134620e-01  3.27117923e-01  3.47100019e-01  8.54145206e-01\n",
            "  1.80273848e-01 -3.99019321e-02  5.16692806e-01  1.49202338e-01\n",
            "  4.90853020e-01  2.96355076e-01  5.18139610e-01  7.88045116e-01\n",
            "  3.90526984e-01  1.91452137e-01 -7.55270662e-01 -7.39321339e-02\n",
            " -1.91741010e+00 -8.70559723e+01]\n",
            "***************\n",
            "R^2 : 0.9592819538421262  MSE: 7.356599737670679\n",
            "R^2 : 0.9557534456982792  MSE: 8.305941651487338\n",
            "lambda: 0.1\n",
            "beta: [ 9.22157835e-02  2.43152576e-01  2.67045300e-01  1.03333799e+00\n",
            "  1.79622934e-01 -4.76695562e-02  3.30566844e-01  8.89886254e-02\n",
            "  5.26758683e-01  4.46474815e-01  3.62298173e-01  7.38764864e-01\n",
            "  4.08377675e-01  1.82847077e-01 -9.29936318e-01 -8.18136399e-02\n",
            " -6.67851992e-01 -7.06459478e+01]\n",
            "***************\n",
            "R^2 : 0.9561326164689272  MSE: 7.925595961204653\n",
            "R^2 : 0.9566456606930576  MSE: 8.13845548665116\n",
            "lambda: 1\n",
            "beta: [-2.06700254e-01  3.56640296e-04  3.17197647e-02  1.52850946e+00\n",
            "  1.74911663e-01 -7.25940215e-02 -1.63964268e-01 -8.00433136e-02\n",
            "  6.30926232e-01  8.68665360e-01 -5.62893503e-02  5.86331423e-01\n",
            "  4.52697110e-01  1.52173391e-01 -1.40306754e+00 -1.04433795e-01\n",
            "  2.60889417e+00 -2.46701358e+01]\n",
            "***************\n",
            "R^2 : 0.9211181250971764  MSE: 14.251724603069373\n",
            "R^2 : 0.931461321125655  MSE: 12.866047460292242\n",
            "lambda: 10\n",
            "beta: [-0.28504473 -0.15869676 -0.15367034  1.62217569  0.14015731 -0.10187793\n",
            " -0.17795556 -0.15633073  0.70502779  1.06355673 -0.11405235  0.39866385\n",
            "  0.42545778  0.08055791 -1.40598873 -0.1195702   2.49038908 -3.48257212]\n",
            "***************\n",
            "R^2 : 0.8906790924615051  MSE: 19.751197211217274\n",
            "R^2 : 0.9021859404328108  MSE: 18.361607684071927\n",
            "lambda: 100\n",
            "beta: [-0.26774945 -0.17829777 -0.22847796  0.82385313  0.07771235 -0.06395842\n",
            "  0.10844247 -0.1209532   0.74711781  0.9477915   0.12888559  0.13003205\n",
            "  0.29426395 -0.01732383 -0.54137856 -0.13053809  0.60636184 -0.40897305]\n",
            "***************\n",
            "R^2 : 0.8775481056910602  MSE: 22.123595274136907\n",
            "R^2 : 0.885383574829014  MSE: 21.515739582353234\n",
            "lambda: 1000\n",
            "beta: [-0.19242409 -0.13824964 -0.15456905  0.15842926  0.03644859 -0.02439149\n",
            "  0.0468669   0.03701634  0.73222654  0.53199697  0.2001933  -0.00340313\n",
            "  0.1156392   0.01152514 -0.03386406 -0.11451564  0.1096353  -0.05101622]\n",
            "***************\n",
            "R^2 : 0.8619027904929217  MSE: 24.950261397460807\n",
            "R^2 : 0.8675100210735065  MSE: 24.870954399435497\n",
            "lambda: 10000\n",
            "beta: [-0.00772215 -0.02908496 -0.02697922  0.03497647  0.01857564  0.00132238\n",
            "  0.01533088  0.20973118  0.47011591  0.19049687  0.09353061  0.01850595\n",
            "  0.04616311  0.02621208  0.02214066 -0.01717492  0.02530681 -0.00670792]\n",
            "***************\n",
            "R^2 : 0.8058710907394577  MSE: 35.07360538379467\n",
            "R^2 : 0.8084157366967051  MSE: 35.964104718510704\n",
            "[[0.94619064 0.94619045 0.94618766 0.9460825  0.94048391 0.88696956\n",
            "  0.85083768 0.83786317 0.81338955 0.76339767]\n",
            " [0.95597716 0.95597893 0.95599613 0.95612728 0.95477306 0.92615606\n",
            "  0.89523596 0.8740018  0.87132565 0.84381093]\n",
            " [0.96505839 0.96505362 0.96500535 0.9644655  0.95586447 0.89613026\n",
            "  0.86553787 0.85907925 0.83804913 0.77957016]\n",
            " [0.96064337 0.96064786 0.96069229 0.96108784 0.96179912 0.94004219\n",
            "  0.91844008 0.90929415 0.89335903 0.82660043]\n",
            " [0.95521578 0.95522122 0.95527496 0.95575345 0.95664566 0.93146132\n",
            "  0.90218594 0.88538357 0.86751002 0.80841574]]\n",
            "[[0.96137634 0.96137633 0.96137581 0.96132647 0.95822783 0.92755079\n",
            "  0.90203651 0.8872719  0.87269902 0.81886525]\n",
            " [0.95925183 0.95925183 0.95925138 0.95920898 0.95637435 0.92266075\n",
            "  0.89136182 0.87860165 0.86395376 0.80194108]\n",
            " [0.95704201 0.957042   0.95704154 0.95699733 0.95416678 0.92453541\n",
            "  0.89807301 0.88202504 0.86589604 0.81232634]\n",
            " [0.95799676 0.95799675 0.95799627 0.95794991 0.95488277 0.91953314\n",
            "  0.88724345 0.87173679 0.85495814 0.79871477]\n",
            " [0.95933063 0.95933062 0.95933012 0.95928195 0.95613262 0.92111813\n",
            "  0.89067909 0.87754811 0.86190279 0.80587109]]\n",
            "k-fold val R2 values: [0.95661707 0.95661841 0.95663128 0.95670331 0.95391325 0.91615188\n",
            " 0.88644751 0.87312439 0.85672668 0.80435899]\n",
            "k-fold train R2 values: [0.95899951 0.95899951 0.95899902 0.95895293 0.95595687 0.92307964\n",
            " 0.89387878 0.8794367  0.86388195 0.80754371]\n",
            "best lambda: 0.01\n",
            "lambda: 0.01\n",
            "Final beta: [ 1.19030571e-01  3.49194636e-01  3.43602421e-01  7.99548319e-01\n",
            "  5.18814260e-01 -3.43178249e-02  5.17770271e-01  1.87631699e-01\n",
            "  4.90521926e-01  2.71253324e-01  3.39370643e-01  7.22987983e-01\n",
            "  4.29374605e-01  8.62905473e-02 -5.99620376e-01 -8.47739376e-02\n",
            " -1.48527880e+00 -8.50876376e+01]\n",
            "***************\n",
            "R^2 : 0.9592708258006374  MSE: 7.446109071211566\n",
            "R^2 : 0.9489253724372634  MSE: 11.430213772873952\n",
            "Train R^2 : 0.9592708258006374  Train MSE: 7.446109071211566\n",
            "Test R^2 : 0.9489253724372634  Test MSE: 11.430213772873952\n"
          ]
        }
      ],
      "source": [
        "import scipy\n",
        "from scipy import linalg\n",
        "seed = 2000\n",
        "body_description_train_initial = body_description_training_initial.sample(frac = 0.8, random_state = seed)\n",
        "body_description_testing = body_description_training_initial.drop(body_description_train_initial.index)\n",
        "\n",
        "\n",
        "seeds = [100, 200,300,400,500]\n",
        "\n",
        "lambdas = [1e-5, 1e-4, 1e-3, 1e-2, 0.1, 1,10,100,1000, 10000]\n",
        "\n",
        "train_R2_seeds = [] \n",
        "val_R2_seeds = [] \n",
        "\n",
        "train_MSE_seeds = [] \n",
        "val_MSE_seeds = [] \n",
        "# cols = list(np.arange(1,6))\n",
        "# response_cols = [0]\n",
        "\n",
        "for seed in seeds: \n",
        "  body_description_train = body_description_train_initial.sample(frac=0.8,random_state=seed)\n",
        "  body_description_val = body_description_train_initial.drop(body_description_train.index)\n",
        "\n",
        "  X_train = body_description_train.drop('weight', axis = 1)\n",
        "  X_val = body_description_val.drop('weight', axis = 1)\n",
        "  \n",
        "\n",
        "  X_train = X_train.to_numpy()\n",
        "  X_val = X_val.to_numpy()\n",
        "\n",
        "  X_train = np.hstack((X_train, np.ones((X_train.shape[0], 1), dtype=X_train.dtype)))\n",
        "  X_val = np.hstack((X_val, np.ones((X_val.shape[0], 1), dtype=X_val.dtype)))\n",
        "  \n",
        "  Y_train = body_description_train['weight']\n",
        "  Y_val = body_description_val['weight']\n",
        "\n",
        "  Y_train = Y_train.to_numpy()\n",
        "  Y_val = Y_val.to_numpy()\n",
        "\n",
        "  train_R2_lambdas = []\n",
        "  val_R2_lambdas = []\n",
        "\n",
        "  train_MSE_lambdas = []\n",
        "  val_MSE_lambdas = []\n",
        "  \n",
        "  for lambda_ in lambdas:\n",
        "    XTX = np.matmul(np.transpose(X_train),X_train)\n",
        "    XY = np.matmul(np.transpose(X_train),Y_train)\n",
        "    I = np.identity(X_train.shape[1])\n",
        "\n",
        "    betaa =scipy.linalg.solve( XTX+lambda_*I,XY)\n",
        "    print('lambda:',lambda_)\n",
        "    print('beta:',betaa)\n",
        "    print('***************')\n",
        "\n",
        "    train_R2, train_MSE = compute_Rsquared_and_MSE(body_description_train, betaa, X_train, Y_train)\n",
        "    train_R2_lambdas.append(train_R2)\n",
        "    train_MSE_lambdas.append(train_MSE)\n",
        "\n",
        "    val_R2, val_MSE = compute_Rsquared_and_MSE(body_description_val, betaa, X_val, Y_val)\n",
        "    val_R2_lambdas.append(val_R2)\n",
        "    val_MSE_lambdas.append(val_MSE)\n",
        "\n",
        "  train_R2_seeds.append(np.array(train_R2_lambdas))\n",
        "  train_MSE_seeds.append(np.array(train_MSE_lambdas))\n",
        "\n",
        "  val_R2_seeds.append(np.array(val_R2_lambdas))\n",
        "  val_MSE_seeds.append(np.array(val_MSE_lambdas))\n",
        "\n",
        "val_R2_seeds = np.array(val_R2_seeds).squeeze()\n",
        "print(val_R2_seeds)\n",
        "\n",
        "mean_val_R2_lambdas = np.mean(val_R2_seeds,axis=0)\n",
        "\n",
        "train_R2_seeds = np.array(train_R2_seeds).squeeze()\n",
        "print(train_R2_seeds)\n",
        "\n",
        "mean_train_R2_lambdas = np.mean(train_R2_seeds,axis=0)\n",
        "\n",
        "#print('k-fold train R2 values:', train_R2_seeds)\n",
        "\n",
        "#print('k-fold train MSEs:', train_MSE_seeds)\n",
        "\n",
        "print('k-fold val R2 values:', mean_val_R2_lambdas.squeeze())\n",
        "print('k-fold train R2 values:', mean_train_R2_lambdas.squeeze())\n",
        "\n",
        "#print('k-fold val MSEs:', val_MSE_seeds)\n",
        "\n",
        "\n",
        "best_lambda_idx = np.argmax(mean_val_R2_lambdas)\n",
        "best_lambda = lambdas[best_lambda_idx]\n",
        "\n",
        "print('best lambda:', best_lambda)\n",
        "\n",
        "\n",
        "X_train = body_description_train_initial.drop('weight', axis = 1)\n",
        "X_train = X_train.to_numpy()\n",
        "\n",
        "X_train = np.hstack((X_train, np.ones((X_train.shape[0], 1), dtype=X_train.dtype)))\n",
        "Y_train = body_description_train_initial['weight']\n",
        "Y_train = Y_train.to_numpy()\n",
        "\n",
        "X_test = body_description_testing.drop('weight', axis = 1)\n",
        "X_test = X_test.to_numpy()\n",
        "X_test = np.hstack((X_test, np.ones((X_test.shape[0], 1), dtype=X_test.dtype)))\n",
        "Y_test = body_description_testing['weight']\n",
        "Y_test = Y_test.to_numpy()\n",
        "\n",
        "\n",
        "\n",
        "XTX = np.matmul(np.transpose(X_train),X_train)\n",
        "XY = np.matmul(np.transpose(X_train),Y_train)\n",
        "I = np.identity(X_train.shape[1])\n",
        "\n",
        "betaa =scipy.linalg.solve( XTX+best_lambda*I,XY)\n",
        "print('lambda:',best_lambda)\n",
        "print('Final beta:',betaa)\n",
        "print('***************')\n",
        "\n",
        "train_R2, train_MSE = compute_Rsquared_and_MSE(body_description_train_initial, betaa, X_train, Y_train)\n",
        "\n",
        "test_R2, test_MSE = compute_Rsquared_and_MSE(body_description_testing, betaa, X_test, Y_test)\n",
        "\n",
        "print('Train R^2 :', train_R2, ' Train MSE:', train_MSE)\n",
        "print('Test R^2 :', test_R2, ' Test MSE:', test_MSE)"
      ]
    },
    {
      "cell_type": "code",
      "execution_count": 35,
      "metadata": {
        "colab": {
          "base_uri": "https://localhost:8080/",
          "height": 303
        },
        "id": "ZyvVK2SzxR5z",
        "outputId": "33381c70-1f76-4584-ff1f-70a9abd9e5a3"
      },
      "outputs": [
        {
          "output_type": "display_data",
          "data": {
            "text/plain": [
              "<Figure size 432x288 with 1 Axes>"
            ],
            "image/png": "[encoded data removed]"
          },
          "metadata": {
            "needs_background": "light"
          }
        }
      ],
      "source": [
        "plt.plot(lambdas, mean_train_R2_lambdas,label = \"Training\")\n",
        "plt.plot(lambdas, mean_val_R2_lambdas,label = \"Validation\")\n",
        "plt.xscale('log')\n",
        "plt.title('Cross validation results: Average $R^2$ vs. Lambda')\n",
        "plt.ylabel('Average $R^2$')\n",
        "plt.xlabel('Lambda')\n",
        "plt.xticks([1e-5,1e-4,1e-3,1e-2,1e-1,1,10,100,1000,10000])\n",
        "plt.grid()\n",
        "plt.legend()\n",
        "plt.show()"
      ]
    },
    {
      "cell_type": "markdown",
      "metadata": {
        "id": "Bb04sQy6z5dS"
      },
      "source": [
        " **Taking the best lambda value for training on the train+val data.**"
      ]
    },
    {
      "cell_type": "code",
      "execution_count": 36,
      "metadata": {
        "id": "uF3hY9CHzuRI"
      },
      "outputs": [],
      "source": [
        "X_train_full = body_description_predictor_train_initial.to_numpy()\n",
        "X_train_full = np.hstack((X_train_full, np.ones((X_train_full.shape[0], 1), dtype=X_train_full.dtype)))\n",
        "Y_train_full = body_description_response_train_initial.to_numpy()"
      ]
    },
    {
      "cell_type": "markdown",
      "metadata": {
        "id": "8cHh-tVqqM1E"
      },
      "source": [
        "**Training on full training dataset-**"
      ]
    },
    {
      "cell_type": "code",
      "execution_count": 37,
      "metadata": {
        "colab": {
          "base_uri": "https://localhost:8080/"
        },
        "id": "0aKs-mubqN2m",
        "outputId": "a8c97e35-d253-46b2-e7f7-1e849a5981af"
      },
      "outputs": [
        {
          "output_type": "stream",
          "name": "stdout",
          "text": [
            "lambda: 0.01\n",
            "beta: [ 1.53582481e-01  3.73440511e-01  3.01612109e-01  6.91861370e-01\n",
            "  2.14843908e-01  3.52938001e-02  6.01624608e-01  2.23206953e-01\n",
            "  5.02076869e-01  1.97162542e-01  3.73219292e-01  7.70508190e-01\n",
            "  3.80659422e-01  1.07644221e-02 -1.67181267e-01 -1.04283335e-01\n",
            " -2.21528230e+00 -9.10156944e+01]\n",
            "***************\n"
          ]
        }
      ],
      "source": [
        "XTX = np.matmul(np.transpose(X_train_full),X_train_full)\n",
        "lambda_ = best_lambda\n",
        "XY = np.matmul(np.transpose(X_train_full),Y_train_full)\n",
        "I = np.identity(XTX.shape[0])\n",
        "betaa =scipy.linalg.solve(XTX+lambda_*I,XY)\n",
        "print('lambda:',lambda_)\n",
        "print('beta:',betaa)\n",
        "print('***************')"
      ]
    },
    {
      "cell_type": "markdown",
      "source": [
        "**Residual Plots**"
      ],
      "metadata": {
        "id": "PG5VAfSh-_hz"
      }
    },
    {
      "cell_type": "code",
      "execution_count": 38,
      "metadata": {
        "colab": {
          "base_uri": "https://localhost:8080/",
          "height": 295
        },
        "id": "8u_-y0p3UkgR",
        "outputId": "0df7ade3-6bdb-4228-a5b5-db4f350e1dda"
      },
      "outputs": [
        {
          "output_type": "display_data",
          "data": {
            "text/plain": [
              "<Figure size 432x288 with 1 Axes>"
            ],
            "image/png": "[encoded data removed]"
          },
          "metadata": {
            "needs_background": "light"
          }
        }
      ],
      "source": [
        "e_i_residuals_list = [] \n",
        "y_pred_i_list = []\n",
        "for i in range(n): \n",
        "  x_i = X[i,:] #access i-th row of X\n",
        "  y_i = Y[i] #access i-th row of y\n",
        "\n",
        "  y_pred_i = np.dot(x_i,betaa) #compute the prediction obtained using the regression coefficients \n",
        "  e_i = y_i - y_pred_i #compute the difference between the actual observation y_i and prediction y_pred_i\n",
        "  y_pred_i_list.append(y_pred_i)\n",
        "  e_i_residuals_list.append(e_i) #append the value of e_i to the list \n",
        "\n",
        "#plot the residuals e_i against the actual observations y_i\n",
        "plt.scatter(Y, e_i_residuals_list,color='r')\n",
        "plt.title(\"Residual plot on train data set\")\n",
        "plt.xlabel(\"Response\")\n",
        "plt.ylabel(\"Residuals\")\n",
        "plt.grid()\n",
        "plt.show()"
      ]
    },
    {
      "cell_type": "code",
      "source": [
        "plt.scatter(y_pred_i_list, e_i_residuals_list,color='r')\n",
        "plt.title(\"Residual plot on train data set\")\n",
        "plt.xlabel(\"Fitted Response\")\n",
        "plt.ylabel(\"Residuals\")\n",
        "plt.grid()\n",
        "plt.show()"
      ],
      "metadata": {
        "colab": {
          "base_uri": "https://localhost:8080/",
          "height": 295
        },
        "id": "q8stJo3KrncE",
        "outputId": "bc715219-9d9a-4482-8465-1383462a40ad"
      },
      "execution_count": 39,
      "outputs": [
        {
          "output_type": "display_data",
          "data": {
            "text/plain": [
              "<Figure size 432x288 with 1 Axes>"
            ],
            "image/png": "[encoded data removed]"
          },
          "metadata": {
            "needs_background": "light"
          }
        }
      ]
    },
    {
      "cell_type": "markdown",
      "source": [
        "As can be seen, the fitted response values are more concentrated to the zero residual line as compared to the original response values."
      ],
      "metadata": {
        "id": "WNOO7jKP_Nav"
      }
    },
    {
      "cell_type": "markdown",
      "metadata": {
        "id": "nhh6vTk3qlWU"
      },
      "source": [
        "**Checking performance on test datset-**"
      ]
    },
    {
      "cell_type": "code",
      "execution_count": 40,
      "metadata": {
        "colab": {
          "base_uri": "https://localhost:8080/"
        },
        "id": "NeXjLjNWEV4Y",
        "outputId": "a33a75ab-5126-4d6f-fa28-20607d3d0f95"
      },
      "outputs": [
        {
          "output_type": "execute_result",
          "data": {
            "text/plain": [
              "array([[42.9, 26. , 31.5, ..., 16.5, 21. ,  1. ],\n",
              "       [43.7, 28.5, 33.5, ..., 17. , 23. ,  1. ],\n",
              "       [44.3, 29.9, 34. , ..., 16.6, 23. ,  1. ],\n",
              "       ...,\n",
              "       [35.3, 25.4, 28.5, ..., 15.4, 31. ,  0. ],\n",
              "       [36.2, 28.7, 27.8, ..., 15.2, 34. ,  0. ],\n",
              "       [38.7, 29.7, 32. , ..., 15. , 24. ,  0. ]])"
            ]
          },
          "metadata": {},
          "execution_count": 40
        }
      ],
      "source": [
        "X_array_test =body_description_predictor_test.to_numpy() \n",
        "X_array_test"
      ]
    },
    {
      "cell_type": "code",
      "execution_count": 41,
      "metadata": {
        "colab": {
          "base_uri": "https://localhost:8080/"
        },
        "id": "1Wzn38aNEjgo",
        "outputId": "fe1be8ad-9885-4c0f-c1a1-1d2016fbd9d2"
      },
      "outputs": [
        {
          "output_type": "execute_result",
          "data": {
            "text/plain": [
              "array([[42.9, 26. , 31.5, ..., 21. ,  1. ,  1. ],\n",
              "       [43.7, 28.5, 33.5, ..., 23. ,  1. ,  1. ],\n",
              "       [44.3, 29.9, 34. , ..., 23. ,  1. ,  1. ],\n",
              "       ...,\n",
              "       [35.3, 25.4, 28.5, ..., 31. ,  0. ,  1. ],\n",
              "       [36.2, 28.7, 27.8, ..., 34. ,  0. ,  1. ],\n",
              "       [38.7, 29.7, 32. , ..., 24. ,  0. ,  1. ]])"
            ]
          },
          "metadata": {},
          "execution_count": 41
        }
      ],
      "source": [
        "X_test  = np.hstack((X_array_test, np.ones((X_array_test.shape[0], 1))))\n",
        "X_test"
      ]
    },
    {
      "cell_type": "code",
      "execution_count": 42,
      "metadata": {
        "colab": {
          "base_uri": "https://localhost:8080/"
        },
        "id": "URnQ7SfAEt7D",
        "outputId": "31b46ee6-f7b0-40bf-d62a-9ad664b3c113"
      },
      "outputs": [
        {
          "output_type": "execute_result",
          "data": {
            "text/plain": [
              "array([ 65.6,  71.8,  72.6,  93.8,  70. ,  81.8,  86.8,  68.2,  78.9,\n",
              "        67.7,  63.9,  65.9,  87.7,  73.2,  53.9,  58.4,  72.3,  93.2,\n",
              "        58. ,  83.6,  72.7,  84.1,  63.6,  68.6,  70.5,  71.8,  75.5,\n",
              "        84.1,  80.5,  81.8,  73.6,  92.7,  93.2,  61.4,  83.6,  85.5,\n",
              "        73.9,  66.8,  87.3,  88.6,  75.5,  91.1,  67.3,  75.5, 102.5,\n",
              "        77.3,  76.3,  90.9,  89.1,  49.8,  68.8,  82.5,  83. ,  62.3,\n",
              "        59.8,  46.5,  60.7,  60.3,  61.1,  48.7,  55.7,  50. ,  55.9,\n",
              "        52.2,  73.2,  69. ,  58.4,  65.2,  44.8,  58.8,  53.8,  58. ,\n",
              "        55.5,  52.7,  63.2,  64.1,  50. ,  56.8,  63.2,  53.2,  70.5,\n",
              "        63.6,  70.5,  62.3,  53.6,  61.4,  46.8,  57.3,  63.6])"
            ]
          },
          "metadata": {},
          "execution_count": 42
        }
      ],
      "source": [
        "Y_test = body_description_response_test.to_numpy()\n",
        "Y_test"
      ]
    },
    {
      "cell_type": "code",
      "execution_count": 43,
      "metadata": {
        "colab": {
          "base_uri": "https://localhost:8080/"
        },
        "id": "7hW3AScz_fmh",
        "outputId": "4658e0a5-3b73-4782-9f82-9482f241d1fa"
      },
      "outputs": [
        {
          "output_type": "execute_result",
          "data": {
            "text/plain": [
              "array([ 1.53582481e-01,  3.73440511e-01,  3.01612109e-01,  6.91861370e-01,\n",
              "        2.14843908e-01,  3.52938001e-02,  6.01624608e-01,  2.23206953e-01,\n",
              "        5.02076869e-01,  1.97162542e-01,  3.73219292e-01,  7.70508190e-01,\n",
              "        3.80659422e-01,  1.07644221e-02, -1.67181267e-01, -1.04283335e-01,\n",
              "       -2.21528230e+00, -9.10156944e+01])"
            ]
          },
          "metadata": {},
          "execution_count": 43
        }
      ],
      "source": [
        "betaa"
      ]
    },
    {
      "cell_type": "code",
      "execution_count": 44,
      "metadata": {
        "colab": {
          "base_uri": "https://localhost:8080/"
        },
        "id": "xqTflXyHto7-",
        "outputId": "202d7a41-b473-4b6e-c91d-7094b808d803"
      },
      "outputs": [
        {
          "output_type": "stream",
          "name": "stdout",
          "text": [
            "Peformance on test data:\n",
            "64.50782060010671\n",
            "75.2428189787193\n",
            "71.88524263664354\n",
            "87.19409210099498\n",
            "71.20357999948916\n",
            "83.58094992156869\n",
            "87.18776908073488\n",
            "68.81270744181008\n",
            "75.19025258022626\n",
            "71.24912166410992\n",
            "65.28075422412164\n",
            "67.27795334614399\n",
            "86.51991744590245\n",
            "76.15350628833725\n",
            "59.65861348498305\n",
            "67.24668101795997\n",
            "69.58969017235184\n",
            "94.97249426049015\n",
            "57.35993192960966\n",
            "81.59930345113737\n",
            "72.37564095973036\n",
            "81.57412304309554\n",
            "59.29465514694324\n",
            "70.03241570319453\n",
            "72.11381716616147\n",
            "77.60141332804851\n",
            "74.14500783022912\n",
            "82.32702068106536\n",
            "79.11252928230672\n",
            "80.65661226388652\n",
            "76.81188609236958\n",
            "91.79768749588028\n",
            "86.65471077498059\n",
            "67.71689459200644\n",
            "77.42180010879105\n",
            "84.24018416498188\n",
            "72.85475954268992\n",
            "66.4824101459025\n",
            "86.32008633998349\n",
            "89.86303505122801\n",
            "80.03214346711252\n",
            "95.56850097002918\n",
            "67.1710701058553\n",
            "78.26101674348348\n",
            "97.577745892843\n",
            "68.85406772975982\n",
            "79.37476684178732\n",
            "85.51734713312365\n",
            "82.68439260316636\n",
            "55.19285913952203\n",
            "69.72169563876662\n",
            "80.1211263589053\n",
            "81.32272714568838\n",
            "60.65981772502576\n",
            "61.365855164171364\n",
            "46.76690999540898\n",
            "59.64325559181502\n",
            "62.7730594182095\n",
            "62.85161951503066\n",
            "49.19798744889604\n",
            "55.37760692153621\n",
            "47.03229932488391\n",
            "54.381754080030305\n",
            "51.63311980550647\n",
            "69.28644136246032\n",
            "67.22930903177544\n",
            "54.94528175848163\n",
            "65.9845783113178\n",
            "41.53008631957587\n",
            "57.60123773681795\n",
            "54.4454775942243\n",
            "56.5718877451871\n",
            "53.58730997533205\n",
            "50.26748786032135\n",
            "65.06190709463644\n",
            "60.81955500972968\n",
            "52.69527197222298\n",
            "55.21939074951864\n",
            "65.18897397600871\n",
            "51.970556408246125\n",
            "71.90078259200124\n",
            "55.29877714885262\n",
            "69.04655465011494\n",
            "60.139704110386404\n",
            "57.11795972403851\n",
            "58.66412870060232\n",
            "49.48483603759695\n",
            "56.15112139691027\n",
            "60.997341794635645\n",
            "lambda: 0.01\n",
            "sum of squared residuals: 924.3101728667892\n",
            "MSE: 10.385507560301003\n",
            "R^2: 0.939381480971272\n",
            "*********************\n"
          ]
        }
      ],
      "source": [
        "#first we shall compute y_bar \n",
        "print('Peformance on test data:')\n",
        "variance_test = np.var(Y_test)\n",
        "sigma_yy_test = variance_test*(n1-1)\n",
        "\n",
        "#now we can compute sum of squared residuals \n",
        "\n",
        "sum_sq_residuals = 0\n",
        "for i in range(n1): #access each row from the data set \n",
        "  x_i = X_test[i,:] #access i-th row of X\n",
        "  y_i = Y_test[i] #access i-th row of y\n",
        "\n",
        "  y_pred_i = np.dot(x_i,betaa) #compute the prediction obtained using the regression coefficients \n",
        "  e_i = y_i - y_pred_i #compute the difference between the actual observation y_i and prediction y_pred_i\n",
        "  print(y_pred_i)\n",
        "  \n",
        "  sum_sq_residuals += (e_i)**2\n",
        "\n",
        "print('lambda:',lambda_)\n",
        "print('sum of squared residuals:', sum_sq_residuals)\n",
        "mse_test = sum_sq_residuals/n1\n",
        "print('MSE:', mse_test)\n",
        "\n",
        "#Then we will compute the R^2 quantity\n",
        "R_sq = 1-sum_sq_residuals/sigma_yy_test\n",
        "print('R^2:',R_sq)\n",
        "print('*********************')"
      ]
    },
    {
      "cell_type": "code",
      "source": [
        "e_i_residuals_list_test = [] \n",
        "y_pred_i_list_test = []\n",
        "for i in range(n1): \n",
        "  x_i = X_test[i,:] #access i-th row of X\n",
        "  y_i = Y_test[i] #access i-th row of y\n",
        "\n",
        "  y_pred_i = np.dot(x_i,betaa) #compute the prediction obtained using the regression coefficients \n",
        "  e_i = y_i - y_pred_i #compute the difference between the actual observation y_i and prediction y_pred_i\n",
        "  y_pred_i_list_test.append(y_pred_i)\n",
        "  e_i_residuals_list_test.append(e_i) #append the value of e_i to the list \n",
        "\n",
        "#plot the residuals e_i against the actual observations y_i\n",
        "plt.scatter(Y_test, e_i_residuals_list_test,color='r')\n",
        "plt.title(\"Residual plot on test data set\")\n",
        "plt.xlabel(\"Response\")\n",
        "plt.ylabel(\"Residuals\")\n",
        "plt.grid()\n",
        "plt.show()"
      ],
      "metadata": {
        "colab": {
          "base_uri": "https://localhost:8080/",
          "height": 295
        },
        "id": "PvfdOZ2TXph3",
        "outputId": "1e900c76-b0af-408d-e328-18608473d6e9"
      },
      "execution_count": 45,
      "outputs": [
        {
          "output_type": "display_data",
          "data": {
            "text/plain": [
              "<Figure size 432x288 with 1 Axes>"
            ],
            "image/png": "[encoded data removed]"
          },
          "metadata": {
            "needs_background": "light"
          }
        }
      ]
    },
    {
      "cell_type": "code",
      "source": [
        "# e_i_residuals_list_test = [] \n",
        "# y_pred_i_list_test = []\n",
        "# for i in range(n1): \n",
        "#   x_i = X_test[i,:] #access i-th row of X\n",
        "#   y_i = Y_test[i] #access i-th row of y\n",
        "\n",
        "#   y_pred_i = np.dot(x_i,betaa) #compute the prediction obtained using the regression coefficients \n",
        "#   e_i = y_i - y_pred_i #compute the difference between the actual observation y_i and prediction y_pred_i\n",
        "#   y_pred_i_list_test.append(y_pred_i)\n",
        "#   e_i_residuals_list_test.append(e_i) #append the value of e_i to the list \n",
        "\n",
        "# #plot the residuals e_i against the actual observations y_i\n",
        "plt.scatter(y_pred_i_list_test, e_i_residuals_list_test,color='r')\n",
        "plt.title(\"Residual plot on test data set\")\n",
        "plt.xlabel(\"Response\")\n",
        "plt.ylabel(\"Residuals\")\n",
        "plt.grid()\n",
        "plt.show()"
      ],
      "metadata": {
        "colab": {
          "base_uri": "https://localhost:8080/",
          "height": 295
        },
        "id": "UzRz6f56rAG5",
        "outputId": "78c1dbc0-f026-40cd-e4ed-00d6c8dad523"
      },
      "execution_count": 46,
      "outputs": [
        {
          "output_type": "display_data",
          "data": {
            "text/plain": [
              "<Figure size 432x288 with 1 Axes>"
            ],
            "image/png": "[encoded data removed]"
          },
          "metadata": {
            "needs_background": "light"
          }
        }
      ]
    },
    {
      "cell_type": "markdown",
      "source": [
        "**Comparison of unregularised and regularised linear regression for the values of R^2, mean square error (MSE) and residual plots.**\n",
        "\n"
      ],
      "metadata": {
        "id": "NeEcOrBCAHyI"
      }
    },
    {
      "cell_type": "markdown",
      "source": [
        "**The value of R^2 for test data in unregularised linear regression is 0.9850 whereas for the regularised LR, its 0.9393. The MSE value for regularised is also sligtly greater than that for the other. Both these comparisons supports the argument that unregularised linear regression tries to fit the data too well, which results in overfitting and high value of R^2 and low MSE value.\n",
        "Whereas with the regularisation, the data is obetter prepared for the future unseen data, which most of the times is our main priority. The residual plots also shows slightly more sparsely fitted data.**"
      ],
      "metadata": {
        "id": "m6KJT8nxDadw"
      }
    }
  ],
  "metadata": {
    "colab": {
      "provenance": []
    },
    "kernelspec": {
      "display_name": "Python 3",
      "name": "python3"
    },
    "language_info": {
      "name": "python"
    }
  },
  "nbformat": 4,
  "nbformat_minor": 0
}