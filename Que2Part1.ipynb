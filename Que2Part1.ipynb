{
  "nbformat": 4,
  "nbformat_minor": 0,
  "metadata": {
    "colab": {
      "provenance": []
    },
    "kernelspec": {
      "name": "python3",
      "display_name": "Python 3"
    },
    "language_info": {
      "name": "python"
    },
    "gpuClass": "standard"
  },
  "cells": [
    {
      "cell_type": "markdown",
      "source": [
        "**Note: It will take around 15 mins to run. (and will definitely not crash if each sell is run individually)**"
      ],
      "metadata": {
        "id": "9TJOoAmGy9-8"
      }
    },
    {
      "cell_type": "code",
      "execution_count": 12,
      "metadata": {
        "id": "Qz9DVgxUWHGR"
      },
      "outputs": [],
      "source": [
        "import pandas as pd\n",
        "import matplotlib.pyplot as plt\n",
        "import numpy as np\n",
        "import urllib.request\n",
        "from urllib.request import urlopen\n",
        "A = 'https://raw.githubusercontent.com/Samagra06/ML/main/Data_Q1.txt'\n"
      ]
    },
    {
      "cell_type": "markdown",
      "source": [
        "Reading the dataset in Data Q1.txt into two numpy arrays"
      ],
      "metadata": {
        "id": "DI-QPIrEps0M"
      }
    },
    {
      "cell_type": "code",
      "source": [
        "from sklearn.datasets import load_svmlight_file\n",
        "with urlopen(A) as f:\n",
        "  X,Y = load_svmlight_file(f)\n",
        "\n",
        "X = X.toarray()\n",
        "print('Label',Y)\n",
        "print('Features',X)  "
      ],
      "metadata": {
        "colab": {
          "base_uri": "https://localhost:8080/"
        },
        "id": "YQKCwO4EcESS",
        "outputId": "70040b33-a5e0-4153-d5d1-783f652a6616"
      },
      "execution_count": 13,
      "outputs": [
        {
          "output_type": "stream",
          "name": "stdout",
          "text": [
            "Label [ 1. -1. -1. ...  1. -1.  1.]\n",
            "Features [[1. 1. 1. ... 0. 0. 0.]\n",
            " [0. 0. 0. ... 0. 0. 0.]\n",
            " [0. 0. 0. ... 0. 0. 0.]\n",
            " ...\n",
            " [0. 0. 0. ... 0. 0. 0.]\n",
            " [0. 0. 0. ... 1. 1. 1.]\n",
            " [0. 0. 0. ... 0. 0. 0.]]\n"
          ]
        }
      ]
    },
    {
      "cell_type": "markdown",
      "source": [
        "Number of classes in the data set"
      ],
      "metadata": {
        "id": "I4Vvms5sp1UW"
      }
    },
    {
      "cell_type": "code",
      "source": [
        "unique_values = set(Y)\n",
        "count = len(unique_values)\n",
        "print(\"No of claases are\", count)\n"
      ],
      "metadata": {
        "colab": {
          "base_uri": "https://localhost:8080/"
        },
        "id": "bTYKS-J-gMig",
        "outputId": "493d64aa-b443-4ac5-c489-94562086eae3"
      },
      "execution_count": 14,
      "outputs": [
        {
          "output_type": "stream",
          "name": "stdout",
          "text": [
            "No of claases are 2\n"
          ]
        }
      ]
    },
    {
      "cell_type": "markdown",
      "source": [
        "No. of samples in each class"
      ],
      "metadata": {
        "id": "kxAkdtZQp61v"
      }
    },
    {
      "cell_type": "code",
      "source": [
        "count_1 = np.count_nonzero(Y == 1)\n",
        "print(\"No of Samples with label 1 = \", count_1)\n",
        "count_2 = np.count_nonzero(Y == -1)\n",
        "print(\"No of Samples with label -1 = \",count_2)"
      ],
      "metadata": {
        "colab": {
          "base_uri": "https://localhost:8080/"
        },
        "id": "SwSW7MWxlcvO",
        "outputId": "c50e0ac5-f518-4f09-f10b-cd32210421dc"
      },
      "execution_count": 15,
      "outputs": [
        {
          "output_type": "stream",
          "name": "stdout",
          "text": [
            "No of Samples with label 1 =  2210\n",
            "No of Samples with label -1 =  1933\n"
          ]
        }
      ]
    },
    {
      "cell_type": "markdown",
      "source": [
        "**Since the samples for the two classes donot differ by much, we can conclude that there is no class imbalance.**"
      ],
      "metadata": {
        "id": "iBc1IpIMGgP1"
      }
    },
    {
      "cell_type": "code",
      "source": [
        "X = pd.DataFrame(X)\n",
        "Y = pd.DataFrame(Y)"
      ],
      "metadata": {
        "id": "vbSXWUEHhlXh"
      },
      "execution_count": 16,
      "outputs": []
    },
    {
      "cell_type": "code",
      "source": [
        "X = X.astype('int32')\n",
        "Y = Y.astype('int32')"
      ],
      "metadata": {
        "id": "uUbQpZ8OJ7LR"
      },
      "execution_count": 17,
      "outputs": []
    },
    {
      "cell_type": "markdown",
      "source": [
        "Spliiting the dataset into test and train"
      ],
      "metadata": {
        "id": "UZNCPqYnqINv"
      }
    },
    {
      "cell_type": "code",
      "source": [
        "X_train = X.sample(frac = 0.8, random_state = 200)\n",
        "X_test = X.drop(X_train.index)\n",
        "Y_train = Y.sample(frac = 0.8, random_state = 200)\n",
        "Y_test = Y.drop(Y_train.index)"
      ],
      "metadata": {
        "id": "L0y_2kY6nHNE"
      },
      "execution_count": 18,
      "outputs": []
    },
    {
      "cell_type": "code",
      "source": [
        "from sklearn.model_selection import RepeatedStratifiedKFold\n",
        "from sklearn.model_selection import GridSearchCV\n",
        "from sklearn.svm import SVC"
      ],
      "metadata": {
        "id": "yhM5zbebdKNr"
      },
      "execution_count": 19,
      "outputs": []
    },
    {
      "cell_type": "code",
      "source": [
        "from sklearn.svm import LinearSVC\n",
        "from sklearn.metrics import accuracy_score\n",
        "from sklearn.model_selection import KFold\n",
        "import warnings\n",
        "warnings.filterwarnings(\"ignore\")"
      ],
      "metadata": {
        "id": "Ho7x6ZP9ioWR"
      },
      "execution_count": 20,
      "outputs": []
    },
    {
      "cell_type": "code",
      "source": [
        "from sklearn.metrics import accuracy_score, precision_score, recall_score, confusion_matrix"
      ],
      "metadata": {
        "id": "PBUK71n5z81U"
      },
      "execution_count": 21,
      "outputs": []
    },
    {
      "cell_type": "markdown",
      "source": [
        "**Training the dataset with different algorithms**"
      ],
      "metadata": {
        "id": "OyN6ea28qQ3i"
      }
    },
    {
      "cell_type": "markdown",
      "source": [
        "**i) Logistic Regression with L2 regulariser**"
      ],
      "metadata": {
        "id": "07ZKyR-8Efln"
      }
    },
    {
      "cell_type": "code",
      "source": [
        "from sklearn.linear_model import LogisticRegression\n",
        "lr = LogisticRegression(penalty='l2', solver='liblinear')\n",
        "param_grid = {'C': [0.01, 0.1, 1, 10, 100]}\n",
        "grid_search = GridSearchCV(lr, param_grid, cv=5)\n",
        "grid_search.fit(X_train, Y_train)\n",
        "best_model = grid_search.best_estimator_\n",
        "Y_pred_train_LR_L2 = best_model.predict(X_train)\n",
        "Y_pred_test_LR_L2 = best_model.predict(X_test)\n",
        "print(\"Best hyperparameters: \", grid_search.best_params_)\n",
        "print(\"Best score: \", grid_search.best_score_)\n",
        "lr_nonzero = np.count_nonzero(best_model.coef_)\n",
        "print('no. of non zero coefficients:', lr_nonzero)"
      ],
      "metadata": {
        "colab": {
          "base_uri": "https://localhost:8080/"
        },
        "id": "Gc-tuRamEeiH",
        "outputId": "6b5595f3-386e-491b-b7c5-e66af581911f"
      },
      "execution_count": 22,
      "outputs": [
        {
          "output_type": "stream",
          "name": "stdout",
          "text": [
            "Best hyperparameters:  {'C': 1}\n",
            "Best score:  0.9007186048948977\n",
            "no. of non zero coefficients: 48117\n"
          ]
        }
      ]
    },
    {
      "cell_type": "markdown",
      "source": [
        "**ii) Logistic Regression with L1 regulariser**"
      ],
      "metadata": {
        "id": "6D-rzdAHECSO"
      }
    },
    {
      "cell_type": "code",
      "source": [
        "from sklearn.linear_model import LogisticRegression\n",
        "lr = LogisticRegression(penalty='l1', solver='liblinear')\n",
        "param_grid = {'C': [0.01, 0.1, 1, 10, 100]}\n",
        "grid_search = GridSearchCV(lr, param_grid, cv=5)\n",
        "grid_search.fit(X_train, Y_train)\n",
        "best_model = grid_search.best_estimator_\n",
        "Y_pred_train_LR_L1 = best_model.predict(X_train)\n",
        "Y_pred_test_LR_L1 = best_model.predict(X_test)\n",
        "print(\"Best hyperparameters: \", grid_search.best_params_)\n",
        "print(\"Best score: \", grid_search.best_score_)\n",
        "lr_nonzero = np.count_nonzero(best_model.coef_)\n",
        "print('no. of non zero coefficients:', lr_nonzero)"
      ],
      "metadata": {
        "colab": {
          "base_uri": "https://localhost:8080/"
        },
        "id": "94xTI7Z1EL2Y",
        "outputId": "84a6b942-ba63-43bf-b8de-65e38bdd96aa"
      },
      "execution_count": 23,
      "outputs": [
        {
          "output_type": "stream",
          "name": "stdout",
          "text": [
            "Best hyperparameters:  {'C': 1}\n",
            "Best score:  0.8874456033866022\n",
            "no. of non zero coefficients: 656\n"
          ]
        }
      ]
    },
    {
      "cell_type": "markdown",
      "source": [
        "**iii) SVM with L2 regulariser**"
      ],
      "metadata": {
        "id": "0rM-MkYfkQ1U"
      }
    },
    {
      "cell_type": "code",
      "source": [
        "kfold = KFold(n_splits=5, shuffle=True, random_state=42)\n",
        "param_grid = {'C': [0.001, 0.01, 0.1, 1, 10, 100]}\n",
        "model = LinearSVC(penalty='l2', dual=False)\n",
        "grid_search = GridSearchCV(model, param_grid, cv=kfold, n_jobs=-1)\n",
        "grid_search.fit(X_train, Y_train)\n",
        "print(\"Best hyperparameters: \", grid_search.best_params_)\n",
        "best_model = grid_search.best_estimator_\n",
        "Y_pred_train_SVM_L1 = best_model.predict(X_train)\n",
        "Y_pred_test_SVM_L1 = best_model.predict(X_test)\n",
        "lr_nonzero = np.count_nonzero(best_model.coef_)\n",
        "print('no. of non zero coefficients:', lr_nonzero)"
      ],
      "metadata": {
        "colab": {
          "base_uri": "https://localhost:8080/"
        },
        "id": "AnLEf4kFihvz",
        "outputId": "f5d370e2-725b-4a17-e5da-1b99738da3a8"
      },
      "execution_count": 24,
      "outputs": [
        {
          "output_type": "stream",
          "name": "stdout",
          "text": [
            "Best hyperparameters:  {'C': 0.01}\n",
            "no. of non zero coefficients: 48117\n"
          ]
        }
      ]
    },
    {
      "cell_type": "markdown",
      "source": [
        "**iv) SVM with L1 regulariser**"
      ],
      "metadata": {
        "id": "Uq1y-V_uE1HJ"
      }
    },
    {
      "cell_type": "code",
      "source": [
        "kfold = KFold(n_splits=5, shuffle=True, random_state=42)\n",
        "param_grid = {'C': [0.001, 0.01, 0.1, 1, 10, 100]}\n",
        "model = LinearSVC(penalty='l1', dual=False)\n",
        "grid_search = GridSearchCV(model, param_grid, cv=kfold, n_jobs=-1)\n",
        "grid_search.fit(X_train, Y_train)\n",
        "print(\"Best hyperparameters: \", grid_search.best_params_)\n",
        "best_model = grid_search.best_estimator_\n",
        "Y_pred_train_SVM_L2 = best_model.predict(X_train)\n",
        "Y_pred_test_SVM_L2 = best_model.predict(X_test)\n",
        "lr_nonzero = np.count_nonzero(best_model.coef_)\n",
        "lr_nonzero"
      ],
      "metadata": {
        "colab": {
          "base_uri": "https://localhost:8080/"
        },
        "id": "MdMALHkCi7v7",
        "outputId": "49e55282-0d48-4584-ca1c-c3c9e33352d0"
      },
      "execution_count": 25,
      "outputs": [
        {
          "output_type": "stream",
          "name": "stdout",
          "text": [
            "Best hyperparameters:  {'C': 100}\n"
          ]
        },
        {
          "output_type": "execute_result",
          "data": {
            "text/plain": [
              "1590"
            ]
          },
          "metadata": {},
          "execution_count": 25
        }
      ]
    },
    {
      "cell_type": "code",
      "source": [
        "                                                        # TAKING TOO MUCH TIME\n",
        "# param_grid = {'gamma': [0.01, 0.1, 1, 10]}\n",
        "# svc = SVC(kernel='rbf')\n",
        "# grid_search = GridSearchCV(svc, param_grid, cv=5)\n",
        "# grid_search.fit(X_train, Y_train)\n",
        "# best_model = grid_search.best_estimator_\n",
        "# Y_pred_train = best_model.predict(X_train)\n",
        "# Y_pred_test = best_model.predict(X_test)"
      ],
      "metadata": {
        "id": "zWjT60d4kP9Z"
      },
      "execution_count": 26,
      "outputs": []
    },
    {
      "cell_type": "markdown",
      "source": [
        "**v) KNN**"
      ],
      "metadata": {
        "id": "qKI0d06GgZw2"
      }
    },
    {
      "cell_type": "code",
      "source": [
        "from sklearn.neighbors import KNeighborsClassifier\n",
        "knn = KNeighborsClassifier()\n",
        "param_grid = {'n_neighbors': [3, 5, 7]}\n",
        "grid_search = GridSearchCV(knn, param_grid=param_grid, cv=5)\n",
        "grid_search.fit(X_train, Y_train)\n",
        "best_model = grid_search.best_estimator_\n",
        "Y_pred_train_KNN = best_model.predict(X_train)\n",
        "Y_pred_test_KNN = best_model.predict(X_test)"
      ],
      "metadata": {
        "id": "qSsOwLsyoj3A"
      },
      "execution_count": 27,
      "outputs": []
    },
    {
      "cell_type": "markdown",
      "source": [
        "**vi) Decision Tree**"
      ],
      "metadata": {
        "id": "O0qUOCFNfiET"
      }
    },
    {
      "cell_type": "code",
      "source": [
        "from sklearn.tree import DecisionTreeClassifier\n",
        "param_grid = {'min_weight_fraction_leaf': [0.0, 0.1, 0.2, 0.3, 0.4, 0.5]}\n",
        "dtc = DecisionTreeClassifier()\n",
        "grid_search = GridSearchCV(dtc, param_grid, cv=5, scoring='accuracy')\n",
        "grid_search.fit(X_train, Y_train)\n",
        "print(\"Best hyperparameters: \", grid_search.best_params_)\n",
        "best_model = grid_search.best_estimator_\n",
        "Y_pred_train_DT = best_model.predict(X_train)\n",
        "Y_pred_test_DT = best_model.predict(X_test)"
      ],
      "metadata": {
        "colab": {
          "base_uri": "https://localhost:8080/"
        },
        "id": "_OVteysst07F",
        "outputId": "284851f5-c28a-4dc8-a408-dc7d9d572f40"
      },
      "execution_count": 28,
      "outputs": [
        {
          "output_type": "stream",
          "name": "stdout",
          "text": [
            "Best hyperparameters:  {'min_weight_fraction_leaf': 0.0}\n"
          ]
        }
      ]
    },
    {
      "cell_type": "markdown",
      "source": [
        "**vi) Random Forest**"
      ],
      "metadata": {
        "id": "LbdNbIKYfnAX"
      }
    },
    {
      "cell_type": "code",
      "source": [
        "from sklearn.ensemble import RandomForestClassifier\n",
        "rf = RandomForestClassifier(random_state=42)\n",
        "param_grid = {'n_estimators': [50, 100, 150]}\n",
        "grid_search = GridSearchCV(estimator=rf, param_grid=param_grid, cv=5, n_jobs=-1)\n",
        "grid_search.fit(X_train, Y_train)\n",
        "best_model = grid_search.best_estimator_\n",
        "Y_pred_train_RF = best_model.predict(X_train)\n",
        "Y_pred_test_RF = best_model.predict(X_test)\n",
        "print(\"Best hyperparameters: \", grid_search.best_params_)"
      ],
      "metadata": {
        "colab": {
          "base_uri": "https://localhost:8080/"
        },
        "id": "PlyKOrB8WYRa",
        "outputId": "4aa8226c-4506-4510-b657-c686e9031433"
      },
      "execution_count": 29,
      "outputs": [
        {
          "output_type": "stream",
          "name": "stdout",
          "text": [
            "Best hyperparameters:  {'n_estimators': 50}\n"
          ]
        }
      ]
    },
    {
      "cell_type": "markdown",
      "source": [
        "Defining a function for accuracy, precision, recall, specificity and senstivity values "
      ],
      "metadata": {
        "id": "1n-PwynVrTsM"
      }
    },
    {
      "cell_type": "code",
      "source": [
        "def Table(Y_train, Y_pred_train,Y_test, Y_pred_test):\n",
        "  accuracy_train = accuracy_score(Y_train, Y_pred_train)\n",
        "  accuracy_test = accuracy_score(Y_test, Y_pred_test)\n",
        "  precision_train = precision_score(Y_train, Y_pred_train)\n",
        "  precision_test = precision_score(Y_test, Y_pred_test)\n",
        "  recall_train = recall_score(Y_train, Y_pred_train)\n",
        "  recall_train = recall_score(Y_test, Y_pred_test)\n",
        "  tn_train, fp_train, fn_train, tp_train = confusion_matrix(Y_train, Y_pred_train).ravel()\n",
        "  tn_test, fp_test, fn_test, tp_test = confusion_matrix(Y_test, Y_pred_test).ravel()\n",
        "  specificity_train = tn_train / (tn_train + fp_train)\n",
        "  specificity_test = tn_test / (tn_test + fp_test)\n",
        "  sensitivity_train = tp_train / (tp_train + fn_train)\n",
        "  sensitivity_test = tp_test / (tp_test + fn_test)\n",
        "  return accuracy_train, accuracy_test, precision_train, precision_test, recall_train, recall_train, specificity_train, specificity_test, sensitivity_train, sensitivity_test"
      ],
      "metadata": {
        "id": "yc13GewwDPGu"
      },
      "execution_count": 30,
      "outputs": []
    },
    {
      "cell_type": "markdown",
      "source": [
        "Accuracy, precision, recall, specificity and senstivity values for different methods "
      ],
      "metadata": {
        "id": "XuCoA4-zrbCA"
      }
    },
    {
      "cell_type": "code",
      "source": [
        "LR_L2_metrics = Table(Y_train, Y_pred_train_LR_L2, Y_test, Y_pred_test_LR_L2)\n",
        "LR_L1_metrics = Table(Y_train, Y_pred_train_LR_L1, Y_test, Y_pred_test_LR_L1)\n",
        "SVM_L2_metrics = Table(Y_train, Y_pred_train_SVM_L2, Y_test, Y_pred_test_SVM_L2)\n",
        "SVM_L1_metrics = Table(Y_train, Y_pred_train_SVM_L1, Y_test, Y_pred_test_SVM_L1)\n",
        "KNN_metrics = Table(Y_train, Y_pred_train_KNN, Y_test, Y_pred_test_KNN)\n",
        "DT_metrics = Table(Y_train, Y_pred_train_DT, Y_test, Y_pred_test_DT)\n",
        "RF_metrics = Table(Y_train, Y_pred_train_RF, Y_test, Y_pred_test_RF)\n",
        "print(LR_L2_metrics)\n",
        "print(LR_L1_metrics)\n",
        "print(SVM_L2_metrics)\n",
        "print(SVM_L1_metrics)\n",
        "print(KNN_metrics)\n",
        "print(DT_metrics)\n",
        "print(RF_metrics)"
      ],
      "metadata": {
        "colab": {
          "base_uri": "https://localhost:8080/"
        },
        "id": "ROF8lUCLDRrF",
        "outputId": "4a878780-d99a-4eb1-fb92-a736d4c674c2"
      },
      "execution_count": 31,
      "outputs": [
        {
          "output_type": "stream",
          "name": "stdout",
          "text": [
            "(0.9981894990947495, 0.9034981905910736, 0.9983098591549295, 0.8867102396514162, 0.9356321839080459, 0.9356321839080459, 0.9980506822612085, 0.868020304568528, 0.9983098591549295, 0.9356321839080459)\n",
            "(0.9891369945684972, 0.8866103739445115, 0.9854829704075935, 0.8763796909492274, 0.9126436781609195, 0.9126436781609195, 0.9831059129304743, 0.8578680203045685, 0.9943661971830986, 0.9126436781609195)\n",
            "(0.9990947495473748, 0.8902291917973462, 0.9994363021420518, 0.8805309734513275, 0.9149425287356322, 0.9149425287356322, 0.9993502274204028, 0.8629441624365483, 0.9988732394366198, 0.9149425287356322)\n",
            "(0.9900422450211225, 0.9131483715319663, 0.9876819708846585, 0.8903225806451613, 0.9517241379310345, 0.9517241379310345, 0.9857050032488629, 0.8705583756345178, 0.9938028169014085, 0.9517241379310345)\n",
            "(0.8527459263729632, 0.781664656212304, 0.9735099337748344, 0.9319727891156463, 0.6298850574712643, 0.6298850574712643, 0.9766081871345029, 0.949238578680203, 0.7453521126760564, 0.6298850574712643)\n",
            "(0.9990947495473748, 0.8817852834740652, 0.9994363021420518, 0.8671023965141612, 0.9149425287356322, 0.9149425287356322, 0.9993502274204028, 0.8451776649746193, 0.9988732394366198, 0.9149425287356322)\n",
            "(0.9990947495473748, 0.8841978287092883, 0.9994363021420518, 0.845213849287169, 0.9540229885057471, 0.9540229885057471, 0.9993502274204028, 0.8071065989847716, 0.9988732394366198, 0.9540229885057471)\n"
          ]
        }
      ]
    },
    {
      "cell_type": "code",
      "source": [
        "Array = [LR_L2_metrics,LR_L1_metrics, SVM_L2_metrics, SVM_L1_metrics, KNN_metrics, DT_metrics, RF_metrics ]"
      ],
      "metadata": {
        "id": "BahxLYdLcQo6"
      },
      "execution_count": 32,
      "outputs": []
    },
    {
      "cell_type": "code",
      "source": [
        "Array = np.round(Array, 3)\n",
        "Array"
      ],
      "metadata": {
        "id": "rcNasmCggyRd",
        "colab": {
          "base_uri": "https://localhost:8080/"
        },
        "outputId": "83b85bb1-c372-415d-e44b-d362b30c3355"
      },
      "execution_count": 33,
      "outputs": [
        {
          "output_type": "execute_result",
          "data": {
            "text/plain": [
              "array([[0.998, 0.903, 0.998, 0.887, 0.936, 0.936, 0.998, 0.868, 0.998,\n",
              "        0.936],\n",
              "       [0.989, 0.887, 0.985, 0.876, 0.913, 0.913, 0.983, 0.858, 0.994,\n",
              "        0.913],\n",
              "       [0.999, 0.89 , 0.999, 0.881, 0.915, 0.915, 0.999, 0.863, 0.999,\n",
              "        0.915],\n",
              "       [0.99 , 0.913, 0.988, 0.89 , 0.952, 0.952, 0.986, 0.871, 0.994,\n",
              "        0.952],\n",
              "       [0.853, 0.782, 0.974, 0.932, 0.63 , 0.63 , 0.977, 0.949, 0.745,\n",
              "        0.63 ],\n",
              "       [0.999, 0.882, 0.999, 0.867, 0.915, 0.915, 0.999, 0.845, 0.999,\n",
              "        0.915],\n",
              "       [0.999, 0.884, 0.999, 0.845, 0.954, 0.954, 0.999, 0.807, 0.999,\n",
              "        0.954]])"
            ]
          },
          "metadata": {},
          "execution_count": 33
        }
      ]
    },
    {
      "cell_type": "markdown",
      "source": [
        "**Tabulating the accuracy, precision, recall, specificity and senstivity values for training set and test set for each model**"
      ],
      "metadata": {
        "id": "wE5PphvarfeR"
      }
    },
    {
      "cell_type": "code",
      "source": [
        "Tab = pd.DataFrame(Array, columns = ['accuracy_train', 'accuracy_test', 'precision_train', 'precision_test', 'recall_train', 'recall_train', 'specificity_train', 'specificity_test', 'sensitivity_train', 'sensitivity_test'],index=['Log Reg L2', 'Log Reg L1', 'SVM L2', 'SVM L1', 'KNN', 'Decision Tree', 'Random Forest'])\n",
        "Tab"
      ],
      "metadata": {
        "id": "eL7ynL9SjYV9",
        "colab": {
          "base_uri": "https://localhost:8080/",
          "height": 269
        },
        "outputId": "adc0e405-011c-49e9-b5dc-edfa15be7901"
      },
      "execution_count": 34,
      "outputs": [
        {
          "output_type": "execute_result",
          "data": {
            "text/plain": [
              "               accuracy_train  accuracy_test  precision_train  precision_test  \\\n",
              "Log Reg L2              0.998          0.903            0.998           0.887   \n",
              "Log Reg L1              0.989          0.887            0.985           0.876   \n",
              "SVM L2                  0.999          0.890            0.999           0.881   \n",
              "SVM L1                  0.990          0.913            0.988           0.890   \n",
              "KNN                     0.853          0.782            0.974           0.932   \n",
              "Decision Tree           0.999          0.882            0.999           0.867   \n",
              "Random Forest           0.999          0.884            0.999           0.845   \n",
              "\n",
              "               recall_train  recall_train  specificity_train  \\\n",
              "Log Reg L2            0.936         0.936              0.998   \n",
              "Log Reg L1            0.913         0.913              0.983   \n",
              "SVM L2                0.915         0.915              0.999   \n",
              "SVM L1                0.952         0.952              0.986   \n",
              "KNN                   0.630         0.630              0.977   \n",
              "Decision Tree         0.915         0.915              0.999   \n",
              "Random Forest         0.954         0.954              0.999   \n",
              "\n",
              "               specificity_test  sensitivity_train  sensitivity_test  \n",
              "Log Reg L2                0.868              0.998             0.936  \n",
              "Log Reg L1                0.858              0.994             0.913  \n",
              "SVM L2                    0.863              0.999             0.915  \n",
              "SVM L1                    0.871              0.994             0.952  \n",
              "KNN                       0.949              0.745             0.630  \n",
              "Decision Tree             0.845              0.999             0.915  \n",
              "Random Forest             0.807              0.999             0.954  "
            ],
            "text/html": [
              "\n",
              "  <div id=\"df-3937b265-38f5-4ba0-ae76-89a3e6caafed\">\n",
              "    <div class=\"colab-df-container\">\n",
              "      <div>\n",
              "<style scoped>\n",
              "    .dataframe tbody tr th:only-of-type {\n",
              "        vertical-align: middle;\n",
              "    }\n",
              "\n",
              "    .dataframe tbody tr th {\n",
              "        vertical-align: top;\n",
              "    }\n",
              "\n",
              "    .dataframe thead th {\n",
              "        text-align: right;\n",
              "    }\n",
              "</style>\n",
              "<table border=\"1\" class=\"dataframe\">\n",
              "  <thead>\n",
              "    <tr style=\"text-align: right;\">\n",
              "      <th></th>\n",
              "      <th>accuracy_train</th>\n",
              "      <th>accuracy_test</th>\n",
              "      <th>precision_train</th>\n",
              "      <th>precision_test</th>\n",
              "      <th>recall_train</th>\n",
              "      <th>recall_train</th>\n",
              "      <th>specificity_train</th>\n",
              "      <th>specificity_test</th>\n",
              "      <th>sensitivity_train</th>\n",
              "      <th>sensitivity_test</th>\n",
              "    </tr>\n",
              "  </thead>\n",
              "  <tbody>\n",
              "    <tr>\n",
              "      <th>Log Reg L2</th>\n",
              "      <td>0.998</td>\n",
              "      <td>0.903</td>\n",
              "      <td>0.998</td>\n",
              "      <td>0.887</td>\n",
              "      <td>0.936</td>\n",
              "      <td>0.936</td>\n",
              "      <td>0.998</td>\n",
              "      <td>0.868</td>\n",
              "      <td>0.998</td>\n",
              "      <td>0.936</td>\n",
              "    </tr>\n",
              "    <tr>\n",
              "      <th>Log Reg L1</th>\n",
              "      <td>0.989</td>\n",
              "      <td>0.887</td>\n",
              "      <td>0.985</td>\n",
              "      <td>0.876</td>\n",
              "      <td>0.913</td>\n",
              "      <td>0.913</td>\n",
              "      <td>0.983</td>\n",
              "      <td>0.858</td>\n",
              "      <td>0.994</td>\n",
              "      <td>0.913</td>\n",
              "    </tr>\n",
              "    <tr>\n",
              "      <th>SVM L2</th>\n",
              "      <td>0.999</td>\n",
              "      <td>0.890</td>\n",
              "      <td>0.999</td>\n",
              "      <td>0.881</td>\n",
              "      <td>0.915</td>\n",
              "      <td>0.915</td>\n",
              "      <td>0.999</td>\n",
              "      <td>0.863</td>\n",
              "      <td>0.999</td>\n",
              "      <td>0.915</td>\n",
              "    </tr>\n",
              "    <tr>\n",
              "      <th>SVM L1</th>\n",
              "      <td>0.990</td>\n",
              "      <td>0.913</td>\n",
              "      <td>0.988</td>\n",
              "      <td>0.890</td>\n",
              "      <td>0.952</td>\n",
              "      <td>0.952</td>\n",
              "      <td>0.986</td>\n",
              "      <td>0.871</td>\n",
              "      <td>0.994</td>\n",
              "      <td>0.952</td>\n",
              "    </tr>\n",
              "    <tr>\n",
              "      <th>KNN</th>\n",
              "      <td>0.853</td>\n",
              "      <td>0.782</td>\n",
              "      <td>0.974</td>\n",
              "      <td>0.932</td>\n",
              "      <td>0.630</td>\n",
              "      <td>0.630</td>\n",
              "      <td>0.977</td>\n",
              "      <td>0.949</td>\n",
              "      <td>0.745</td>\n",
              "      <td>0.630</td>\n",
              "    </tr>\n",
              "    <tr>\n",
              "      <th>Decision Tree</th>\n",
              "      <td>0.999</td>\n",
              "      <td>0.882</td>\n",
              "      <td>0.999</td>\n",
              "      <td>0.867</td>\n",
              "      <td>0.915</td>\n",
              "      <td>0.915</td>\n",
              "      <td>0.999</td>\n",
              "      <td>0.845</td>\n",
              "      <td>0.999</td>\n",
              "      <td>0.915</td>\n",
              "    </tr>\n",
              "    <tr>\n",
              "      <th>Random Forest</th>\n",
              "      <td>0.999</td>\n",
              "      <td>0.884</td>\n",
              "      <td>0.999</td>\n",
              "      <td>0.845</td>\n",
              "      <td>0.954</td>\n",
              "      <td>0.954</td>\n",
              "      <td>0.999</td>\n",
              "      <td>0.807</td>\n",
              "      <td>0.999</td>\n",
              "      <td>0.954</td>\n",
              "    </tr>\n",
              "  </tbody>\n",
              "</table>\n",
              "</div>\n",
              "      <button class=\"colab-df-convert\" onclick=\"convertToInteractive('df-3937b265-38f5-4ba0-ae76-89a3e6caafed')\"\n",
              "              title=\"Convert this dataframe to an interactive table.\"\n",
              "              style=\"display:none;\">\n",
              "        \n",
              "  <svg xmlns=\"http://www.w3.org/2000/svg\" height=\"24px\"viewBox=\"0 0 24 24\"\n",
              "       width=\"24px\">\n",
              "    <path d=\"M0 0h24v24H0V0z\" fill=\"none\"/>\n",
              "    <path d=\"M18.56 5.44l.94 2.06.94-2.06 2.06-.94-2.06-.94-.94-2.06-.94 2.06-2.06.94zm-11 1L8.5 8.5l.94-2.06 2.06-.94-2.06-.94L8.5 2.5l-.94 2.06-2.06.94zm10 10l.94 2.06.94-2.06 2.06-.94-2.06-.94-.94-2.06-.94 2.06-2.06.94z\"/><path d=\"M17.41 7.96l-1.37-1.37c-.4-.4-.92-.59-1.43-.59-.52 0-1.04.2-1.43.59L10.3 9.45l-7.72 7.72c-.78.78-.78 2.05 0 2.83L4 21.41c.39.39.9.59 1.41.59.51 0 1.02-.2 1.41-.59l7.78-7.78 2.81-2.81c.8-.78.8-2.07 0-2.86zM5.41 20L4 18.59l7.72-7.72 1.47 1.35L5.41 20z\"/>\n",
              "  </svg>\n",
              "      </button>\n",
              "      \n",
              "  <style>\n",
              "    .colab-df-container {\n",
              "      display:flex;\n",
              "      flex-wrap:wrap;\n",
              "      gap: 12px;\n",
              "    }\n",
              "\n",
              "    .colab-df-convert {\n",
              "      background-color: #E8F0FE;\n",
              "      border: none;\n",
              "      border-radius: 50%;\n",
              "      cursor: pointer;\n",
              "      display: none;\n",
              "      fill: #1967D2;\n",
              "      height: 32px;\n",
              "      padding: 0 0 0 0;\n",
              "      width: 32px;\n",
              "    }\n",
              "\n",
              "    .colab-df-convert:hover {\n",
              "      background-color: #E2EBFA;\n",
              "      box-shadow: 0px 1px 2px rgba(60, 64, 67, 0.3), 0px 1px 3px 1px rgba(60, 64, 67, 0.15);\n",
              "      fill: #174EA6;\n",
              "    }\n",
              "\n",
              "    [theme=dark] .colab-df-convert {\n",
              "      background-color: #3B4455;\n",
              "      fill: #D2E3FC;\n",
              "    }\n",
              "\n",
              "    [theme=dark] .colab-df-convert:hover {\n",
              "      background-color: #434B5C;\n",
              "      box-shadow: 0px 1px 3px 1px rgba(0, 0, 0, 0.15);\n",
              "      filter: drop-shadow(0px 1px 2px rgba(0, 0, 0, 0.3));\n",
              "      fill: #FFFFFF;\n",
              "    }\n",
              "  </style>\n",
              "\n",
              "      <script>\n",
              "        const buttonEl =\n",
              "          document.querySelector('#df-3937b265-38f5-4ba0-ae76-89a3e6caafed button.colab-df-convert');\n",
              "        buttonEl.style.display =\n",
              "          google.colab.kernel.accessAllowed ? 'block' : 'none';\n",
              "\n",
              "        async function convertToInteractive(key) {\n",
              "          const element = document.querySelector('#df-3937b265-38f5-4ba0-ae76-89a3e6caafed');\n",
              "          const dataTable =\n",
              "            await google.colab.kernel.invokeFunction('convertToInteractive',\n",
              "                                                     [key], {});\n",
              "          if (!dataTable) return;\n",
              "\n",
              "          const docLinkHtml = 'Like what you see? Visit the ' +\n",
              "            '<a target=\"_blank\" href=https://colab.research.google.com/notebooks/data_table.ipynb>data table notebook</a>'\n",
              "            + ' to learn more about interactive tables.';\n",
              "          element.innerHTML = '';\n",
              "          dataTable['output_type'] = 'display_data';\n",
              "          await google.colab.output.renderOutput(dataTable, element);\n",
              "          const docLink = document.createElement('div');\n",
              "          docLink.innerHTML = docLinkHtml;\n",
              "          element.appendChild(docLink);\n",
              "        }\n",
              "      </script>\n",
              "    </div>\n",
              "  </div>\n",
              "  "
            ]
          },
          "metadata": {},
          "execution_count": 34
        }
      ]
    },
    {
      "cell_type": "markdown",
      "source": [
        "Comparison of sparcity of L1 and L2 regulariser\n",
        "\n",
        "**As we can see that the no. of non-zero coefficients obtained in logistic Regression and SVM using L1 regulariser is 1878 and 1559 respectively, whereas in the case of L2 regulariser, the value is 48117 which is significantly higher and this is sufficient t oprove that L1 regularization encourages sparsity in the model, while L2 regularization does not necessarily lead to sparse models.**\n",
        "\n",
        "**This reason is because L1 regularization tends to force some coefficients to zero, effectively removing them from the model and resulting in a sparse model.**"
      ],
      "metadata": {
        "id": "AoL10QASnJ--"
      }
    }
  ]
}